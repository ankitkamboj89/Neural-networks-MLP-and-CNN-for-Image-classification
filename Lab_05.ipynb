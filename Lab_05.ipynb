{
 "cells": [
  {
   "cell_type": "markdown",
   "metadata": {
    "id": "dyO1mz3TTGMd"
   },
   "source": [
    "# ML-lab_05"
   ]
  },
  {
   "cell_type": "markdown",
   "metadata": {
    "id": "lW6k0lWKTOp2"
   },
   "source": [
    "**Loading Data**"
   ]
  },
  {
   "cell_type": "code",
   "execution_count": 58,
   "metadata": {
    "id": "mUCGJl23YjK0"
   },
   "outputs": [],
   "source": [
    "import numpy as np\n",
    "\n",
    "%matplotlib inline\n",
    "import matplotlib as mpl\n",
    "import matplotlib.pyplot as plt\n",
    "\n",
    "import tensorflow as tf\n",
    "from tensorflow import keras\n",
    "\n",
    "import os\n",
    "import pickle\n",
    "\n",
    "#import other packages needed for the project below this line\n",
    "from keras.callbacks import EarlyStopping\n",
    "import pandas as pd\n",
    "from sklearn.metrics import classification_report,confusion_matrix\n",
    "from keras.models import load_model"
   ]
  },
  {
   "cell_type": "code",
   "execution_count": 59,
   "metadata": {
    "colab": {
     "base_uri": "https://localhost:8080/"
    },
    "id": "1Mdh-TuxY9lm",
    "outputId": "5a9eaeaf-e9f9-4d9f-900f-ca3c0502f1e3"
   },
   "outputs": [
    {
     "name": "stdout",
     "output_type": "stream",
     "text": [
      "Drive already mounted at /content/drive/; to attempt to forcibly remount, call drive.mount(\"/content/drive/\", force_remount=True).\n"
     ]
    }
   ],
   "source": [
    "from google.colab import drive\n",
    "\n",
    "drive.mount ('/content/drive/')"
   ]
  },
  {
   "cell_type": "code",
   "execution_count": 60,
   "metadata": {
    "id": "S9OAhJFUZD_m"
   },
   "outputs": [],
   "source": [
    " pathname = os.path.join('drive','My Drive', 'CITS5508')"
   ]
  },
  {
   "cell_type": "code",
   "execution_count": 61,
   "metadata": {
    "id": "ALx5-36cZQ_A"
   },
   "outputs": [],
   "source": [
    "def load_pickle_file(filename, path='.'):\n",
    "    '''\n",
    "    This function reads the given pickle file and returns a dictionary object.\n",
    "    '''\n",
    "    with open(os.path.join(path,filename), 'rb') as f:\n",
    "        dict = pickle.load(f, encoding='bytes')\n",
    "    return dict"
   ]
  },
  {
   "cell_type": "code",
   "execution_count": 62,
   "metadata": {
    "id": "fd9-1rhdZVKp"
   },
   "outputs": [],
   "source": [
    "def load_training(filename_prefix, N_batches, path='.', height=32, width=32, Nchannels=3):\n",
    "    '''\n",
    "    This function reads the 5 data batches and returns the X_train and y_train numpy arrays.\n",
    "    To save memory space, X_train is set to 'float32' (single precision floating point numbers).\n",
    "    If this causes an issue, it can be set to 'float64'. y_train is set to uint8. This is\n",
    "    the same data type as used in the MNIST dataset, so it should be fine.\n",
    "    '''\n",
    "    batch_no = range(1,N_batches+1)  # the batch numbers start at 1\n",
    "    # Read in the data_batch_ files\n",
    "    batches = [load_pickle_file(filename_prefix+str(b), path=path) for b in batch_no]\n",
    "\n",
    "    # variable batches is a list containing 5 elements, each of which is a dictionary object\n",
    "\n",
    "    # compose our X_train and y_train\n",
    "    # according to the download site, the training set should have 50,000 instances. We caldulate\n",
    "    # the length from the dictionary that we read in anyway.\n",
    "    batch_sizes = [len(batches[i][b'labels']) for i in range(N_batches)]\n",
    "    train_set_size = np.sum(batch_sizes)\n",
    "    \n",
    "    X_train = np.zeros((train_set_size, width, height, Nchannels), dtype='float32')\n",
    "    y_train = np.zeros(train_set_size).astype('uint8')\n",
    "    loc = 0\n",
    "    for i in range(N_batches):\n",
    "        X_train[loc:(loc+batch_sizes[i]),:,:,:] = np.rollaxis(\n",
    "            np.reshape(batches[i][b'data'], (-1,Nchannels,height,width)), 1, 4) / 255.0\n",
    "        y_train[loc:(loc+batch_sizes[i])] = batches[i][b'labels']\n",
    "        loc += batch_sizes[i]\n",
    "    return X_train, y_train"
   ]
  },
  {
   "cell_type": "code",
   "execution_count": 63,
   "metadata": {
    "id": "ejSvAt3jZaNp"
   },
   "outputs": [],
   "source": [
    "def load_testing(filename, path='.', height=32, width=32, Nchannels=3):\n",
    "    '''\n",
    "    This function reads the test_batch and returns X_test and y_test.\n",
    "    To save memory space, X_test is set to 'float32' (single precision floating point numbers).\n",
    "    If this causes an issue, it can be set to 'float64'. y_test is set to uint8. This is\n",
    "    the same data type as used in the MNIST dataset, so it should be fine.\n",
    "    '''\n",
    "    # now read test_batch and construct the test set\n",
    "    test_dict = load_pickle_file(filename, path=path)\n",
    "    \n",
    "    X_test = np.rollaxis(np.reshape(test_dict[b'data'], (-1,Nchannels,height,width)), 1, 4) / 255.0\n",
    "    X_test = X_test.astype('float32')\n",
    "    y_test = np.array(test_dict[b'labels'], dtype='uint8')\n",
    "    return X_test, y_test"
   ]
  },
  {
   "cell_type": "code",
   "execution_count": 64,
   "metadata": {
    "colab": {
     "base_uri": "https://localhost:8080/"
    },
    "id": "BWtvvYjjZqxa",
    "outputId": "aa121ae2-ccf7-4cc3-d00a-f1626dfec710"
   },
   "outputs": [
    {
     "name": "stdout",
     "output_type": "stream",
     "text": [
      "Number of training instances: 50000\n",
      "Number of test instances:     10000\n"
     ]
    }
   ],
   "source": [
    "image_width, image_height, image_Nchannels = 32, 32, 3\n",
    "class_names = ['airplane', 'automobile', 'bird', 'cat', 'deer',\n",
    "               'dog', 'frog', 'horse', 'ship', 'truck']\n",
    "\n",
    "N_batches = 5  \n",
    "train_filename_prefix = 'data_batch_'\n",
    "test_filename = 'test_batch'\n",
    "\n",
    "X_full, y_full = load_training(train_filename_prefix, N_batches, path=pathname)\n",
    "X_test, y_test = load_testing(test_filename, path=pathname)\n",
    "\n",
    "full_set_size = X_full.shape[0]\n",
    "test_set_size = X_test.shape[0]\n",
    "print('Number of training instances:', full_set_size)\n",
    "print('Number of test instances:    ', test_set_size)"
   ]
  },
  {
   "cell_type": "markdown",
   "metadata": {
    "id": "Bl_Re7-WTV5M"
   },
   "source": [
    "***Creating testing and Valid Set***"
   ]
  },
  {
   "cell_type": "code",
   "execution_count": 65,
   "metadata": {
    "id": "_BsbdInwrCsE"
   },
   "outputs": [],
   "source": [
    "X_train=X_full[:42500,:,:,:] \n",
    "y_train=y_full[:42500]"
   ]
  },
  {
   "cell_type": "code",
   "execution_count": 66,
   "metadata": {
    "id": "zQCh2F2xseLT"
   },
   "outputs": [],
   "source": [
    "X_valid=X_full[42500:,:,:,:] \n",
    "y_valid=y_full[42500:]"
   ]
  },
  {
   "cell_type": "code",
   "execution_count": 67,
   "metadata": {
    "id": "8l8qLdysCU5I"
   },
   "outputs": [],
   "source": [
    "import keras\n",
    "y_train = tf.keras.utils.to_categorical(y_train, num_classes=10)\n",
    "y_valid = tf.keras.utils.to_categorical(y_valid, num_classes=10)\n",
    "y_test = tf.keras.utils.to_categorical(y_test, num_classes=10)"
   ]
  },
  {
   "cell_type": "markdown",
   "metadata": {
    "id": "RDV4Huj4tmHq"
   },
   "source": [
    "**Visualising Some picture from Training set**"
   ]
  },
  {
   "cell_type": "code",
   "execution_count": 68,
   "metadata": {
    "id": "NWIicM28UQYB"
   },
   "outputs": [],
   "source": [
    "LABELS = {\n",
    "    0: 'airplane',\n",
    "    1: 'automobile',\n",
    "    2: 'bird',\n",
    "    3: 'cat',\n",
    "    4: 'deer',\n",
    "    5: 'dog',\n",
    "    6: 'frog',\n",
    "    7: 'horse',\n",
    "    8: 'ship',\n",
    "    9: 'truck'\n",
    "}\n",
    "def visualise_sample_classfications():\n",
    "    # Sample test data\n",
    "    fig, axes = plt.subplots(4, 4, figsize=(10, 10), sharey=True, sharex=True);\n",
    "    \n",
    "    k = 0\n",
    "    for i in range(4):\n",
    "      ix = np.random.randint(0, 42500, size=20)\n",
    "      ex_im = X_train[ix]\n",
    "      ex_lb = y_train[ix]\n",
    "      for j in range(4):\n",
    "          # Switch Axes\n",
    "          ax = axes[i, j]\n",
    "          # Show image\n",
    "          ax.imshow(ex_im[k]);\n",
    "          actual_lab = LABELS[np.argmax(ex_lb[k])]\n",
    "          title = \"{}\".format(actual_lab)\n",
    "          title_color = 'black'\n",
    "          ax.set_title(title, color=title_color);\n",
    "          k += 1"
   ]
  },
  {
   "cell_type": "code",
   "execution_count": 69,
   "metadata": {
    "colab": {
     "base_uri": "https://localhost:8080/",
     "height": 608
    },
    "id": "hcYPrq67VIwO",
    "outputId": "d9488861-d4dd-4aa4-ff67-80bb3f23103e"
   },
   "outputs": [
    {
     "data": {
      "image/png": "[encoded data removed]",
      "text/plain": [
       "<Figure size 720x720 with 16 Axes>"
      ]
     },
     "metadata": {
      "needs_background": "light"
     },
     "output_type": "display_data"
    }
   ],
   "source": [
    "visualise_sample_classfications()"
   ]
  },
  {
   "cell_type": "markdown",
   "metadata": {
    "id": "VnX949jItjnC"
   },
   "source": [
    "**Visualising Some picture from Validation set**"
   ]
  },
  {
   "cell_type": "code",
   "execution_count": 70,
   "metadata": {
    "id": "9-MLH7xYtQHs"
   },
   "outputs": [],
   "source": [
    "LABELS = {\n",
    "    0: 'airplane',\n",
    "    1: 'automobile',\n",
    "    2: 'bird',\n",
    "    3: 'cat',\n",
    "    4: 'deer',\n",
    "    5: 'dog',\n",
    "    6: 'frog',\n",
    "    7: 'horse',\n",
    "    8: 'ship',\n",
    "    9: 'truck'\n",
    "}\n",
    "def visualise_sample_classfications():\n",
    "    # Sample test data\n",
    "    fig, axes = plt.subplots(4, 4, figsize=(10, 10), sharey=True, sharex=True);\n",
    "    \n",
    "    k = 0\n",
    "    for i in range(4):\n",
    "      ix = np.random.randint(0, 7500, size=20)\n",
    "      ex_im = X_valid[ix]\n",
    "      ex_lb = y_valid[ix]\n",
    "      for j in range(4):\n",
    "          # Switch Axes\n",
    "          ax = axes[i, j]\n",
    "          # Show image\n",
    "          ax.imshow(ex_im[k]);\n",
    "          actual_lab = LABELS[np.argmax(ex_lb[k])]\n",
    "          title = \"{}\".format(actual_lab)\n",
    "          title_color = 'black'\n",
    "          ax.set_title(title, color=title_color);\n",
    "          k += 1"
   ]
  },
  {
   "cell_type": "code",
   "execution_count": 71,
   "metadata": {
    "colab": {
     "base_uri": "https://localhost:8080/",
     "height": 608
    },
    "id": "AAqWxOMutV08",
    "outputId": "0d739c91-c92c-4624-f5f1-362590e06063"
   },
   "outputs": [
    {
     "data": {
      "image/png": "[encoded data removed]",
      "text/plain": [
       "<Figure size 720x720 with 16 Axes>"
      ]
     },
     "metadata": {
      "needs_background": "light"
     },
     "output_type": "display_data"
    }
   ],
   "source": [
    "visualise_sample_classfications()"
   ]
  },
  {
   "cell_type": "markdown",
   "metadata": {
    "id": "K3WzOoZOtfQ7"
   },
   "source": [
    "**Visualising Some picture from Test set**"
   ]
  },
  {
   "cell_type": "code",
   "execution_count": 72,
   "metadata": {
    "id": "o0MX441FkJ0I"
   },
   "outputs": [],
   "source": [
    "LABELS = {\n",
    "    0: 'airplane',\n",
    "    1: 'automobile',\n",
    "    2: 'bird',\n",
    "    3: 'cat',\n",
    "    4: 'deer',\n",
    "    5: 'dog',\n",
    "    6: 'frog',\n",
    "    7: 'horse',\n",
    "    8: 'ship',\n",
    "    9: 'truck'\n",
    "}\n",
    "def visualise_sample_classfications():\n",
    "    # Sample test data\n",
    "    fig, axes = plt.subplots(4, 4, figsize=(10, 10), sharey=True, sharex=True);\n",
    "    \n",
    "    k = 0\n",
    "    for i in range(4):\n",
    "      ix = np.random.randint(0, 10000, size=20)\n",
    "      ex_im = X_test[ix]\n",
    "      ex_lb = y_test[ix]\n",
    "      for j in range(4):\n",
    "          # Switch Axes\n",
    "          ax = axes[i, j]\n",
    "          # Show image\n",
    "          ax.imshow(ex_im[k]);\n",
    "          actual_lab = LABELS[np.argmax(ex_lb[k])]\n",
    "          title = \"{}\".format(actual_lab)\n",
    "          title_color = 'black'\n",
    "          ax.set_title(title, color=title_color);\n",
    "          k += 1"
   ]
  },
  {
   "cell_type": "code",
   "execution_count": 73,
   "metadata": {
    "colab": {
     "base_uri": "https://localhost:8080/",
     "height": 608
    },
    "id": "8oGHJUaok9qH",
    "outputId": "802cfeb6-09c2-4919-b882-707be4d2e332"
   },
   "outputs": [
    {
     "data": {
      "image/png": "[encoded data removed]",
      "text/plain": [
       "<Figure size 720x720 with 16 Axes>"
      ]
     },
     "metadata": {
      "needs_background": "light"
     },
     "output_type": "display_data"
    }
   ],
   "source": [
    "visualise_sample_classfications()"
   ]
  },
  {
   "cell_type": "markdown",
   "metadata": {
    "id": "Wfl4NRGDDG7W"
   },
   "source": [
    "# MLP"
   ]
  },
  {
   "cell_type": "markdown",
   "metadata": {
    "id": "_UvU0n12DMFu"
   },
   "source": [
    "model without hyperparameter tuning:"
   ]
  },
  {
   "cell_type": "markdown",
   "metadata": {
    "id": "bzeWJD8BEgtO"
   },
   "source": [
    "we adopt following parameters for the task:\n",
    "\n",
    "*   Sequential model with input dimensions `[32,32,3]`.\n",
    "*   Activation function: `Relu`\n",
    "*   Output layer activation function: `softmax`\n",
    "*   Loss function: `categorical_crossentropy`\n",
    "*   Three hidden dense layers with '128', '64' and '32' neurons."
   ]
  },
  {
   "cell_type": "code",
   "execution_count": 162,
   "metadata": {
    "id": "blhOs3tXEjln"
   },
   "outputs": [],
   "source": [
    "# from tensorflow.keras.optimizers import SGD\n",
    "# from keras.models import Sequential\n",
    "# from keras.layers import Conv2D, Flatten, Dense, Dropout, Activation, MaxPool2D, BatchNormalization\n",
    "\n",
    "# def build_model(kernel_init=\"glorot_uniform\"):\n",
    "#     \"\"\" Uses arguments to build Keras model. \"\"\"\n",
    "#     model = Sequential()\n",
    "#     model.add(Flatten(input_shape=[32, 32, 3]))\n",
    "#     model.add(Dense(128,activation=\"relu\", kernel_initializer=kernel_init))\n",
    "#     model.add(Dense(64,activation=\"relu\", kernel_initializer=kernel_init))\n",
    "#     model.add(Dense(32,activation=\"relu\", kernel_initializer=kernel_init))\n",
    "#     model.add(Dense(10,activation='softmax'))\n",
    "#     model.compile(loss=\"categorical_crossentropy\", optimizer=tf.keras.optimizers.Adam(), metrics=[\"accuracy\"])\n",
    "#     return model"
   ]
  },
  {
   "cell_type": "code",
   "execution_count": 163,
   "metadata": {
    "colab": {
     "base_uri": "https://localhost:8080/"
    },
    "id": "pMD9w89IlzJv",
    "outputId": "5d64142b-02dd-41d3-d73d-6b3184cf61f4"
   },
   "outputs": [
    {
     "name": "stdout",
     "output_type": "stream",
     "text": [
      "Model: \"sequential_21\"\n",
      "_________________________________________________________________\n",
      " Layer (type)                Output Shape              Param #   \n",
      "=================================================================\n",
      " flatten_21 (Flatten)        (None, 3072)              0         \n",
      "                                                                 \n",
      " dense_69 (Dense)            (None, 128)               393344    \n",
      "                                                                 \n",
      " dense_70 (Dense)            (None, 64)                8256      \n",
      "                                                                 \n",
      " dense_71 (Dense)            (None, 32)                2080      \n",
      "                                                                 \n",
      " dense_72 (Dense)            (None, 10)                330       \n",
      "                                                                 \n",
      "=================================================================\n",
      "Total params: 404,010\n",
      "Trainable params: 404,010\n",
      "Non-trainable params: 0\n",
      "_________________________________________________________________\n"
     ]
    }
   ],
   "source": [
    "# build_model().summary()"
   ]
  },
  {
   "cell_type": "code",
   "execution_count": 164,
   "metadata": {
    "colab": {
     "base_uri": "https://localhost:8080/"
    },
    "id": "NMLBsWsMEd6k",
    "outputId": "e4e02751-ce31-4c5a-f2fa-33af277de8ae"
   },
   "outputs": [
    {
     "name": "stdout",
     "output_type": "stream",
     "text": [
      "Epoch 1/100\n",
      "283/283 [==============================] - 2s 5ms/step - loss: 1.9504 - accuracy: 0.2858 - val_loss: 1.8663 - val_accuracy: 0.3388\n",
      "Epoch 2/100\n",
      "283/283 [==============================] - 1s 4ms/step - loss: 1.7626 - accuracy: 0.3647 - val_loss: 1.7254 - val_accuracy: 0.3820\n",
      "Epoch 3/100\n",
      "283/283 [==============================] - 1s 4ms/step - loss: 1.6885 - accuracy: 0.3949 - val_loss: 1.6883 - val_accuracy: 0.3973\n",
      "Epoch 4/100\n",
      "283/283 [==============================] - 1s 4ms/step - loss: 1.6434 - accuracy: 0.4111 - val_loss: 1.6435 - val_accuracy: 0.4119\n",
      "Epoch 5/100\n",
      "283/283 [==============================] - 1s 4ms/step - loss: 1.6063 - accuracy: 0.4252 - val_loss: 1.6300 - val_accuracy: 0.4190\n",
      "Epoch 6/100\n",
      "283/283 [==============================] - 1s 4ms/step - loss: 1.5822 - accuracy: 0.4362 - val_loss: 1.6151 - val_accuracy: 0.4209\n",
      "Epoch 7/100\n",
      "283/283 [==============================] - 1s 4ms/step - loss: 1.5542 - accuracy: 0.4423 - val_loss: 1.6063 - val_accuracy: 0.4248\n",
      "Epoch 8/100\n",
      "283/283 [==============================] - 1s 4ms/step - loss: 1.5304 - accuracy: 0.4539 - val_loss: 1.6315 - val_accuracy: 0.4201\n",
      "Epoch 9/100\n",
      "283/283 [==============================] - 1s 4ms/step - loss: 1.5059 - accuracy: 0.4603 - val_loss: 1.5591 - val_accuracy: 0.4467\n",
      "Epoch 10/100\n",
      "283/283 [==============================] - 1s 4ms/step - loss: 1.4818 - accuracy: 0.4699 - val_loss: 1.5412 - val_accuracy: 0.4453\n",
      "Epoch 11/100\n",
      "283/283 [==============================] - 1s 4ms/step - loss: 1.4675 - accuracy: 0.4734 - val_loss: 1.5726 - val_accuracy: 0.4403\n",
      "Epoch 12/100\n",
      "283/283 [==============================] - 1s 4ms/step - loss: 1.4485 - accuracy: 0.4834 - val_loss: 1.5774 - val_accuracy: 0.4431\n",
      "Epoch 13/100\n",
      "283/283 [==============================] - 1s 4ms/step - loss: 1.4436 - accuracy: 0.4825 - val_loss: 1.5177 - val_accuracy: 0.4585\n",
      "Epoch 14/100\n",
      "283/283 [==============================] - 1s 4ms/step - loss: 1.4198 - accuracy: 0.4911 - val_loss: 1.5347 - val_accuracy: 0.4576\n",
      "Epoch 15/100\n",
      "283/283 [==============================] - 1s 4ms/step - loss: 1.4073 - accuracy: 0.4959 - val_loss: 1.4944 - val_accuracy: 0.4678\n",
      "Epoch 16/100\n",
      "283/283 [==============================] - 1s 4ms/step - loss: 1.3953 - accuracy: 0.5031 - val_loss: 1.6294 - val_accuracy: 0.4229\n",
      "Epoch 17/100\n",
      "283/283 [==============================] - 1s 4ms/step - loss: 1.3896 - accuracy: 0.5042 - val_loss: 1.4922 - val_accuracy: 0.4700\n",
      "Epoch 18/100\n",
      "283/283 [==============================] - 1s 4ms/step - loss: 1.3661 - accuracy: 0.5138 - val_loss: 1.5058 - val_accuracy: 0.4684\n",
      "Epoch 19/100\n",
      "283/283 [==============================] - 1s 4ms/step - loss: 1.3563 - accuracy: 0.5147 - val_loss: 1.5023 - val_accuracy: 0.4720\n",
      "Epoch 20/100\n",
      "283/283 [==============================] - 1s 4ms/step - loss: 1.3453 - accuracy: 0.5193 - val_loss: 1.5436 - val_accuracy: 0.4671\n",
      "Epoch 21/100\n",
      "283/283 [==============================] - 1s 4ms/step - loss: 1.3420 - accuracy: 0.5233 - val_loss: 1.4868 - val_accuracy: 0.4714\n",
      "Epoch 22/100\n",
      "283/283 [==============================] - 1s 4ms/step - loss: 1.3283 - accuracy: 0.5254 - val_loss: 1.5161 - val_accuracy: 0.4649\n",
      "Epoch 23/100\n",
      "283/283 [==============================] - 1s 4ms/step - loss: 1.3281 - accuracy: 0.5268 - val_loss: 1.5398 - val_accuracy: 0.4631\n",
      "Epoch 24/100\n",
      "283/283 [==============================] - 1s 4ms/step - loss: 1.3099 - accuracy: 0.5332 - val_loss: 1.4905 - val_accuracy: 0.4764\n",
      "Epoch 25/100\n",
      "283/283 [==============================] - 1s 4ms/step - loss: 1.3119 - accuracy: 0.5306 - val_loss: 1.4742 - val_accuracy: 0.4822\n",
      "Epoch 26/100\n",
      "283/283 [==============================] - 1s 4ms/step - loss: 1.2958 - accuracy: 0.5378 - val_loss: 1.4708 - val_accuracy: 0.4831\n",
      "Epoch 27/100\n",
      "283/283 [==============================] - 1s 4ms/step - loss: 1.2919 - accuracy: 0.5375 - val_loss: 1.4482 - val_accuracy: 0.4958\n",
      "Epoch 28/100\n",
      "283/283 [==============================] - 1s 4ms/step - loss: 1.2838 - accuracy: 0.5425 - val_loss: 1.4890 - val_accuracy: 0.4731\n",
      "Epoch 29/100\n",
      "283/283 [==============================] - 1s 4ms/step - loss: 1.2803 - accuracy: 0.5407 - val_loss: 1.4728 - val_accuracy: 0.4849\n",
      "Epoch 30/100\n",
      "283/283 [==============================] - 1s 4ms/step - loss: 1.2761 - accuracy: 0.5411 - val_loss: 1.4876 - val_accuracy: 0.4802\n",
      "Epoch 31/100\n",
      "283/283 [==============================] - 1s 4ms/step - loss: 1.2696 - accuracy: 0.5461 - val_loss: 1.4747 - val_accuracy: 0.4904\n",
      "Epoch 32/100\n",
      "283/283 [==============================] - 1s 4ms/step - loss: 1.2508 - accuracy: 0.5554 - val_loss: 1.4973 - val_accuracy: 0.4786\n",
      "Epoch 33/100\n",
      "283/283 [==============================] - 1s 4ms/step - loss: 1.2579 - accuracy: 0.5517 - val_loss: 1.4549 - val_accuracy: 0.4902\n",
      "Epoch 34/100\n",
      "283/283 [==============================] - 1s 4ms/step - loss: 1.2464 - accuracy: 0.5539 - val_loss: 1.4970 - val_accuracy: 0.4776\n",
      "Epoch 35/100\n",
      "283/283 [==============================] - 1s 4ms/step - loss: 1.2344 - accuracy: 0.5578 - val_loss: 1.4880 - val_accuracy: 0.4830\n",
      "Epoch 36/100\n",
      "283/283 [==============================] - 1s 4ms/step - loss: 1.2387 - accuracy: 0.5567 - val_loss: 1.4766 - val_accuracy: 0.4902\n",
      "Epoch 37/100\n",
      "283/283 [==============================] - 1s 4ms/step - loss: 1.2266 - accuracy: 0.5636 - val_loss: 1.4710 - val_accuracy: 0.4814\n",
      "Epoch 38/100\n",
      "283/283 [==============================] - 1s 4ms/step - loss: 1.2282 - accuracy: 0.5601 - val_loss: 1.4726 - val_accuracy: 0.4918\n",
      "Epoch 39/100\n",
      "283/283 [==============================] - 1s 4ms/step - loss: 1.2215 - accuracy: 0.5620 - val_loss: 1.4689 - val_accuracy: 0.4905\n",
      "Epoch 40/100\n",
      "283/283 [==============================] - 1s 4ms/step - loss: 1.2115 - accuracy: 0.5650 - val_loss: 1.5302 - val_accuracy: 0.4756\n",
      "Epoch 41/100\n",
      "283/283 [==============================] - 1s 4ms/step - loss: 1.2104 - accuracy: 0.5663 - val_loss: 1.4815 - val_accuracy: 0.4886\n",
      "Epoch 42/100\n",
      "283/283 [==============================] - 1s 4ms/step - loss: 1.2073 - accuracy: 0.5671 - val_loss: 1.4937 - val_accuracy: 0.4784\n",
      "Epoch 43/100\n",
      "283/283 [==============================] - 1s 4ms/step - loss: 1.1926 - accuracy: 0.5714 - val_loss: 1.4928 - val_accuracy: 0.4896\n",
      "Epoch 44/100\n",
      "283/283 [==============================] - 1s 4ms/step - loss: 1.1906 - accuracy: 0.5733 - val_loss: 1.4952 - val_accuracy: 0.4852\n",
      "Epoch 45/100\n",
      "283/283 [==============================] - 1s 4ms/step - loss: 1.1981 - accuracy: 0.5712 - val_loss: 1.4892 - val_accuracy: 0.4877\n",
      "Epoch 46/100\n",
      "283/283 [==============================] - 1s 4ms/step - loss: 1.1863 - accuracy: 0.5755 - val_loss: 1.4768 - val_accuracy: 0.4927\n",
      "Epoch 47/100\n",
      "283/283 [==============================] - 1s 4ms/step - loss: 1.1809 - accuracy: 0.5753 - val_loss: 1.5025 - val_accuracy: 0.4772\n",
      "Epoch 48/100\n",
      "283/283 [==============================] - 1s 4ms/step - loss: 1.1778 - accuracy: 0.5785 - val_loss: 1.5051 - val_accuracy: 0.4911\n",
      "Epoch 49/100\n",
      "283/283 [==============================] - 1s 4ms/step - loss: 1.1785 - accuracy: 0.5770 - val_loss: 1.5181 - val_accuracy: 0.4816\n",
      "Epoch 50/100\n",
      "283/283 [==============================] - 1s 4ms/step - loss: 1.1721 - accuracy: 0.5802 - val_loss: 1.4793 - val_accuracy: 0.4990\n",
      "Epoch 51/100\n",
      "283/283 [==============================] - 1s 4ms/step - loss: 1.1593 - accuracy: 0.5856 - val_loss: 1.5127 - val_accuracy: 0.4878\n",
      "Epoch 52/100\n",
      "283/283 [==============================] - 1s 4ms/step - loss: 1.1681 - accuracy: 0.5816 - val_loss: 1.5269 - val_accuracy: 0.4833\n",
      "Epoch 53/100\n",
      "283/283 [==============================] - 1s 4ms/step - loss: 1.1546 - accuracy: 0.5894 - val_loss: 1.4924 - val_accuracy: 0.4932\n",
      "Epoch 54/100\n",
      "283/283 [==============================] - 1s 4ms/step - loss: 1.1562 - accuracy: 0.5859 - val_loss: 1.4833 - val_accuracy: 0.4861\n",
      "Epoch 55/100\n",
      "283/283 [==============================] - 1s 4ms/step - loss: 1.1494 - accuracy: 0.5886 - val_loss: 1.5203 - val_accuracy: 0.4856\n",
      "Epoch 56/100\n",
      "283/283 [==============================] - 1s 4ms/step - loss: 1.1447 - accuracy: 0.5898 - val_loss: 1.5043 - val_accuracy: 0.4871\n",
      "Epoch 57/100\n",
      "283/283 [==============================] - 1s 4ms/step - loss: 1.1332 - accuracy: 0.5948 - val_loss: 1.5069 - val_accuracy: 0.4929\n",
      "Epoch 58/100\n",
      "283/283 [==============================] - 1s 4ms/step - loss: 1.1401 - accuracy: 0.5901 - val_loss: 1.5040 - val_accuracy: 0.4922\n",
      "Epoch 59/100\n",
      "283/283 [==============================] - 1s 4ms/step - loss: 1.1348 - accuracy: 0.5946 - val_loss: 1.5581 - val_accuracy: 0.4720\n",
      "Epoch 60/100\n",
      "283/283 [==============================] - 1s 4ms/step - loss: 1.1252 - accuracy: 0.5925 - val_loss: 1.5057 - val_accuracy: 0.4993\n",
      "Epoch 61/100\n",
      "283/283 [==============================] - 1s 4ms/step - loss: 1.1206 - accuracy: 0.5976 - val_loss: 1.5422 - val_accuracy: 0.4863\n",
      "Epoch 62/100\n",
      "283/283 [==============================] - 1s 4ms/step - loss: 1.1195 - accuracy: 0.5977 - val_loss: 1.5199 - val_accuracy: 0.4897\n",
      "Epoch 63/100\n",
      "283/283 [==============================] - 1s 4ms/step - loss: 1.1259 - accuracy: 0.5954 - val_loss: 1.4853 - val_accuracy: 0.5001\n",
      "Epoch 64/100\n",
      "283/283 [==============================] - 1s 4ms/step - loss: 1.1211 - accuracy: 0.5949 - val_loss: 1.5341 - val_accuracy: 0.4852\n",
      "Epoch 65/100\n",
      "283/283 [==============================] - 1s 4ms/step - loss: 1.1075 - accuracy: 0.6028 - val_loss: 1.5956 - val_accuracy: 0.4747\n",
      "Epoch 66/100\n",
      "283/283 [==============================] - 1s 4ms/step - loss: 1.1114 - accuracy: 0.6010 - val_loss: 1.5043 - val_accuracy: 0.4933\n",
      "Epoch 67/100\n",
      "283/283 [==============================] - 1s 4ms/step - loss: 1.1033 - accuracy: 0.6016 - val_loss: 1.5184 - val_accuracy: 0.4955\n",
      "Epoch 68/100\n",
      "283/283 [==============================] - 1s 4ms/step - loss: 1.1009 - accuracy: 0.6040 - val_loss: 1.5262 - val_accuracy: 0.4968\n",
      "Epoch 69/100\n",
      "283/283 [==============================] - 1s 4ms/step - loss: 1.0971 - accuracy: 0.6053 - val_loss: 1.5344 - val_accuracy: 0.4918\n",
      "Epoch 70/100\n",
      "283/283 [==============================] - 1s 4ms/step - loss: 1.0976 - accuracy: 0.6089 - val_loss: 1.5367 - val_accuracy: 0.4929\n",
      "Epoch 71/100\n",
      "283/283 [==============================] - 1s 4ms/step - loss: 1.0892 - accuracy: 0.6092 - val_loss: 1.5249 - val_accuracy: 0.4864\n",
      "Epoch 72/100\n",
      "283/283 [==============================] - 1s 4ms/step - loss: 1.0913 - accuracy: 0.6064 - val_loss: 1.5373 - val_accuracy: 0.4849\n",
      "Epoch 73/100\n",
      "283/283 [==============================] - 1s 4ms/step - loss: 1.0845 - accuracy: 0.6095 - val_loss: 1.5441 - val_accuracy: 0.4905\n",
      "Epoch 74/100\n",
      "283/283 [==============================] - 1s 4ms/step - loss: 1.0831 - accuracy: 0.6092 - val_loss: 1.5618 - val_accuracy: 0.4875\n",
      "Epoch 75/100\n",
      "283/283 [==============================] - 1s 4ms/step - loss: 1.0744 - accuracy: 0.6140 - val_loss: 1.5599 - val_accuracy: 0.4916\n",
      "Epoch 76/100\n",
      "283/283 [==============================] - 1s 5ms/step - loss: 1.0653 - accuracy: 0.6160 - val_loss: 1.5593 - val_accuracy: 0.4867\n",
      "Epoch 77/100\n",
      "283/283 [==============================] - 1s 5ms/step - loss: 1.0703 - accuracy: 0.6154 - val_loss: 1.5568 - val_accuracy: 0.4930\n",
      "Epoch 78/100\n",
      "283/283 [==============================] - 1s 5ms/step - loss: 1.0682 - accuracy: 0.6169 - val_loss: 1.5516 - val_accuracy: 0.4875\n",
      "Epoch 79/100\n",
      "283/283 [==============================] - 1s 5ms/step - loss: 1.0644 - accuracy: 0.6207 - val_loss: 1.5752 - val_accuracy: 0.4800\n",
      "Epoch 80/100\n",
      "283/283 [==============================] - 1s 4ms/step - loss: 1.0648 - accuracy: 0.6186 - val_loss: 1.5977 - val_accuracy: 0.4786\n",
      "Epoch 81/100\n",
      "283/283 [==============================] - 1s 4ms/step - loss: 1.0691 - accuracy: 0.6178 - val_loss: 1.5442 - val_accuracy: 0.4930\n",
      "Epoch 82/100\n",
      "283/283 [==============================] - 1s 4ms/step - loss: 1.0568 - accuracy: 0.6192 - val_loss: 1.6335 - val_accuracy: 0.4717\n",
      "Epoch 83/100\n",
      "283/283 [==============================] - 1s 4ms/step - loss: 1.0542 - accuracy: 0.6221 - val_loss: 1.5518 - val_accuracy: 0.4916\n",
      "Epoch 84/100\n",
      "283/283 [==============================] - 1s 4ms/step - loss: 1.0594 - accuracy: 0.6191 - val_loss: 1.6251 - val_accuracy: 0.4792\n",
      "Epoch 85/100\n",
      "283/283 [==============================] - 1s 4ms/step - loss: 1.0511 - accuracy: 0.6226 - val_loss: 1.5944 - val_accuracy: 0.4813\n",
      "Epoch 86/100\n",
      "283/283 [==============================] - 1s 4ms/step - loss: 1.0548 - accuracy: 0.6222 - val_loss: 1.5641 - val_accuracy: 0.4883\n",
      "Epoch 87/100\n",
      "283/283 [==============================] - 1s 4ms/step - loss: 1.0536 - accuracy: 0.6220 - val_loss: 1.5716 - val_accuracy: 0.4946\n",
      "Epoch 88/100\n",
      "283/283 [==============================] - 1s 4ms/step - loss: 1.0402 - accuracy: 0.6277 - val_loss: 1.5918 - val_accuracy: 0.4894\n",
      "Epoch 89/100\n",
      "283/283 [==============================] - 1s 4ms/step - loss: 1.0412 - accuracy: 0.6247 - val_loss: 1.6213 - val_accuracy: 0.4877\n",
      "Epoch 90/100\n",
      "283/283 [==============================] - 1s 4ms/step - loss: 1.0337 - accuracy: 0.6303 - val_loss: 1.5785 - val_accuracy: 0.4850\n",
      "Epoch 91/100\n",
      "283/283 [==============================] - 1s 4ms/step - loss: 1.0326 - accuracy: 0.6292 - val_loss: 1.6440 - val_accuracy: 0.4784\n",
      "Epoch 92/100\n",
      "283/283 [==============================] - 1s 4ms/step - loss: 1.0377 - accuracy: 0.6256 - val_loss: 1.5964 - val_accuracy: 0.4838\n",
      "Epoch 93/100\n",
      "283/283 [==============================] - 1s 4ms/step - loss: 1.0336 - accuracy: 0.6291 - val_loss: 1.5948 - val_accuracy: 0.4938\n",
      "Epoch 94/100\n",
      "283/283 [==============================] - 1s 4ms/step - loss: 1.0353 - accuracy: 0.6275 - val_loss: 1.5991 - val_accuracy: 0.4825\n",
      "Epoch 95/100\n",
      "283/283 [==============================] - 1s 4ms/step - loss: 1.0175 - accuracy: 0.6345 - val_loss: 1.6183 - val_accuracy: 0.4784\n",
      "Epoch 96/100\n",
      "283/283 [==============================] - 1s 4ms/step - loss: 1.0235 - accuracy: 0.6334 - val_loss: 1.5939 - val_accuracy: 0.4860\n",
      "Epoch 97/100\n",
      "283/283 [==============================] - 1s 4ms/step - loss: 1.0127 - accuracy: 0.6358 - val_loss: 1.6561 - val_accuracy: 0.4734\n",
      "Epoch 98/100\n",
      "283/283 [==============================] - 1s 4ms/step - loss: 1.0210 - accuracy: 0.6327 - val_loss: 1.6357 - val_accuracy: 0.4875\n",
      "Epoch 99/100\n",
      "283/283 [==============================] - 1s 4ms/step - loss: 1.0115 - accuracy: 0.6353 - val_loss: 1.6409 - val_accuracy: 0.4736\n",
      "Epoch 100/100\n",
      "283/283 [==============================] - 1s 4ms/step - loss: 1.0106 - accuracy: 0.6358 - val_loss: 1.6469 - val_accuracy: 0.4789\n"
     ]
    }
   ],
   "source": [
    "# model_default = build_model()\n",
    "# hist_default = model_default.fit(X_train, y_train, epochs=100, batch_size=128, validation_split=0.15)"
   ]
  },
  {
   "cell_type": "code",
   "execution_count": 165,
   "metadata": {
    "colab": {
     "base_uri": "https://localhost:8080/"
    },
    "id": "_p_3JihlGKvI",
    "outputId": "20577ecc-9536-4f3d-cd1b-325f149e4129"
   },
   "outputs": [
    {
     "name": "stdout",
     "output_type": "stream",
     "text": [
      "235/235 [==============================] - 1s 3ms/step - loss: 1.6410 - accuracy: 0.4828\n"
     ]
    },
    {
     "data": {
      "text/plain": [
       "[1.6410295963287354, 0.4828000068664551]"
      ]
     },
     "execution_count": 165,
     "metadata": {},
     "output_type": "execute_result"
    }
   ],
   "source": [
    "# score_default = model_default.evaluate(X_valid, y_valid)\n",
    "# score_default"
   ]
  },
  {
   "cell_type": "markdown",
   "metadata": {
    "id": "eIpvb42fJylv"
   },
   "source": [
    "With hyperparameter tuning (Using second type of initialiser: he_normal)"
   ]
  },
  {
   "cell_type": "code",
   "execution_count": 166,
   "metadata": {
    "id": "MooVjzur_xrD"
   },
   "outputs": [],
   "source": [
    "# def build_model(kernel_init=\"he_normal\"):\n",
    "#     \"\"\" Uses arguments to build Keras model. \"\"\"\n",
    "#     model = Sequential()\n",
    "#     model.add(Flatten(input_shape=[32, 32, 3]))\n",
    "#     model.add(Dense(128,activation=\"relu\", kernel_initializer=kernel_init))\n",
    "#     model.add(Dense(64,activation=\"relu\", kernel_initializer=kernel_init))\n",
    "#     model.add(Dense(32,activation=\"relu\", kernel_initializer=kernel_init))\n",
    "#     model.add(Dense(10,activation='softmax'))\n",
    "#     model.compile(loss=\"categorical_crossentropy\", optimizer=tf.keras.optimizers.Adam(), metrics=[\"accuracy\"])\n",
    "#     return model"
   ]
  },
  {
   "cell_type": "code",
   "execution_count": 167,
   "metadata": {
    "colab": {
     "base_uri": "https://localhost:8080/"
    },
    "id": "_EsUlOin_0HU",
    "outputId": "2df56912-baf5-421d-d735-c1236fab4279"
   },
   "outputs": [
    {
     "name": "stdout",
     "output_type": "stream",
     "text": [
      "Epoch 1/100\n",
      "283/283 [==============================] - 2s 5ms/step - loss: 2.0837 - accuracy: 0.2175 - val_loss: 1.9018 - val_accuracy: 0.3071\n",
      "Epoch 2/100\n",
      "283/283 [==============================] - 1s 4ms/step - loss: 1.8413 - accuracy: 0.3310 - val_loss: 1.8597 - val_accuracy: 0.3333\n",
      "Epoch 3/100\n",
      "283/283 [==============================] - 1s 4ms/step - loss: 1.7358 - accuracy: 0.3727 - val_loss: 1.7357 - val_accuracy: 0.3787\n",
      "Epoch 4/100\n",
      "283/283 [==============================] - 1s 4ms/step - loss: 1.6759 - accuracy: 0.3988 - val_loss: 1.6959 - val_accuracy: 0.3976\n",
      "Epoch 5/100\n",
      "283/283 [==============================] - 1s 4ms/step - loss: 1.6267 - accuracy: 0.4167 - val_loss: 1.6397 - val_accuracy: 0.4155\n",
      "Epoch 6/100\n",
      "283/283 [==============================] - 1s 4ms/step - loss: 1.5949 - accuracy: 0.4289 - val_loss: 1.6301 - val_accuracy: 0.4198\n",
      "Epoch 7/100\n",
      "283/283 [==============================] - 1s 4ms/step - loss: 1.5563 - accuracy: 0.4436 - val_loss: 1.6093 - val_accuracy: 0.4204\n",
      "Epoch 8/100\n",
      "283/283 [==============================] - 1s 4ms/step - loss: 1.5376 - accuracy: 0.4523 - val_loss: 1.5846 - val_accuracy: 0.4416\n",
      "Epoch 9/100\n",
      "283/283 [==============================] - 1s 4ms/step - loss: 1.5096 - accuracy: 0.4618 - val_loss: 1.5591 - val_accuracy: 0.4428\n",
      "Epoch 10/100\n",
      "283/283 [==============================] - 1s 4ms/step - loss: 1.4961 - accuracy: 0.4644 - val_loss: 1.5654 - val_accuracy: 0.4453\n",
      "Epoch 11/100\n",
      "283/283 [==============================] - 1s 4ms/step - loss: 1.4794 - accuracy: 0.4709 - val_loss: 1.5478 - val_accuracy: 0.4499\n",
      "Epoch 12/100\n",
      "283/283 [==============================] - 1s 4ms/step - loss: 1.4637 - accuracy: 0.4751 - val_loss: 1.5454 - val_accuracy: 0.4497\n",
      "Epoch 13/100\n",
      "283/283 [==============================] - 1s 4ms/step - loss: 1.4381 - accuracy: 0.4869 - val_loss: 1.5238 - val_accuracy: 0.4565\n",
      "Epoch 14/100\n",
      "283/283 [==============================] - 1s 4ms/step - loss: 1.4268 - accuracy: 0.4875 - val_loss: 1.5190 - val_accuracy: 0.4604\n",
      "Epoch 15/100\n",
      "283/283 [==============================] - 1s 4ms/step - loss: 1.4163 - accuracy: 0.4905 - val_loss: 1.5328 - val_accuracy: 0.4568\n",
      "Epoch 16/100\n",
      "283/283 [==============================] - 1s 4ms/step - loss: 1.3960 - accuracy: 0.5015 - val_loss: 1.5678 - val_accuracy: 0.4535\n",
      "Epoch 17/100\n",
      "283/283 [==============================] - 1s 4ms/step - loss: 1.3945 - accuracy: 0.5005 - val_loss: 1.5653 - val_accuracy: 0.4471\n",
      "Epoch 18/100\n",
      "283/283 [==============================] - 1s 4ms/step - loss: 1.3819 - accuracy: 0.5080 - val_loss: 1.5866 - val_accuracy: 0.4452\n",
      "Epoch 19/100\n",
      "283/283 [==============================] - 1s 4ms/step - loss: 1.3667 - accuracy: 0.5110 - val_loss: 1.5290 - val_accuracy: 0.4554\n",
      "Epoch 20/100\n",
      "283/283 [==============================] - 1s 4ms/step - loss: 1.3594 - accuracy: 0.5145 - val_loss: 1.4823 - val_accuracy: 0.4758\n",
      "Epoch 21/100\n",
      "283/283 [==============================] - 1s 4ms/step - loss: 1.3477 - accuracy: 0.5186 - val_loss: 1.5072 - val_accuracy: 0.4714\n",
      "Epoch 22/100\n",
      "283/283 [==============================] - 1s 4ms/step - loss: 1.3348 - accuracy: 0.5249 - val_loss: 1.4998 - val_accuracy: 0.4684\n",
      "Epoch 23/100\n",
      "283/283 [==============================] - 1s 4ms/step - loss: 1.3286 - accuracy: 0.5245 - val_loss: 1.5349 - val_accuracy: 0.4613\n",
      "Epoch 24/100\n",
      "283/283 [==============================] - 1s 4ms/step - loss: 1.3257 - accuracy: 0.5275 - val_loss: 1.4840 - val_accuracy: 0.4737\n",
      "Epoch 25/100\n",
      "283/283 [==============================] - 1s 4ms/step - loss: 1.3109 - accuracy: 0.5329 - val_loss: 1.5195 - val_accuracy: 0.4723\n",
      "Epoch 26/100\n",
      "283/283 [==============================] - 1s 4ms/step - loss: 1.3099 - accuracy: 0.5317 - val_loss: 1.4733 - val_accuracy: 0.4802\n",
      "Epoch 27/100\n",
      "283/283 [==============================] - 1s 4ms/step - loss: 1.2913 - accuracy: 0.5372 - val_loss: 1.5330 - val_accuracy: 0.4712\n",
      "Epoch 28/100\n",
      "283/283 [==============================] - 1s 4ms/step - loss: 1.2950 - accuracy: 0.5345 - val_loss: 1.5086 - val_accuracy: 0.4646\n",
      "Epoch 29/100\n",
      "283/283 [==============================] - 1s 4ms/step - loss: 1.2894 - accuracy: 0.5404 - val_loss: 1.5124 - val_accuracy: 0.4690\n",
      "Epoch 30/100\n",
      "283/283 [==============================] - 1s 4ms/step - loss: 1.2678 - accuracy: 0.5470 - val_loss: 1.4954 - val_accuracy: 0.4772\n",
      "Epoch 31/100\n",
      "283/283 [==============================] - 1s 4ms/step - loss: 1.2689 - accuracy: 0.5477 - val_loss: 1.5203 - val_accuracy: 0.4642\n",
      "Epoch 32/100\n",
      "283/283 [==============================] - 1s 4ms/step - loss: 1.2619 - accuracy: 0.5485 - val_loss: 1.4782 - val_accuracy: 0.4820\n",
      "Epoch 33/100\n",
      "283/283 [==============================] - 1s 4ms/step - loss: 1.2602 - accuracy: 0.5487 - val_loss: 1.4756 - val_accuracy: 0.4819\n",
      "Epoch 34/100\n",
      "283/283 [==============================] - 1s 4ms/step - loss: 1.2476 - accuracy: 0.5551 - val_loss: 1.4899 - val_accuracy: 0.4822\n",
      "Epoch 35/100\n",
      "283/283 [==============================] - 1s 4ms/step - loss: 1.2396 - accuracy: 0.5587 - val_loss: 1.4978 - val_accuracy: 0.4720\n",
      "Epoch 36/100\n",
      "283/283 [==============================] - 1s 4ms/step - loss: 1.2341 - accuracy: 0.5616 - val_loss: 1.5143 - val_accuracy: 0.4759\n",
      "Epoch 37/100\n",
      "283/283 [==============================] - 1s 4ms/step - loss: 1.2220 - accuracy: 0.5658 - val_loss: 1.5394 - val_accuracy: 0.4726\n",
      "Epoch 38/100\n",
      "283/283 [==============================] - 1s 4ms/step - loss: 1.2240 - accuracy: 0.5632 - val_loss: 1.5232 - val_accuracy: 0.4690\n",
      "Epoch 39/100\n",
      "283/283 [==============================] - 1s 4ms/step - loss: 1.2160 - accuracy: 0.5635 - val_loss: 1.5221 - val_accuracy: 0.4833\n",
      "Epoch 40/100\n",
      "283/283 [==============================] - 1s 4ms/step - loss: 1.2195 - accuracy: 0.5634 - val_loss: 1.5402 - val_accuracy: 0.4664\n",
      "Epoch 41/100\n",
      "283/283 [==============================] - 1s 4ms/step - loss: 1.2121 - accuracy: 0.5665 - val_loss: 1.5384 - val_accuracy: 0.4755\n",
      "Epoch 42/100\n",
      "283/283 [==============================] - 1s 4ms/step - loss: 1.2006 - accuracy: 0.5706 - val_loss: 1.5725 - val_accuracy: 0.4685\n",
      "Epoch 43/100\n",
      "283/283 [==============================] - 1s 4ms/step - loss: 1.2006 - accuracy: 0.5716 - val_loss: 1.5165 - val_accuracy: 0.4853\n",
      "Epoch 44/100\n",
      "283/283 [==============================] - 1s 4ms/step - loss: 1.1974 - accuracy: 0.5724 - val_loss: 1.5046 - val_accuracy: 0.4772\n",
      "Epoch 45/100\n",
      "283/283 [==============================] - 1s 4ms/step - loss: 1.1838 - accuracy: 0.5759 - val_loss: 1.5030 - val_accuracy: 0.4835\n",
      "Epoch 46/100\n",
      "283/283 [==============================] - 1s 4ms/step - loss: 1.1875 - accuracy: 0.5741 - val_loss: 1.5280 - val_accuracy: 0.4802\n",
      "Epoch 47/100\n",
      "283/283 [==============================] - 1s 4ms/step - loss: 1.1817 - accuracy: 0.5774 - val_loss: 1.5430 - val_accuracy: 0.4696\n",
      "Epoch 48/100\n",
      "283/283 [==============================] - 1s 4ms/step - loss: 1.1805 - accuracy: 0.5763 - val_loss: 1.5522 - val_accuracy: 0.4664\n",
      "Epoch 49/100\n",
      "283/283 [==============================] - 1s 4ms/step - loss: 1.1760 - accuracy: 0.5784 - val_loss: 1.5146 - val_accuracy: 0.4792\n",
      "Epoch 50/100\n",
      "283/283 [==============================] - 1s 4ms/step - loss: 1.1647 - accuracy: 0.5846 - val_loss: 1.5370 - val_accuracy: 0.4776\n",
      "Epoch 51/100\n",
      "283/283 [==============================] - 1s 4ms/step - loss: 1.1634 - accuracy: 0.5848 - val_loss: 1.5345 - val_accuracy: 0.4805\n",
      "Epoch 52/100\n",
      "283/283 [==============================] - 1s 4ms/step - loss: 1.1642 - accuracy: 0.5836 - val_loss: 1.5395 - val_accuracy: 0.4838\n",
      "Epoch 53/100\n",
      "283/283 [==============================] - 1s 4ms/step - loss: 1.1549 - accuracy: 0.5867 - val_loss: 1.5136 - val_accuracy: 0.4867\n",
      "Epoch 54/100\n",
      "283/283 [==============================] - 1s 4ms/step - loss: 1.1556 - accuracy: 0.5856 - val_loss: 1.5182 - val_accuracy: 0.4819\n",
      "Epoch 55/100\n",
      "283/283 [==============================] - 1s 4ms/step - loss: 1.1451 - accuracy: 0.5905 - val_loss: 1.5272 - val_accuracy: 0.4849\n",
      "Epoch 56/100\n",
      "283/283 [==============================] - 1s 4ms/step - loss: 1.1525 - accuracy: 0.5878 - val_loss: 1.5284 - val_accuracy: 0.4764\n",
      "Epoch 57/100\n",
      "283/283 [==============================] - 1s 4ms/step - loss: 1.1353 - accuracy: 0.5945 - val_loss: 1.5065 - val_accuracy: 0.4858\n",
      "Epoch 58/100\n",
      "283/283 [==============================] - 1s 4ms/step - loss: 1.1355 - accuracy: 0.5923 - val_loss: 1.5262 - val_accuracy: 0.4883\n",
      "Epoch 59/100\n",
      "283/283 [==============================] - 1s 4ms/step - loss: 1.1275 - accuracy: 0.5986 - val_loss: 1.5599 - val_accuracy: 0.4723\n",
      "Epoch 60/100\n",
      "283/283 [==============================] - 1s 4ms/step - loss: 1.1305 - accuracy: 0.5957 - val_loss: 1.5273 - val_accuracy: 0.4877\n",
      "Epoch 61/100\n",
      "283/283 [==============================] - 1s 4ms/step - loss: 1.1319 - accuracy: 0.5936 - val_loss: 1.5398 - val_accuracy: 0.4750\n",
      "Epoch 62/100\n",
      "283/283 [==============================] - 1s 4ms/step - loss: 1.1212 - accuracy: 0.5977 - val_loss: 1.5610 - val_accuracy: 0.4773\n",
      "Epoch 63/100\n",
      "283/283 [==============================] - 1s 4ms/step - loss: 1.1110 - accuracy: 0.5998 - val_loss: 1.5506 - val_accuracy: 0.4819\n",
      "Epoch 64/100\n",
      "283/283 [==============================] - 1s 4ms/step - loss: 1.1161 - accuracy: 0.6020 - val_loss: 1.5985 - val_accuracy: 0.4642\n",
      "Epoch 65/100\n",
      "283/283 [==============================] - 1s 4ms/step - loss: 1.1082 - accuracy: 0.6003 - val_loss: 1.5346 - val_accuracy: 0.4907\n",
      "Epoch 66/100\n",
      "283/283 [==============================] - 1s 4ms/step - loss: 1.1007 - accuracy: 0.6037 - val_loss: 1.6027 - val_accuracy: 0.4664\n",
      "Epoch 67/100\n",
      "283/283 [==============================] - 1s 4ms/step - loss: 1.1065 - accuracy: 0.6011 - val_loss: 1.6027 - val_accuracy: 0.4748\n",
      "Epoch 68/100\n",
      "283/283 [==============================] - 1s 4ms/step - loss: 1.1067 - accuracy: 0.6022 - val_loss: 1.5360 - val_accuracy: 0.4962\n",
      "Epoch 69/100\n",
      "283/283 [==============================] - 1s 4ms/step - loss: 1.0985 - accuracy: 0.6051 - val_loss: 1.6169 - val_accuracy: 0.4598\n",
      "Epoch 70/100\n",
      "283/283 [==============================] - 1s 4ms/step - loss: 1.1065 - accuracy: 0.6013 - val_loss: 1.5646 - val_accuracy: 0.4814\n",
      "Epoch 71/100\n",
      "283/283 [==============================] - 1s 4ms/step - loss: 1.0884 - accuracy: 0.6122 - val_loss: 1.5857 - val_accuracy: 0.4784\n",
      "Epoch 72/100\n",
      "283/283 [==============================] - 1s 4ms/step - loss: 1.0925 - accuracy: 0.6074 - val_loss: 1.6538 - val_accuracy: 0.4687\n",
      "Epoch 73/100\n",
      "283/283 [==============================] - 1s 4ms/step - loss: 1.0879 - accuracy: 0.6083 - val_loss: 1.5925 - val_accuracy: 0.4778\n",
      "Epoch 74/100\n",
      "283/283 [==============================] - 1s 4ms/step - loss: 1.0842 - accuracy: 0.6123 - val_loss: 1.5688 - val_accuracy: 0.4800\n",
      "Epoch 75/100\n",
      "283/283 [==============================] - 1s 4ms/step - loss: 1.0908 - accuracy: 0.6097 - val_loss: 1.6537 - val_accuracy: 0.4722\n",
      "Epoch 76/100\n",
      "283/283 [==============================] - 1s 4ms/step - loss: 1.0793 - accuracy: 0.6146 - val_loss: 1.5819 - val_accuracy: 0.4692\n",
      "Epoch 77/100\n",
      "283/283 [==============================] - 1s 4ms/step - loss: 1.0707 - accuracy: 0.6156 - val_loss: 1.6150 - val_accuracy: 0.4689\n",
      "Epoch 78/100\n",
      "283/283 [==============================] - 1s 4ms/step - loss: 1.0697 - accuracy: 0.6146 - val_loss: 1.5793 - val_accuracy: 0.4775\n",
      "Epoch 79/100\n",
      "283/283 [==============================] - 1s 4ms/step - loss: 1.0719 - accuracy: 0.6175 - val_loss: 1.5984 - val_accuracy: 0.4795\n",
      "Epoch 80/100\n",
      "283/283 [==============================] - 1s 4ms/step - loss: 1.0618 - accuracy: 0.6188 - val_loss: 1.6247 - val_accuracy: 0.4696\n",
      "Epoch 81/100\n",
      "283/283 [==============================] - 1s 4ms/step - loss: 1.0608 - accuracy: 0.6198 - val_loss: 1.5818 - val_accuracy: 0.4803\n",
      "Epoch 82/100\n",
      "283/283 [==============================] - 1s 4ms/step - loss: 1.0549 - accuracy: 0.6198 - val_loss: 1.5764 - val_accuracy: 0.4816\n",
      "Epoch 83/100\n",
      "283/283 [==============================] - 1s 4ms/step - loss: 1.0636 - accuracy: 0.6156 - val_loss: 1.6076 - val_accuracy: 0.4723\n",
      "Epoch 84/100\n",
      "283/283 [==============================] - 1s 4ms/step - loss: 1.0466 - accuracy: 0.6255 - val_loss: 1.6424 - val_accuracy: 0.4759\n",
      "Epoch 85/100\n",
      "283/283 [==============================] - 1s 4ms/step - loss: 1.0591 - accuracy: 0.6197 - val_loss: 1.5985 - val_accuracy: 0.4800\n",
      "Epoch 86/100\n",
      "283/283 [==============================] - 1s 4ms/step - loss: 1.0446 - accuracy: 0.6256 - val_loss: 1.6335 - val_accuracy: 0.4649\n",
      "Epoch 87/100\n",
      "283/283 [==============================] - 1s 4ms/step - loss: 1.0465 - accuracy: 0.6231 - val_loss: 1.6405 - val_accuracy: 0.4718\n",
      "Epoch 88/100\n",
      "283/283 [==============================] - 1s 4ms/step - loss: 1.0499 - accuracy: 0.6229 - val_loss: 1.6209 - val_accuracy: 0.4759\n",
      "Epoch 89/100\n",
      "283/283 [==============================] - 1s 4ms/step - loss: 1.0382 - accuracy: 0.6268 - val_loss: 1.6115 - val_accuracy: 0.4704\n",
      "Epoch 90/100\n",
      "283/283 [==============================] - 1s 4ms/step - loss: 1.0394 - accuracy: 0.6261 - val_loss: 1.6188 - val_accuracy: 0.4718\n",
      "Epoch 91/100\n",
      "283/283 [==============================] - 1s 4ms/step - loss: 1.0371 - accuracy: 0.6268 - val_loss: 1.6427 - val_accuracy: 0.4660\n",
      "Epoch 92/100\n",
      "283/283 [==============================] - 1s 4ms/step - loss: 1.0279 - accuracy: 0.6317 - val_loss: 1.6534 - val_accuracy: 0.4692\n",
      "Epoch 93/100\n",
      "283/283 [==============================] - 1s 4ms/step - loss: 1.0273 - accuracy: 0.6323 - val_loss: 1.6369 - val_accuracy: 0.4748\n",
      "Epoch 94/100\n",
      "283/283 [==============================] - 1s 4ms/step - loss: 1.0264 - accuracy: 0.6320 - val_loss: 1.6312 - val_accuracy: 0.4787\n",
      "Epoch 95/100\n",
      "283/283 [==============================] - 1s 4ms/step - loss: 1.0326 - accuracy: 0.6285 - val_loss: 1.6734 - val_accuracy: 0.4684\n",
      "Epoch 96/100\n",
      "283/283 [==============================] - 1s 4ms/step - loss: 1.0266 - accuracy: 0.6325 - val_loss: 1.6460 - val_accuracy: 0.4798\n",
      "Epoch 97/100\n",
      "283/283 [==============================] - 1s 4ms/step - loss: 1.0215 - accuracy: 0.6331 - val_loss: 1.6489 - val_accuracy: 0.4778\n",
      "Epoch 98/100\n",
      "283/283 [==============================] - 1s 4ms/step - loss: 1.0172 - accuracy: 0.6330 - val_loss: 1.6500 - val_accuracy: 0.4689\n",
      "Epoch 99/100\n",
      "283/283 [==============================] - 1s 4ms/step - loss: 1.0218 - accuracy: 0.6318 - val_loss: 1.6464 - val_accuracy: 0.4720\n",
      "Epoch 100/100\n",
      "283/283 [==============================] - 1s 4ms/step - loss: 1.0083 - accuracy: 0.6364 - val_loss: 1.6482 - val_accuracy: 0.4700\n"
     ]
    }
   ],
   "source": [
    "# model_default = build_model()\n",
    "# hist_default = model_default.fit(X_train, y_train, epochs=100, batch_size=128, validation_split=0.15)"
   ]
  },
  {
   "cell_type": "code",
   "execution_count": 168,
   "metadata": {
    "colab": {
     "base_uri": "https://localhost:8080/"
    },
    "id": "3u9z8_wMIZNM",
    "outputId": "9a00d176-9318-465b-f6ad-b8a5cbe0282a"
   },
   "outputs": [
    {
     "name": "stdout",
     "output_type": "stream",
     "text": [
      "235/235 [==============================] - 1s 3ms/step - loss: 1.6300 - accuracy: 0.4763\n"
     ]
    },
    {
     "data": {
      "text/plain": [
       "[1.6299570798873901, 0.47626665234565735]"
      ]
     },
     "execution_count": 168,
     "metadata": {},
     "output_type": "execute_result"
    }
   ],
   "source": [
    "# score_default = model_default.evaluate(X_valid, y_valid)\n",
    "# score_default"
   ]
  },
  {
   "cell_type": "markdown",
   "metadata": {
    "id": "Ic4zztuAJrAy"
   },
   "source": [
    "Droupout"
   ]
  },
  {
   "cell_type": "code",
   "execution_count": 169,
   "metadata": {
    "id": "s2nv3XdCDK3v"
   },
   "outputs": [],
   "source": [
    "# def build_model(kernel_init=\"he_normal\"):\n",
    "#     \"\"\" Uses arguments to build Keras model. \"\"\"\n",
    "#     model = Sequential()\n",
    "#     model.add(Flatten(input_shape=[32, 32, 3]))\n",
    "#     model.add(Dropout(rate=.1))\n",
    "#     model.add(Dense(128,activation=\"relu\", kernel_initializer=kernel_init))\n",
    "#     model.add(Dropout(rate=.1))\n",
    "#     model.add(Dense(64,activation=\"relu\", kernel_initializer=kernel_init))\n",
    "#     model.add(Dropout(rate=.1))\n",
    "#     model.add(Dense(32,activation=\"relu\", kernel_initializer=kernel_init))\n",
    "#     model.add(Dropout(rate=.1))\n",
    "#     model.add(Dense(10,activation='softmax'))\n",
    "#     model.compile(loss=\"categorical_crossentropy\", optimizer=tf.keras.optimizers.Adam(), metrics=[\"accuracy\"])\n",
    "#     return model"
   ]
  },
  {
   "cell_type": "code",
   "execution_count": 170,
   "metadata": {
    "colab": {
     "base_uri": "https://localhost:8080/"
    },
    "id": "GVWaZYsLDgr8",
    "outputId": "65eb2fc8-34f5-4c92-e78c-98eea3ba9170"
   },
   "outputs": [
    {
     "name": "stdout",
     "output_type": "stream",
     "text": [
      "Epoch 1/100\n",
      "283/283 [==============================] - 2s 5ms/step - loss: 2.1159 - accuracy: 0.2144 - val_loss: 1.9175 - val_accuracy: 0.3075\n",
      "Epoch 2/100\n",
      "283/283 [==============================] - 1s 4ms/step - loss: 1.9357 - accuracy: 0.2875 - val_loss: 1.8430 - val_accuracy: 0.3327\n",
      "Epoch 3/100\n",
      "283/283 [==============================] - 1s 4ms/step - loss: 1.8842 - accuracy: 0.3069 - val_loss: 1.8112 - val_accuracy: 0.3470\n",
      "Epoch 4/100\n",
      "283/283 [==============================] - 1s 4ms/step - loss: 1.8514 - accuracy: 0.3215 - val_loss: 1.7660 - val_accuracy: 0.3674\n",
      "Epoch 5/100\n",
      "283/283 [==============================] - 1s 4ms/step - loss: 1.8145 - accuracy: 0.3373 - val_loss: 1.7288 - val_accuracy: 0.3689\n",
      "Epoch 6/100\n",
      "283/283 [==============================] - 1s 4ms/step - loss: 1.7959 - accuracy: 0.3456 - val_loss: 1.6974 - val_accuracy: 0.3831\n",
      "Epoch 7/100\n",
      "283/283 [==============================] - 1s 4ms/step - loss: 1.7836 - accuracy: 0.3512 - val_loss: 1.6982 - val_accuracy: 0.3914\n",
      "Epoch 8/100\n",
      "283/283 [==============================] - 1s 4ms/step - loss: 1.7657 - accuracy: 0.3600 - val_loss: 1.6979 - val_accuracy: 0.3918\n",
      "Epoch 9/100\n",
      "283/283 [==============================] - 1s 4ms/step - loss: 1.7586 - accuracy: 0.3626 - val_loss: 1.6699 - val_accuracy: 0.3995\n",
      "Epoch 10/100\n",
      "283/283 [==============================] - 1s 4ms/step - loss: 1.7432 - accuracy: 0.3670 - val_loss: 1.7081 - val_accuracy: 0.3713\n",
      "Epoch 11/100\n",
      "283/283 [==============================] - 1s 4ms/step - loss: 1.7278 - accuracy: 0.3749 - val_loss: 1.6841 - val_accuracy: 0.3843\n",
      "Epoch 12/100\n",
      "283/283 [==============================] - 1s 4ms/step - loss: 1.7292 - accuracy: 0.3748 - val_loss: 1.6499 - val_accuracy: 0.4144\n",
      "Epoch 13/100\n",
      "283/283 [==============================] - 1s 4ms/step - loss: 1.7154 - accuracy: 0.3789 - val_loss: 1.6738 - val_accuracy: 0.3989\n",
      "Epoch 14/100\n",
      "283/283 [==============================] - 1s 4ms/step - loss: 1.7042 - accuracy: 0.3837 - val_loss: 1.6578 - val_accuracy: 0.3972\n",
      "Epoch 15/100\n",
      "283/283 [==============================] - 1s 4ms/step - loss: 1.7041 - accuracy: 0.3821 - val_loss: 1.6283 - val_accuracy: 0.4149\n",
      "Epoch 16/100\n",
      "283/283 [==============================] - 1s 4ms/step - loss: 1.6989 - accuracy: 0.3852 - val_loss: 1.6339 - val_accuracy: 0.4119\n",
      "Epoch 17/100\n",
      "283/283 [==============================] - 1s 4ms/step - loss: 1.6910 - accuracy: 0.3874 - val_loss: 1.6648 - val_accuracy: 0.3981\n",
      "Epoch 18/100\n",
      "283/283 [==============================] - 1s 4ms/step - loss: 1.6934 - accuracy: 0.3879 - val_loss: 1.6292 - val_accuracy: 0.4227\n",
      "Epoch 19/100\n",
      "283/283 [==============================] - 1s 4ms/step - loss: 1.6870 - accuracy: 0.3895 - val_loss: 1.6168 - val_accuracy: 0.4224\n",
      "Epoch 20/100\n",
      "283/283 [==============================] - 1s 4ms/step - loss: 1.6798 - accuracy: 0.3902 - val_loss: 1.6174 - val_accuracy: 0.4168\n",
      "Epoch 21/100\n",
      "283/283 [==============================] - 1s 4ms/step - loss: 1.6778 - accuracy: 0.3951 - val_loss: 1.6153 - val_accuracy: 0.4201\n",
      "Epoch 22/100\n",
      "283/283 [==============================] - 1s 4ms/step - loss: 1.6727 - accuracy: 0.3927 - val_loss: 1.6072 - val_accuracy: 0.4262\n",
      "Epoch 23/100\n",
      "283/283 [==============================] - 1s 4ms/step - loss: 1.6724 - accuracy: 0.3963 - val_loss: 1.6157 - val_accuracy: 0.4198\n",
      "Epoch 24/100\n",
      "283/283 [==============================] - 1s 4ms/step - loss: 1.6615 - accuracy: 0.3990 - val_loss: 1.6119 - val_accuracy: 0.4213\n",
      "Epoch 25/100\n",
      "283/283 [==============================] - 1s 4ms/step - loss: 1.6582 - accuracy: 0.4004 - val_loss: 1.6188 - val_accuracy: 0.4162\n",
      "Epoch 26/100\n",
      "283/283 [==============================] - 1s 4ms/step - loss: 1.6576 - accuracy: 0.4015 - val_loss: 1.6141 - val_accuracy: 0.4220\n",
      "Epoch 27/100\n",
      "283/283 [==============================] - 1s 4ms/step - loss: 1.6548 - accuracy: 0.3996 - val_loss: 1.6157 - val_accuracy: 0.4193\n",
      "Epoch 28/100\n",
      "283/283 [==============================] - 1s 4ms/step - loss: 1.6485 - accuracy: 0.4059 - val_loss: 1.6009 - val_accuracy: 0.4218\n",
      "Epoch 29/100\n",
      "283/283 [==============================] - 1s 4ms/step - loss: 1.6411 - accuracy: 0.4089 - val_loss: 1.5898 - val_accuracy: 0.4251\n",
      "Epoch 30/100\n",
      "283/283 [==============================] - 1s 4ms/step - loss: 1.6400 - accuracy: 0.4058 - val_loss: 1.5924 - val_accuracy: 0.4257\n",
      "Epoch 31/100\n",
      "283/283 [==============================] - 1s 4ms/step - loss: 1.6320 - accuracy: 0.4096 - val_loss: 1.6034 - val_accuracy: 0.4260\n",
      "Epoch 32/100\n",
      "283/283 [==============================] - 1s 4ms/step - loss: 1.6378 - accuracy: 0.4074 - val_loss: 1.5938 - val_accuracy: 0.4296\n",
      "Epoch 33/100\n",
      "283/283 [==============================] - 1s 4ms/step - loss: 1.6388 - accuracy: 0.4069 - val_loss: 1.6131 - val_accuracy: 0.4259\n",
      "Epoch 34/100\n",
      "283/283 [==============================] - 1s 4ms/step - loss: 1.6332 - accuracy: 0.4068 - val_loss: 1.5713 - val_accuracy: 0.4397\n",
      "Epoch 35/100\n",
      "283/283 [==============================] - 1s 4ms/step - loss: 1.6267 - accuracy: 0.4136 - val_loss: 1.5849 - val_accuracy: 0.4309\n",
      "Epoch 36/100\n",
      "283/283 [==============================] - 1s 4ms/step - loss: 1.6294 - accuracy: 0.4093 - val_loss: 1.5864 - val_accuracy: 0.4318\n",
      "Epoch 37/100\n",
      "283/283 [==============================] - 1s 5ms/step - loss: 1.6226 - accuracy: 0.4134 - val_loss: 1.5775 - val_accuracy: 0.4309\n",
      "Epoch 38/100\n",
      "283/283 [==============================] - 1s 4ms/step - loss: 1.6314 - accuracy: 0.4064 - val_loss: 1.5828 - val_accuracy: 0.4322\n",
      "Epoch 39/100\n",
      "283/283 [==============================] - 1s 4ms/step - loss: 1.6190 - accuracy: 0.4187 - val_loss: 1.5826 - val_accuracy: 0.4306\n",
      "Epoch 40/100\n",
      "283/283 [==============================] - 1s 4ms/step - loss: 1.6166 - accuracy: 0.4171 - val_loss: 1.5707 - val_accuracy: 0.4364\n",
      "Epoch 41/100\n",
      "283/283 [==============================] - 1s 4ms/step - loss: 1.6116 - accuracy: 0.4200 - val_loss: 1.5649 - val_accuracy: 0.4348\n",
      "Epoch 42/100\n",
      "283/283 [==============================] - 1s 4ms/step - loss: 1.6139 - accuracy: 0.4189 - val_loss: 1.5728 - val_accuracy: 0.4339\n",
      "Epoch 43/100\n",
      "283/283 [==============================] - 1s 4ms/step - loss: 1.6134 - accuracy: 0.4179 - val_loss: 1.5748 - val_accuracy: 0.4325\n",
      "Epoch 44/100\n",
      "283/283 [==============================] - 1s 4ms/step - loss: 1.6159 - accuracy: 0.4161 - val_loss: 1.5737 - val_accuracy: 0.4355\n",
      "Epoch 45/100\n",
      "283/283 [==============================] - 1s 4ms/step - loss: 1.6079 - accuracy: 0.4189 - val_loss: 1.5785 - val_accuracy: 0.4370\n",
      "Epoch 46/100\n",
      "283/283 [==============================] - 1s 4ms/step - loss: 1.6104 - accuracy: 0.4210 - val_loss: 1.5595 - val_accuracy: 0.4389\n",
      "Epoch 47/100\n",
      "283/283 [==============================] - 1s 4ms/step - loss: 1.6109 - accuracy: 0.4176 - val_loss: 1.5603 - val_accuracy: 0.4394\n",
      "Epoch 48/100\n",
      "283/283 [==============================] - 1s 4ms/step - loss: 1.6053 - accuracy: 0.4231 - val_loss: 1.5619 - val_accuracy: 0.4395\n",
      "Epoch 49/100\n",
      "283/283 [==============================] - 1s 4ms/step - loss: 1.6086 - accuracy: 0.4174 - val_loss: 1.6199 - val_accuracy: 0.4165\n",
      "Epoch 50/100\n",
      "283/283 [==============================] - 1s 4ms/step - loss: 1.6035 - accuracy: 0.4233 - val_loss: 1.6151 - val_accuracy: 0.4174\n",
      "Epoch 51/100\n",
      "283/283 [==============================] - 1s 4ms/step - loss: 1.6134 - accuracy: 0.4194 - val_loss: 1.5659 - val_accuracy: 0.4398\n",
      "Epoch 52/100\n",
      "283/283 [==============================] - 1s 4ms/step - loss: 1.6047 - accuracy: 0.4193 - val_loss: 1.5563 - val_accuracy: 0.4409\n",
      "Epoch 53/100\n",
      "283/283 [==============================] - 1s 4ms/step - loss: 1.5990 - accuracy: 0.4239 - val_loss: 1.5694 - val_accuracy: 0.4383\n",
      "Epoch 54/100\n",
      "283/283 [==============================] - 1s 4ms/step - loss: 1.5990 - accuracy: 0.4240 - val_loss: 1.5618 - val_accuracy: 0.4417\n",
      "Epoch 55/100\n",
      "283/283 [==============================] - 1s 4ms/step - loss: 1.5963 - accuracy: 0.4245 - val_loss: 1.5642 - val_accuracy: 0.4358\n",
      "Epoch 56/100\n",
      "283/283 [==============================] - 1s 4ms/step - loss: 1.6004 - accuracy: 0.4219 - val_loss: 1.5674 - val_accuracy: 0.4370\n",
      "Epoch 57/100\n",
      "283/283 [==============================] - 1s 4ms/step - loss: 1.5950 - accuracy: 0.4250 - val_loss: 1.5589 - val_accuracy: 0.4370\n",
      "Epoch 58/100\n",
      "283/283 [==============================] - 1s 4ms/step - loss: 1.5976 - accuracy: 0.4224 - val_loss: 1.5533 - val_accuracy: 0.4444\n",
      "Epoch 59/100\n",
      "283/283 [==============================] - 1s 4ms/step - loss: 1.5934 - accuracy: 0.4246 - val_loss: 1.5571 - val_accuracy: 0.4413\n",
      "Epoch 60/100\n",
      "283/283 [==============================] - 1s 4ms/step - loss: 1.5896 - accuracy: 0.4260 - val_loss: 1.5603 - val_accuracy: 0.4416\n",
      "Epoch 61/100\n",
      "283/283 [==============================] - 1s 4ms/step - loss: 1.5911 - accuracy: 0.4266 - val_loss: 1.5578 - val_accuracy: 0.4424\n",
      "Epoch 62/100\n",
      "283/283 [==============================] - 1s 4ms/step - loss: 1.5847 - accuracy: 0.4290 - val_loss: 1.5733 - val_accuracy: 0.4351\n",
      "Epoch 63/100\n",
      "283/283 [==============================] - 1s 4ms/step - loss: 1.5931 - accuracy: 0.4252 - val_loss: 1.5444 - val_accuracy: 0.4488\n",
      "Epoch 64/100\n",
      "283/283 [==============================] - 1s 4ms/step - loss: 1.5892 - accuracy: 0.4301 - val_loss: 1.5626 - val_accuracy: 0.4444\n",
      "Epoch 65/100\n",
      "283/283 [==============================] - 1s 4ms/step - loss: 1.5944 - accuracy: 0.4247 - val_loss: 1.5570 - val_accuracy: 0.4438\n",
      "Epoch 66/100\n",
      "283/283 [==============================] - 1s 4ms/step - loss: 1.5916 - accuracy: 0.4245 - val_loss: 1.5647 - val_accuracy: 0.4391\n",
      "Epoch 67/100\n",
      "283/283 [==============================] - 1s 4ms/step - loss: 1.5837 - accuracy: 0.4285 - val_loss: 1.5485 - val_accuracy: 0.4433\n",
      "Epoch 68/100\n",
      "283/283 [==============================] - 1s 4ms/step - loss: 1.5880 - accuracy: 0.4276 - val_loss: 1.5493 - val_accuracy: 0.4472\n",
      "Epoch 69/100\n",
      "283/283 [==============================] - 1s 4ms/step - loss: 1.5867 - accuracy: 0.4283 - val_loss: 1.5449 - val_accuracy: 0.4494\n",
      "Epoch 70/100\n",
      "283/283 [==============================] - 1s 4ms/step - loss: 1.5782 - accuracy: 0.4289 - val_loss: 1.5730 - val_accuracy: 0.4351\n",
      "Epoch 71/100\n",
      "283/283 [==============================] - 1s 4ms/step - loss: 1.5864 - accuracy: 0.4280 - val_loss: 1.5401 - val_accuracy: 0.4477\n",
      "Epoch 72/100\n",
      "283/283 [==============================] - 1s 4ms/step - loss: 1.5865 - accuracy: 0.4285 - val_loss: 1.5414 - val_accuracy: 0.4482\n",
      "Epoch 73/100\n",
      "283/283 [==============================] - 1s 4ms/step - loss: 1.5852 - accuracy: 0.4270 - val_loss: 1.5663 - val_accuracy: 0.4380\n",
      "Epoch 74/100\n",
      "283/283 [==============================] - 1s 4ms/step - loss: 1.5839 - accuracy: 0.4269 - val_loss: 1.5502 - val_accuracy: 0.4411\n",
      "Epoch 75/100\n",
      "283/283 [==============================] - 1s 4ms/step - loss: 1.5858 - accuracy: 0.4275 - val_loss: 1.5294 - val_accuracy: 0.4551\n",
      "Epoch 76/100\n",
      "283/283 [==============================] - 1s 4ms/step - loss: 1.5779 - accuracy: 0.4313 - val_loss: 1.5426 - val_accuracy: 0.4497\n",
      "Epoch 77/100\n",
      "283/283 [==============================] - 1s 4ms/step - loss: 1.5824 - accuracy: 0.4297 - val_loss: 1.5573 - val_accuracy: 0.4438\n",
      "Epoch 78/100\n",
      "283/283 [==============================] - 1s 4ms/step - loss: 1.5726 - accuracy: 0.4329 - val_loss: 1.5511 - val_accuracy: 0.4424\n",
      "Epoch 79/100\n",
      "283/283 [==============================] - 1s 4ms/step - loss: 1.5842 - accuracy: 0.4308 - val_loss: 1.5606 - val_accuracy: 0.4438\n",
      "Epoch 80/100\n",
      "283/283 [==============================] - 1s 4ms/step - loss: 1.5764 - accuracy: 0.4299 - val_loss: 1.5570 - val_accuracy: 0.4413\n",
      "Epoch 81/100\n",
      "283/283 [==============================] - 1s 4ms/step - loss: 1.5764 - accuracy: 0.4317 - val_loss: 1.5395 - val_accuracy: 0.4466\n",
      "Epoch 82/100\n",
      "283/283 [==============================] - 1s 4ms/step - loss: 1.5783 - accuracy: 0.4307 - val_loss: 1.5481 - val_accuracy: 0.4513\n",
      "Epoch 83/100\n",
      "283/283 [==============================] - 1s 4ms/step - loss: 1.5809 - accuracy: 0.4284 - val_loss: 1.5613 - val_accuracy: 0.4480\n",
      "Epoch 84/100\n",
      "283/283 [==============================] - 1s 4ms/step - loss: 1.5744 - accuracy: 0.4312 - val_loss: 1.5456 - val_accuracy: 0.4466\n",
      "Epoch 85/100\n",
      "283/283 [==============================] - 1s 4ms/step - loss: 1.5751 - accuracy: 0.4325 - val_loss: 1.5533 - val_accuracy: 0.4491\n",
      "Epoch 86/100\n",
      "283/283 [==============================] - 1s 4ms/step - loss: 1.5732 - accuracy: 0.4343 - val_loss: 1.5417 - val_accuracy: 0.4521\n",
      "Epoch 87/100\n",
      "283/283 [==============================] - 1s 4ms/step - loss: 1.5770 - accuracy: 0.4301 - val_loss: 1.5510 - val_accuracy: 0.4513\n",
      "Epoch 88/100\n",
      "283/283 [==============================] - 1s 4ms/step - loss: 1.5757 - accuracy: 0.4302 - val_loss: 1.5641 - val_accuracy: 0.4430\n",
      "Epoch 89/100\n",
      "283/283 [==============================] - 1s 4ms/step - loss: 1.5773 - accuracy: 0.4302 - val_loss: 1.5564 - val_accuracy: 0.4461\n",
      "Epoch 90/100\n",
      "283/283 [==============================] - 1s 4ms/step - loss: 1.5728 - accuracy: 0.4345 - val_loss: 1.5508 - val_accuracy: 0.4510\n",
      "Epoch 91/100\n",
      "283/283 [==============================] - 1s 4ms/step - loss: 1.5721 - accuracy: 0.4334 - val_loss: 1.5447 - val_accuracy: 0.4469\n",
      "Epoch 92/100\n",
      "283/283 [==============================] - 1s 4ms/step - loss: 1.5710 - accuracy: 0.4348 - val_loss: 1.5638 - val_accuracy: 0.4370\n",
      "Epoch 93/100\n",
      "283/283 [==============================] - 1s 4ms/step - loss: 1.5722 - accuracy: 0.4322 - val_loss: 1.5358 - val_accuracy: 0.4518\n",
      "Epoch 94/100\n",
      "283/283 [==============================] - 1s 4ms/step - loss: 1.5723 - accuracy: 0.4345 - val_loss: 1.5513 - val_accuracy: 0.4464\n",
      "Epoch 95/100\n",
      "283/283 [==============================] - 1s 4ms/step - loss: 1.5711 - accuracy: 0.4337 - val_loss: 1.5424 - val_accuracy: 0.4469\n",
      "Epoch 96/100\n",
      "283/283 [==============================] - 1s 4ms/step - loss: 1.5659 - accuracy: 0.4343 - val_loss: 1.5404 - val_accuracy: 0.4475\n",
      "Epoch 97/100\n",
      "283/283 [==============================] - 1s 4ms/step - loss: 1.5703 - accuracy: 0.4343 - val_loss: 1.5376 - val_accuracy: 0.4515\n",
      "Epoch 98/100\n",
      "283/283 [==============================] - 1s 4ms/step - loss: 1.5618 - accuracy: 0.4372 - val_loss: 1.5370 - val_accuracy: 0.4502\n",
      "Epoch 99/100\n",
      "283/283 [==============================] - 1s 4ms/step - loss: 1.5707 - accuracy: 0.4347 - val_loss: 1.5388 - val_accuracy: 0.4489\n",
      "Epoch 100/100\n",
      "283/283 [==============================] - 1s 4ms/step - loss: 1.5688 - accuracy: 0.4358 - val_loss: 1.5810 - val_accuracy: 0.4329\n"
     ]
    }
   ],
   "source": [
    "# model_default = build_model()\n",
    "# hist_default = model_default.fit(X_train, y_train, epochs=100, batch_size=128, validation_split=0.15)"
   ]
  },
  {
   "cell_type": "code",
   "execution_count": 171,
   "metadata": {
    "colab": {
     "base_uri": "https://localhost:8080/"
    },
    "id": "hRF1GmrmLQrP",
    "outputId": "f754160d-b56e-4fbe-c768-34ca8b04f273"
   },
   "outputs": [
    {
     "name": "stdout",
     "output_type": "stream",
     "text": [
      "235/235 [==============================] - 1s 3ms/step - loss: 1.5761 - accuracy: 0.4373\n"
     ]
    },
    {
     "data": {
      "text/plain": [
       "[1.576101303100586, 0.437333345413208]"
      ]
     },
     "execution_count": 171,
     "metadata": {},
     "output_type": "execute_result"
    }
   ],
   "source": [
    "# score_default = model_default.evaluate(X_valid, y_valid)\n",
    "# score_default"
   ]
  },
  {
   "cell_type": "markdown",
   "metadata": {
    "id": "qT7ZvkmtK7vk"
   },
   "source": [
    "Dropout ratio now .2"
   ]
  },
  {
   "cell_type": "code",
   "execution_count": 214,
   "metadata": {
    "id": "GgjlPmvqLLYC"
   },
   "outputs": [],
   "source": [
    "# def build_model(kernel_init=\"he_normal\"):\n",
    "#     \"\"\" Uses arguments to build Keras model. \"\"\"\n",
    "#     model = Sequential()\n",
    "#     model.add(Flatten(input_shape=[32, 32, 3]))\n",
    "#     model.add(Dropout(rate=.1))\n",
    "#     model.add(Dense(128,activation=\"relu\", kernel_initializer=kernel_init))\n",
    "#     model.add(Dropout(rate=.2))\n",
    "#     model.add(Dense(64,activation=\"relu\", kernel_initializer=kernel_init))\n",
    "#     model.add(Dropout(rate=.2))\n",
    "#     model.add(Dense(32,activation=\"relu\", kernel_initializer=kernel_init))\n",
    "#     model.add(Dropout(rate=.2))\n",
    "#     model.add(Dense(10,activation='softmax'))\n",
    "#     model.compile(loss=\"categorical_crossentropy\", optimizer=tf.keras.optimizers.Adam(), metrics=[\"accuracy\"])\n",
    "#     return model"
   ]
  },
  {
   "cell_type": "code",
   "execution_count": 215,
   "metadata": {
    "colab": {
     "base_uri": "https://localhost:8080/"
    },
    "id": "04ucJKawK1jx",
    "outputId": "9082ed6c-5a85-4d35-e90b-c7be0c850503"
   },
   "outputs": [
    {
     "name": "stdout",
     "output_type": "stream",
     "text": [
      "Epoch 1/100\n",
      "283/283 [==============================] - 2s 5ms/step - loss: 2.1557 - accuracy: 0.1840 - val_loss: 1.9532 - val_accuracy: 0.2825\n",
      "Epoch 2/100\n",
      "283/283 [==============================] - 1s 4ms/step - loss: 2.0345 - accuracy: 0.2303 - val_loss: 1.9160 - val_accuracy: 0.3009\n",
      "Epoch 3/100\n",
      "283/283 [==============================] - 1s 4ms/step - loss: 1.9897 - accuracy: 0.2502 - val_loss: 1.9215 - val_accuracy: 0.3038\n",
      "Epoch 4/100\n",
      "283/283 [==============================] - 1s 4ms/step - loss: 1.9699 - accuracy: 0.2626 - val_loss: 1.8904 - val_accuracy: 0.3051\n",
      "Epoch 5/100\n",
      "283/283 [==============================] - 1s 4ms/step - loss: 1.9464 - accuracy: 0.2730 - val_loss: 1.8473 - val_accuracy: 0.3253\n",
      "Epoch 6/100\n",
      "283/283 [==============================] - 1s 4ms/step - loss: 1.9302 - accuracy: 0.2827 - val_loss: 1.8543 - val_accuracy: 0.3258\n",
      "Epoch 7/100\n",
      "283/283 [==============================] - 1s 4ms/step - loss: 1.9245 - accuracy: 0.2827 - val_loss: 1.8275 - val_accuracy: 0.3404\n",
      "Epoch 8/100\n",
      "283/283 [==============================] - 1s 4ms/step - loss: 1.9189 - accuracy: 0.2917 - val_loss: 1.8381 - val_accuracy: 0.3355\n",
      "Epoch 9/100\n",
      "283/283 [==============================] - 1s 4ms/step - loss: 1.9146 - accuracy: 0.2928 - val_loss: 1.8368 - val_accuracy: 0.3335\n",
      "Epoch 10/100\n",
      "283/283 [==============================] - 1s 4ms/step - loss: 1.9012 - accuracy: 0.2977 - val_loss: 1.8349 - val_accuracy: 0.3391\n",
      "Epoch 11/100\n",
      "283/283 [==============================] - 1s 4ms/step - loss: 1.9057 - accuracy: 0.2989 - val_loss: 1.8471 - val_accuracy: 0.3384\n",
      "Epoch 12/100\n",
      "283/283 [==============================] - 1s 4ms/step - loss: 1.8952 - accuracy: 0.3061 - val_loss: 1.8450 - val_accuracy: 0.3333\n",
      "Epoch 13/100\n",
      "283/283 [==============================] - 1s 4ms/step - loss: 1.8905 - accuracy: 0.3079 - val_loss: 1.8185 - val_accuracy: 0.3520\n",
      "Epoch 14/100\n",
      "283/283 [==============================] - 1s 4ms/step - loss: 1.8884 - accuracy: 0.3066 - val_loss: 1.8421 - val_accuracy: 0.3454\n",
      "Epoch 15/100\n",
      "283/283 [==============================] - 1s 4ms/step - loss: 1.8798 - accuracy: 0.3118 - val_loss: 1.7985 - val_accuracy: 0.3608\n",
      "Epoch 16/100\n",
      "283/283 [==============================] - 1s 4ms/step - loss: 1.8665 - accuracy: 0.3176 - val_loss: 1.8038 - val_accuracy: 0.3583\n",
      "Epoch 17/100\n",
      "283/283 [==============================] - 1s 4ms/step - loss: 1.8610 - accuracy: 0.3229 - val_loss: 1.7864 - val_accuracy: 0.3680\n",
      "Epoch 18/100\n",
      "283/283 [==============================] - 1s 4ms/step - loss: 1.8554 - accuracy: 0.3213 - val_loss: 1.7869 - val_accuracy: 0.3671\n",
      "Epoch 19/100\n",
      "283/283 [==============================] - 1s 4ms/step - loss: 1.8539 - accuracy: 0.3255 - val_loss: 1.7594 - val_accuracy: 0.3754\n",
      "Epoch 20/100\n",
      "283/283 [==============================] - 1s 4ms/step - loss: 1.8479 - accuracy: 0.3238 - val_loss: 1.7845 - val_accuracy: 0.3642\n",
      "Epoch 21/100\n",
      "283/283 [==============================] - 1s 4ms/step - loss: 1.8485 - accuracy: 0.3278 - val_loss: 1.7633 - val_accuracy: 0.3769\n",
      "Epoch 22/100\n",
      "283/283 [==============================] - 1s 4ms/step - loss: 1.8415 - accuracy: 0.3274 - val_loss: 1.7874 - val_accuracy: 0.3586\n",
      "Epoch 23/100\n",
      "283/283 [==============================] - 1s 4ms/step - loss: 1.8473 - accuracy: 0.3267 - val_loss: 1.7332 - val_accuracy: 0.3785\n",
      "Epoch 24/100\n",
      "283/283 [==============================] - 1s 4ms/step - loss: 1.8371 - accuracy: 0.3312 - val_loss: 1.7798 - val_accuracy: 0.3680\n",
      "Epoch 25/100\n",
      "283/283 [==============================] - 1s 4ms/step - loss: 1.8319 - accuracy: 0.3339 - val_loss: 1.7692 - val_accuracy: 0.3705\n",
      "Epoch 26/100\n",
      "283/283 [==============================] - 1s 4ms/step - loss: 1.8321 - accuracy: 0.3354 - val_loss: 1.7415 - val_accuracy: 0.3791\n",
      "Epoch 27/100\n",
      "283/283 [==============================] - 1s 4ms/step - loss: 1.8314 - accuracy: 0.3356 - val_loss: 1.7666 - val_accuracy: 0.3666\n",
      "Epoch 28/100\n",
      "283/283 [==============================] - 1s 4ms/step - loss: 1.8281 - accuracy: 0.3356 - val_loss: 1.7474 - val_accuracy: 0.3804\n",
      "Epoch 29/100\n",
      "283/283 [==============================] - 1s 4ms/step - loss: 1.8322 - accuracy: 0.3363 - val_loss: 1.7342 - val_accuracy: 0.3795\n",
      "Epoch 30/100\n",
      "283/283 [==============================] - 1s 4ms/step - loss: 1.8251 - accuracy: 0.3353 - val_loss: 1.7446 - val_accuracy: 0.3705\n",
      "Epoch 31/100\n",
      "283/283 [==============================] - 1s 4ms/step - loss: 1.8254 - accuracy: 0.3368 - val_loss: 1.7354 - val_accuracy: 0.3818\n",
      "Epoch 32/100\n",
      "283/283 [==============================] - 1s 4ms/step - loss: 1.8242 - accuracy: 0.3366 - val_loss: 1.7556 - val_accuracy: 0.3768\n",
      "Epoch 33/100\n",
      "283/283 [==============================] - 1s 4ms/step - loss: 1.8171 - accuracy: 0.3390 - val_loss: 1.7526 - val_accuracy: 0.3758\n",
      "Epoch 34/100\n",
      "283/283 [==============================] - 1s 4ms/step - loss: 1.8147 - accuracy: 0.3397 - val_loss: 1.7393 - val_accuracy: 0.3882\n",
      "Epoch 35/100\n",
      "283/283 [==============================] - 1s 4ms/step - loss: 1.8166 - accuracy: 0.3415 - val_loss: 1.7249 - val_accuracy: 0.3834\n",
      "Epoch 36/100\n",
      "283/283 [==============================] - 1s 4ms/step - loss: 1.8179 - accuracy: 0.3405 - val_loss: 1.7319 - val_accuracy: 0.3846\n",
      "Epoch 37/100\n",
      "283/283 [==============================] - 1s 4ms/step - loss: 1.8172 - accuracy: 0.3418 - val_loss: 1.7976 - val_accuracy: 0.3349\n",
      "Epoch 38/100\n",
      "283/283 [==============================] - 1s 4ms/step - loss: 1.8120 - accuracy: 0.3430 - val_loss: 1.7593 - val_accuracy: 0.3776\n",
      "Epoch 39/100\n",
      "283/283 [==============================] - 1s 4ms/step - loss: 1.8183 - accuracy: 0.3387 - val_loss: 1.7296 - val_accuracy: 0.3837\n",
      "Epoch 40/100\n",
      "283/283 [==============================] - 1s 4ms/step - loss: 1.8110 - accuracy: 0.3419 - val_loss: 1.7208 - val_accuracy: 0.3823\n",
      "Epoch 41/100\n",
      "283/283 [==============================] - 1s 4ms/step - loss: 1.8077 - accuracy: 0.3418 - val_loss: 1.7337 - val_accuracy: 0.3860\n",
      "Epoch 42/100\n",
      "283/283 [==============================] - 1s 4ms/step - loss: 1.8077 - accuracy: 0.3431 - val_loss: 1.7389 - val_accuracy: 0.3730\n",
      "Epoch 43/100\n",
      "283/283 [==============================] - 1s 4ms/step - loss: 1.8143 - accuracy: 0.3410 - val_loss: 1.7222 - val_accuracy: 0.3865\n",
      "Epoch 44/100\n",
      "283/283 [==============================] - 1s 4ms/step - loss: 1.8091 - accuracy: 0.3403 - val_loss: 1.7252 - val_accuracy: 0.3826\n",
      "Epoch 45/100\n",
      "283/283 [==============================] - 1s 4ms/step - loss: 1.8083 - accuracy: 0.3440 - val_loss: 1.7535 - val_accuracy: 0.3832\n",
      "Epoch 46/100\n",
      "283/283 [==============================] - 1s 4ms/step - loss: 1.8009 - accuracy: 0.3464 - val_loss: 1.7171 - val_accuracy: 0.3945\n",
      "Epoch 47/100\n",
      "283/283 [==============================] - 1s 4ms/step - loss: 1.8051 - accuracy: 0.3440 - val_loss: 1.7201 - val_accuracy: 0.3884\n",
      "Epoch 48/100\n",
      "283/283 [==============================] - 1s 4ms/step - loss: 1.8048 - accuracy: 0.3433 - val_loss: 1.7115 - val_accuracy: 0.3868\n",
      "Epoch 49/100\n",
      "283/283 [==============================] - 1s 4ms/step - loss: 1.8045 - accuracy: 0.3436 - val_loss: 1.7236 - val_accuracy: 0.3743\n",
      "Epoch 50/100\n",
      "283/283 [==============================] - 1s 4ms/step - loss: 1.8054 - accuracy: 0.3425 - val_loss: 1.7224 - val_accuracy: 0.3867\n",
      "Epoch 51/100\n",
      "283/283 [==============================] - 1s 4ms/step - loss: 1.8021 - accuracy: 0.3439 - val_loss: 1.7063 - val_accuracy: 0.3917\n",
      "Epoch 52/100\n",
      "283/283 [==============================] - 1s 4ms/step - loss: 1.8001 - accuracy: 0.3457 - val_loss: 1.7159 - val_accuracy: 0.3851\n",
      "Epoch 53/100\n",
      "283/283 [==============================] - 1s 4ms/step - loss: 1.8057 - accuracy: 0.3448 - val_loss: 1.7369 - val_accuracy: 0.3843\n",
      "Epoch 54/100\n",
      "283/283 [==============================] - 1s 4ms/step - loss: 1.8038 - accuracy: 0.3417 - val_loss: 1.7340 - val_accuracy: 0.3757\n",
      "Epoch 55/100\n",
      "283/283 [==============================] - 1s 4ms/step - loss: 1.7991 - accuracy: 0.3475 - val_loss: 1.7308 - val_accuracy: 0.3843\n",
      "Epoch 56/100\n",
      "283/283 [==============================] - 1s 4ms/step - loss: 1.7968 - accuracy: 0.3477 - val_loss: 1.7502 - val_accuracy: 0.3774\n",
      "Epoch 57/100\n",
      "283/283 [==============================] - 1s 4ms/step - loss: 1.8034 - accuracy: 0.3432 - val_loss: 1.7051 - val_accuracy: 0.3911\n",
      "Epoch 58/100\n",
      "283/283 [==============================] - 1s 4ms/step - loss: 1.7931 - accuracy: 0.3485 - val_loss: 1.7221 - val_accuracy: 0.3893\n",
      "Epoch 59/100\n",
      "283/283 [==============================] - 1s 4ms/step - loss: 1.7988 - accuracy: 0.3476 - val_loss: 1.7244 - val_accuracy: 0.3903\n",
      "Epoch 60/100\n",
      "283/283 [==============================] - 1s 4ms/step - loss: 1.7944 - accuracy: 0.3480 - val_loss: 1.7088 - val_accuracy: 0.3879\n",
      "Epoch 61/100\n",
      "283/283 [==============================] - 1s 4ms/step - loss: 1.7967 - accuracy: 0.3459 - val_loss: 1.7190 - val_accuracy: 0.3784\n",
      "Epoch 62/100\n",
      "283/283 [==============================] - 1s 4ms/step - loss: 1.7983 - accuracy: 0.3466 - val_loss: 1.7342 - val_accuracy: 0.3838\n",
      "Epoch 63/100\n",
      "283/283 [==============================] - 1s 4ms/step - loss: 1.7988 - accuracy: 0.3477 - val_loss: 1.7104 - val_accuracy: 0.3907\n",
      "Epoch 64/100\n",
      "283/283 [==============================] - 1s 4ms/step - loss: 1.7973 - accuracy: 0.3463 - val_loss: 1.7294 - val_accuracy: 0.3826\n",
      "Epoch 65/100\n",
      "283/283 [==============================] - 1s 4ms/step - loss: 1.7965 - accuracy: 0.3477 - val_loss: 1.7089 - val_accuracy: 0.3998\n",
      "Epoch 66/100\n",
      "283/283 [==============================] - 1s 4ms/step - loss: 1.7883 - accuracy: 0.3492 - val_loss: 1.7301 - val_accuracy: 0.3674\n",
      "Epoch 67/100\n",
      "283/283 [==============================] - 1s 4ms/step - loss: 1.7959 - accuracy: 0.3470 - val_loss: 1.7136 - val_accuracy: 0.3922\n",
      "Epoch 68/100\n",
      "283/283 [==============================] - 1s 4ms/step - loss: 1.7899 - accuracy: 0.3504 - val_loss: 1.7255 - val_accuracy: 0.3854\n",
      "Epoch 69/100\n",
      "283/283 [==============================] - 1s 4ms/step - loss: 1.7977 - accuracy: 0.3446 - val_loss: 1.7332 - val_accuracy: 0.3798\n",
      "Epoch 70/100\n",
      "283/283 [==============================] - 1s 4ms/step - loss: 1.7951 - accuracy: 0.3480 - val_loss: 1.6994 - val_accuracy: 0.3901\n",
      "Epoch 71/100\n",
      "283/283 [==============================] - 1s 4ms/step - loss: 1.7919 - accuracy: 0.3481 - val_loss: 1.7041 - val_accuracy: 0.3926\n",
      "Epoch 72/100\n",
      "283/283 [==============================] - 1s 4ms/step - loss: 1.7898 - accuracy: 0.3480 - val_loss: 1.7286 - val_accuracy: 0.3853\n",
      "Epoch 73/100\n",
      "283/283 [==============================] - 1s 4ms/step - loss: 1.7922 - accuracy: 0.3474 - val_loss: 1.7198 - val_accuracy: 0.3862\n",
      "Epoch 74/100\n",
      "283/283 [==============================] - 1s 4ms/step - loss: 1.7902 - accuracy: 0.3478 - val_loss: 1.7224 - val_accuracy: 0.3890\n",
      "Epoch 75/100\n",
      "283/283 [==============================] - 1s 4ms/step - loss: 1.7922 - accuracy: 0.3466 - val_loss: 1.7110 - val_accuracy: 0.3925\n",
      "Epoch 76/100\n",
      "283/283 [==============================] - 1s 4ms/step - loss: 1.7898 - accuracy: 0.3500 - val_loss: 1.7003 - val_accuracy: 0.3922\n",
      "Epoch 77/100\n",
      "283/283 [==============================] - 1s 4ms/step - loss: 1.7881 - accuracy: 0.3460 - val_loss: 1.6985 - val_accuracy: 0.3885\n",
      "Epoch 78/100\n",
      "283/283 [==============================] - 1s 4ms/step - loss: 1.7850 - accuracy: 0.3487 - val_loss: 1.7181 - val_accuracy: 0.3914\n",
      "Epoch 79/100\n",
      "283/283 [==============================] - 1s 4ms/step - loss: 1.7845 - accuracy: 0.3517 - val_loss: 1.7228 - val_accuracy: 0.3780\n",
      "Epoch 80/100\n",
      "283/283 [==============================] - 1s 4ms/step - loss: 1.7891 - accuracy: 0.3523 - val_loss: 1.7121 - val_accuracy: 0.3892\n",
      "Epoch 81/100\n",
      "283/283 [==============================] - 1s 4ms/step - loss: 1.7842 - accuracy: 0.3512 - val_loss: 1.7102 - val_accuracy: 0.3870\n",
      "Epoch 82/100\n",
      "283/283 [==============================] - 1s 4ms/step - loss: 1.7897 - accuracy: 0.3513 - val_loss: 1.7202 - val_accuracy: 0.3896\n",
      "Epoch 83/100\n",
      "283/283 [==============================] - 1s 4ms/step - loss: 1.7840 - accuracy: 0.3543 - val_loss: 1.7324 - val_accuracy: 0.3795\n",
      "Epoch 84/100\n",
      "283/283 [==============================] - 1s 4ms/step - loss: 1.7838 - accuracy: 0.3506 - val_loss: 1.7120 - val_accuracy: 0.3878\n",
      "Epoch 85/100\n",
      "283/283 [==============================] - 1s 4ms/step - loss: 1.7914 - accuracy: 0.3471 - val_loss: 1.7369 - val_accuracy: 0.3802\n",
      "Epoch 86/100\n",
      "283/283 [==============================] - 1s 4ms/step - loss: 1.7874 - accuracy: 0.3500 - val_loss: 1.7156 - val_accuracy: 0.3816\n",
      "Epoch 87/100\n",
      "283/283 [==============================] - 1s 4ms/step - loss: 1.7880 - accuracy: 0.3526 - val_loss: 1.7143 - val_accuracy: 0.3868\n",
      "Epoch 88/100\n",
      "283/283 [==============================] - 1s 4ms/step - loss: 1.7845 - accuracy: 0.3532 - val_loss: 1.7170 - val_accuracy: 0.3860\n",
      "Epoch 89/100\n",
      "283/283 [==============================] - 1s 4ms/step - loss: 1.7866 - accuracy: 0.3538 - val_loss: 1.7008 - val_accuracy: 0.3914\n",
      "Epoch 90/100\n",
      "283/283 [==============================] - 1s 4ms/step - loss: 1.7879 - accuracy: 0.3506 - val_loss: 1.7086 - val_accuracy: 0.3875\n",
      "Epoch 91/100\n",
      "283/283 [==============================] - 1s 4ms/step - loss: 1.7872 - accuracy: 0.3520 - val_loss: 1.6900 - val_accuracy: 0.3973\n",
      "Epoch 92/100\n",
      "283/283 [==============================] - 1s 4ms/step - loss: 1.7831 - accuracy: 0.3513 - val_loss: 1.7110 - val_accuracy: 0.3873\n",
      "Epoch 93/100\n",
      "283/283 [==============================] - 1s 4ms/step - loss: 1.7846 - accuracy: 0.3503 - val_loss: 1.6917 - val_accuracy: 0.3940\n",
      "Epoch 94/100\n",
      "283/283 [==============================] - 1s 4ms/step - loss: 1.7793 - accuracy: 0.3536 - val_loss: 1.7170 - val_accuracy: 0.3940\n",
      "Epoch 95/100\n",
      "283/283 [==============================] - 1s 4ms/step - loss: 1.7792 - accuracy: 0.3520 - val_loss: 1.7307 - val_accuracy: 0.3744\n",
      "Epoch 96/100\n",
      "283/283 [==============================] - 1s 4ms/step - loss: 1.7822 - accuracy: 0.3508 - val_loss: 1.7298 - val_accuracy: 0.3752\n",
      "Epoch 97/100\n",
      "283/283 [==============================] - 1s 4ms/step - loss: 1.7847 - accuracy: 0.3491 - val_loss: 1.7013 - val_accuracy: 0.3923\n",
      "Epoch 98/100\n",
      "283/283 [==============================] - 1s 4ms/step - loss: 1.7813 - accuracy: 0.3525 - val_loss: 1.7002 - val_accuracy: 0.3970\n",
      "Epoch 99/100\n",
      "283/283 [==============================] - 1s 4ms/step - loss: 1.7857 - accuracy: 0.3483 - val_loss: 1.7393 - val_accuracy: 0.3774\n",
      "Epoch 100/100\n",
      "283/283 [==============================] - 1s 4ms/step - loss: 1.7824 - accuracy: 0.3532 - val_loss: 1.7133 - val_accuracy: 0.3945\n"
     ]
    }
   ],
   "source": [
    "# model_default = build_model()\n",
    "# hist_default = model_default.fit(X_train, y_train, epochs=100, batch_size=128, validation_split=0.15)"
   ]
  },
  {
   "cell_type": "code",
   "execution_count": 216,
   "metadata": {
    "colab": {
     "base_uri": "https://localhost:8080/"
    },
    "id": "FW5lPA1FK7Cm",
    "outputId": "295e2495-26fb-46c3-b48a-6f16d86e1ef5"
   },
   "outputs": [
    {
     "name": "stdout",
     "output_type": "stream",
     "text": [
      "235/235 [==============================] - 1s 3ms/step - loss: 1.7106 - accuracy: 0.3920\n"
     ]
    },
    {
     "data": {
      "text/plain": [
       "[1.7106355428695679, 0.3919999897480011]"
      ]
     },
     "execution_count": 216,
     "metadata": {},
     "output_type": "execute_result"
    }
   ],
   "source": [
    "# score_default = model_default.evaluate(X_valid, y_valid)\n",
    "# score_default"
   ]
  },
  {
   "cell_type": "markdown",
   "metadata": {
    "id": "qwy1NU4UDhGb"
   },
   "source": [
    "Learning Rate Scheduling"
   ]
  },
  {
   "cell_type": "code",
   "execution_count": 217,
   "metadata": {
    "id": "Xwo094PIO7c1"
   },
   "outputs": [],
   "source": [
    "# def build_model(kernel_init=\"glorot_uniform\"):\n",
    "#     \"\"\" Uses arguments to build Keras model. \"\"\"\n",
    "#     model = Sequential()\n",
    "#     model.add(Flatten(input_shape=[32, 32, 3]))\n",
    "#     sgd = tf.keras.optimizers.SGD(learning_rate=0.01)\n",
    "#     model.add(Dense(128,activation=\"sigmoid\", kernel_initializer=kernel_init))\n",
    "#     model.add(Dense(64,activation=\"sigmoid\", kernel_initializer=kernel_init))\n",
    "#     model.add(Dense(32,activation=\"sigmoid\", kernel_initializer=kernel_init))\n",
    "#     model.add(Dense(10,activation='softmax'))\n",
    "#     model.compile(loss=\"categorical_crossentropy\",optimizer=tf.keras.optimizers.Adam(), metrics=[\"accuracy\"])\n",
    "#     return model"
   ]
  },
  {
   "cell_type": "code",
   "execution_count": 218,
   "metadata": {
    "id": "6ka4WWrSPbVf"
   },
   "outputs": [],
   "source": [
    "# model_default = build_model()"
   ]
  },
  {
   "cell_type": "code",
   "execution_count": 219,
   "metadata": {
    "id": "Ugygf9a-W_c_"
   },
   "outputs": [],
   "source": [
    "# import math"
   ]
  },
  {
   "cell_type": "code",
   "execution_count": 220,
   "metadata": {
    "id": "WEjpdpI2Ryp9"
   },
   "outputs": [],
   "source": [
    "# # Define configuration parameters\n",
    "# start_lr = 0.001\n",
    "# exp_decay = 0.1\n",
    "\n",
    "# # Define the scheduling function\n",
    "# def schedule(epoch):\n",
    "#   def lr(epoch, start_lr, exp_decay):\n",
    "#     return start_lr * math.exp(-exp_decay*epoch)\n",
    "#   return lr(epoch, start_lr, exp_decay)"
   ]
  },
  {
   "cell_type": "code",
   "execution_count": 221,
   "metadata": {
    "id": "NMzr20rZWrWL"
   },
   "outputs": [],
   "source": [
    "# lr_callback = tf.keras.callbacks.LearningRateScheduler(schedule, verbose=True)"
   ]
  },
  {
   "cell_type": "code",
   "execution_count": 222,
   "metadata": {
    "colab": {
     "base_uri": "https://localhost:8080/"
    },
    "id": "ib3KuYFZPAgv",
    "outputId": "26d67915-94b6-48e5-81c6-995395f53b7f"
   },
   "outputs": [
    {
     "name": "stdout",
     "output_type": "stream",
     "text": [
      "\n",
      "Epoch 1: LearningRateScheduler setting learning rate to 0.001.\n",
      "Epoch 1/100\n",
      "283/283 [==============================] - 2s 5ms/step - loss: 2.1701 - accuracy: 0.1792 - val_loss: 2.0299 - val_accuracy: 0.2453 - lr: 0.0010\n",
      "\n",
      "Epoch 2: LearningRateScheduler setting learning rate to 0.0009048374180359595.\n",
      "Epoch 2/100\n",
      "283/283 [==============================] - 1s 5ms/step - loss: 1.9722 - accuracy: 0.2654 - val_loss: 1.9175 - val_accuracy: 0.2924 - lr: 9.0484e-04\n",
      "\n",
      "Epoch 3: LearningRateScheduler setting learning rate to 0.0008187307530779819.\n",
      "Epoch 3/100\n",
      "283/283 [==============================] - 1s 4ms/step - loss: 1.8862 - accuracy: 0.3105 - val_loss: 1.8722 - val_accuracy: 0.3253 - lr: 8.1873e-04\n",
      "\n",
      "Epoch 4: LearningRateScheduler setting learning rate to 0.0007408182206817179.\n",
      "Epoch 4/100\n",
      "283/283 [==============================] - 1s 4ms/step - loss: 1.8254 - accuracy: 0.3394 - val_loss: 1.8214 - val_accuracy: 0.3424 - lr: 7.4082e-04\n",
      "\n",
      "Epoch 5: LearningRateScheduler setting learning rate to 0.0006703200460356394.\n",
      "Epoch 5/100\n",
      "283/283 [==============================] - 1s 4ms/step - loss: 1.7809 - accuracy: 0.3554 - val_loss: 1.7776 - val_accuracy: 0.3666 - lr: 6.7032e-04\n",
      "\n",
      "Epoch 6: LearningRateScheduler setting learning rate to 0.0006065306597126335.\n",
      "Epoch 6/100\n",
      "283/283 [==============================] - 1s 4ms/step - loss: 1.7459 - accuracy: 0.3719 - val_loss: 1.7510 - val_accuracy: 0.3672 - lr: 6.0653e-04\n",
      "\n",
      "Epoch 7: LearningRateScheduler setting learning rate to 0.0005488116360940264.\n",
      "Epoch 7/100\n",
      "283/283 [==============================] - 1s 4ms/step - loss: 1.7159 - accuracy: 0.3823 - val_loss: 1.7374 - val_accuracy: 0.3729 - lr: 5.4881e-04\n",
      "\n",
      "Epoch 8: LearningRateScheduler setting learning rate to 0.0004965853037914095.\n",
      "Epoch 8/100\n",
      "283/283 [==============================] - 1s 4ms/step - loss: 1.6864 - accuracy: 0.3926 - val_loss: 1.7094 - val_accuracy: 0.3840 - lr: 4.9659e-04\n",
      "\n",
      "Epoch 9: LearningRateScheduler setting learning rate to 0.0004493289641172216.\n",
      "Epoch 9/100\n",
      "283/283 [==============================] - 1s 4ms/step - loss: 1.6639 - accuracy: 0.4002 - val_loss: 1.6988 - val_accuracy: 0.3875 - lr: 4.4933e-04\n",
      "\n",
      "Epoch 10: LearningRateScheduler setting learning rate to 0.00040656965974059914.\n",
      "Epoch 10/100\n",
      "283/283 [==============================] - 1s 4ms/step - loss: 1.6398 - accuracy: 0.4089 - val_loss: 1.6758 - val_accuracy: 0.3965 - lr: 4.0657e-04\n",
      "\n",
      "Epoch 11: LearningRateScheduler setting learning rate to 0.00036787944117144236.\n",
      "Epoch 11/100\n",
      "283/283 [==============================] - 1s 4ms/step - loss: 1.6223 - accuracy: 0.4159 - val_loss: 1.6636 - val_accuracy: 0.3962 - lr: 3.6788e-04\n",
      "\n",
      "Epoch 12: LearningRateScheduler setting learning rate to 0.00033287108369807955.\n",
      "Epoch 12/100\n",
      "283/283 [==============================] - 1s 4ms/step - loss: 1.6019 - accuracy: 0.4208 - val_loss: 1.6620 - val_accuracy: 0.4058 - lr: 3.3287e-04\n",
      "\n",
      "Epoch 13: LearningRateScheduler setting learning rate to 0.00030119421191220205.\n",
      "Epoch 13/100\n",
      "283/283 [==============================] - 1s 4ms/step - loss: 1.5853 - accuracy: 0.4295 - val_loss: 1.6527 - val_accuracy: 0.4025 - lr: 3.0119e-04\n",
      "\n",
      "Epoch 14: LearningRateScheduler setting learning rate to 0.0002725317930340126.\n",
      "Epoch 14/100\n",
      "283/283 [==============================] - 1s 4ms/step - loss: 1.5697 - accuracy: 0.4355 - val_loss: 1.6321 - val_accuracy: 0.4135 - lr: 2.7253e-04\n",
      "\n",
      "Epoch 15: LearningRateScheduler setting learning rate to 0.00024659696394160646.\n",
      "Epoch 15/100\n",
      "283/283 [==============================] - 1s 4ms/step - loss: 1.5569 - accuracy: 0.4399 - val_loss: 1.6292 - val_accuracy: 0.4146 - lr: 2.4660e-04\n",
      "\n",
      "Epoch 16: LearningRateScheduler setting learning rate to 0.00022313016014842982.\n",
      "Epoch 16/100\n",
      "283/283 [==============================] - 1s 4ms/step - loss: 1.5433 - accuracy: 0.4438 - val_loss: 1.6234 - val_accuracy: 0.4166 - lr: 2.2313e-04\n",
      "\n",
      "Epoch 17: LearningRateScheduler setting learning rate to 0.00020189651799465538.\n",
      "Epoch 17/100\n",
      "283/283 [==============================] - 1s 4ms/step - loss: 1.5310 - accuracy: 0.4514 - val_loss: 1.6229 - val_accuracy: 0.4155 - lr: 2.0190e-04\n",
      "\n",
      "Epoch 18: LearningRateScheduler setting learning rate to 0.0001826835240527346.\n",
      "Epoch 18/100\n",
      "283/283 [==============================] - 1s 4ms/step - loss: 1.5219 - accuracy: 0.4528 - val_loss: 1.6090 - val_accuracy: 0.4242 - lr: 1.8268e-04\n",
      "\n",
      "Epoch 19: LearningRateScheduler setting learning rate to 0.00016529888822158653.\n",
      "Epoch 19/100\n",
      "283/283 [==============================] - 1s 4ms/step - loss: 1.5096 - accuracy: 0.4600 - val_loss: 1.6099 - val_accuracy: 0.4216 - lr: 1.6530e-04\n",
      "\n",
      "Epoch 20: LearningRateScheduler setting learning rate to 0.00014956861922263504.\n",
      "Epoch 20/100\n",
      "283/283 [==============================] - 1s 4ms/step - loss: 1.5026 - accuracy: 0.4624 - val_loss: 1.6138 - val_accuracy: 0.4168 - lr: 1.4957e-04\n",
      "\n",
      "Epoch 21: LearningRateScheduler setting learning rate to 0.0001353352832366127.\n",
      "Epoch 21/100\n",
      "283/283 [==============================] - 1s 4ms/step - loss: 1.4949 - accuracy: 0.4634 - val_loss: 1.5977 - val_accuracy: 0.4278 - lr: 1.3534e-04\n",
      "\n",
      "Epoch 22: LearningRateScheduler setting learning rate to 0.0001224564282529819.\n",
      "Epoch 22/100\n",
      "283/283 [==============================] - 1s 4ms/step - loss: 1.4875 - accuracy: 0.4680 - val_loss: 1.5978 - val_accuracy: 0.4284 - lr: 1.2246e-04\n",
      "\n",
      "Epoch 23: LearningRateScheduler setting learning rate to 0.00011080315836233387.\n",
      "Epoch 23/100\n",
      "283/283 [==============================] - 1s 4ms/step - loss: 1.4810 - accuracy: 0.4704 - val_loss: 1.5884 - val_accuracy: 0.4340 - lr: 1.1080e-04\n",
      "\n",
      "Epoch 24: LearningRateScheduler setting learning rate to 0.00010025884372280371.\n",
      "Epoch 24/100\n",
      "283/283 [==============================] - 1s 4ms/step - loss: 1.4740 - accuracy: 0.4727 - val_loss: 1.5896 - val_accuracy: 0.4314 - lr: 1.0026e-04\n",
      "\n",
      "Epoch 25: LearningRateScheduler setting learning rate to 9.071795328941248e-05.\n",
      "Epoch 25/100\n",
      "283/283 [==============================] - 1s 4ms/step - loss: 1.4698 - accuracy: 0.4746 - val_loss: 1.5875 - val_accuracy: 0.4306 - lr: 9.0718e-05\n",
      "\n",
      "Epoch 26: LearningRateScheduler setting learning rate to 8.20849986238988e-05.\n",
      "Epoch 26/100\n",
      "283/283 [==============================] - 1s 4ms/step - loss: 1.4636 - accuracy: 0.4758 - val_loss: 1.5858 - val_accuracy: 0.4314 - lr: 8.2085e-05\n",
      "\n",
      "Epoch 27: LearningRateScheduler setting learning rate to 7.427357821433387e-05.\n",
      "Epoch 27/100\n",
      "283/283 [==============================] - 1s 4ms/step - loss: 1.4602 - accuracy: 0.4778 - val_loss: 1.5843 - val_accuracy: 0.4312 - lr: 7.4274e-05\n",
      "\n",
      "Epoch 28: LearningRateScheduler setting learning rate to 6.720551273974975e-05.\n",
      "Epoch 28/100\n",
      "283/283 [==============================] - 1s 4ms/step - loss: 1.4554 - accuracy: 0.4791 - val_loss: 1.5815 - val_accuracy: 0.4328 - lr: 6.7206e-05\n",
      "\n",
      "Epoch 29: LearningRateScheduler setting learning rate to 6.0810062625217954e-05.\n",
      "Epoch 29/100\n",
      "283/283 [==============================] - 1s 4ms/step - loss: 1.4522 - accuracy: 0.4813 - val_loss: 1.5781 - val_accuracy: 0.4348 - lr: 6.0810e-05\n",
      "\n",
      "Epoch 30: LearningRateScheduler setting learning rate to 5.502322005640721e-05.\n",
      "Epoch 30/100\n",
      "283/283 [==============================] - 1s 4ms/step - loss: 1.4491 - accuracy: 0.4825 - val_loss: 1.5769 - val_accuracy: 0.4367 - lr: 5.5023e-05\n",
      "\n",
      "Epoch 31: LearningRateScheduler setting learning rate to 4.9787068367863945e-05.\n",
      "Epoch 31/100\n",
      "283/283 [==============================] - 1s 4ms/step - loss: 1.4459 - accuracy: 0.4833 - val_loss: 1.5782 - val_accuracy: 0.4359 - lr: 4.9787e-05\n",
      "\n",
      "Epoch 32: LearningRateScheduler setting learning rate to 4.50492023935578e-05.\n",
      "Epoch 32/100\n",
      "283/283 [==============================] - 1s 4ms/step - loss: 1.4431 - accuracy: 0.4828 - val_loss: 1.5719 - val_accuracy: 0.4391 - lr: 4.5049e-05\n",
      "\n",
      "Epoch 33: LearningRateScheduler setting learning rate to 4.0762203978366214e-05.\n",
      "Epoch 33/100\n",
      "283/283 [==============================] - 1s 4ms/step - loss: 1.4406 - accuracy: 0.4861 - val_loss: 1.5716 - val_accuracy: 0.4408 - lr: 4.0762e-05\n",
      "\n",
      "Epoch 34: LearningRateScheduler setting learning rate to 3.688316740124e-05.\n",
      "Epoch 34/100\n",
      "283/283 [==============================] - 1s 4ms/step - loss: 1.4384 - accuracy: 0.4861 - val_loss: 1.5699 - val_accuracy: 0.4398 - lr: 3.6883e-05\n",
      "\n",
      "Epoch 35: LearningRateScheduler setting learning rate to 3.337326996032607e-05.\n",
      "Epoch 35/100\n",
      "283/283 [==============================] - 1s 4ms/step - loss: 1.4362 - accuracy: 0.4870 - val_loss: 1.5712 - val_accuracy: 0.4391 - lr: 3.3373e-05\n",
      "\n",
      "Epoch 36: LearningRateScheduler setting learning rate to 3.01973834223185e-05.\n",
      "Epoch 36/100\n",
      "283/283 [==============================] - 1s 4ms/step - loss: 1.4343 - accuracy: 0.4876 - val_loss: 1.5695 - val_accuracy: 0.4413 - lr: 3.0197e-05\n",
      "\n",
      "Epoch 37: LearningRateScheduler setting learning rate to 2.732372244729256e-05.\n",
      "Epoch 37/100\n",
      "283/283 [==============================] - 1s 4ms/step - loss: 1.4327 - accuracy: 0.4878 - val_loss: 1.5679 - val_accuracy: 0.4431 - lr: 2.7324e-05\n",
      "\n",
      "Epoch 38: LearningRateScheduler setting learning rate to 2.472352647033939e-05.\n",
      "Epoch 38/100\n",
      "283/283 [==============================] - 1s 4ms/step - loss: 1.4312 - accuracy: 0.4889 - val_loss: 1.5671 - val_accuracy: 0.4428 - lr: 2.4724e-05\n",
      "\n",
      "Epoch 39: LearningRateScheduler setting learning rate to 2.2370771856165592e-05.\n",
      "Epoch 39/100\n",
      "283/283 [==============================] - 1s 4ms/step - loss: 1.4296 - accuracy: 0.4905 - val_loss: 1.5669 - val_accuracy: 0.4408 - lr: 2.2371e-05\n",
      "\n",
      "Epoch 40: LearningRateScheduler setting learning rate to 2.024191144580438e-05.\n",
      "Epoch 40/100\n",
      "283/283 [==============================] - 1s 4ms/step - loss: 1.4286 - accuracy: 0.4905 - val_loss: 1.5662 - val_accuracy: 0.4403 - lr: 2.0242e-05\n",
      "\n",
      "Epoch 41: LearningRateScheduler setting learning rate to 1.831563888873418e-05.\n",
      "Epoch 41/100\n",
      "283/283 [==============================] - 1s 4ms/step - loss: 1.4277 - accuracy: 0.4910 - val_loss: 1.5657 - val_accuracy: 0.4408 - lr: 1.8316e-05\n",
      "\n",
      "Epoch 42: LearningRateScheduler setting learning rate to 1.657267540176124e-05.\n",
      "Epoch 42/100\n",
      "283/283 [==============================] - 1s 4ms/step - loss: 1.4265 - accuracy: 0.4917 - val_loss: 1.5658 - val_accuracy: 0.4419 - lr: 1.6573e-05\n",
      "\n",
      "Epoch 43: LearningRateScheduler setting learning rate to 1.4995576820477704e-05.\n",
      "Epoch 43/100\n",
      "283/283 [==============================] - 1s 4ms/step - loss: 1.4255 - accuracy: 0.4915 - val_loss: 1.5642 - val_accuracy: 0.4422 - lr: 1.4996e-05\n",
      "\n",
      "Epoch 44: LearningRateScheduler setting learning rate to 1.3568559012200934e-05.\n",
      "Epoch 44/100\n",
      "283/283 [==============================] - 1s 4ms/step - loss: 1.4248 - accuracy: 0.4909 - val_loss: 1.5650 - val_accuracy: 0.4436 - lr: 1.3569e-05\n",
      "\n",
      "Epoch 45: LearningRateScheduler setting learning rate to 1.2277339903068436e-05.\n",
      "Epoch 45/100\n",
      "283/283 [==============================] - 1s 4ms/step - loss: 1.4241 - accuracy: 0.4920 - val_loss: 1.5641 - val_accuracy: 0.4424 - lr: 1.2277e-05\n",
      "\n",
      "Epoch 46: LearningRateScheduler setting learning rate to 1.1108996538242306e-05.\n",
      "Epoch 46/100\n",
      "283/283 [==============================] - 1s 4ms/step - loss: 1.4233 - accuracy: 0.4932 - val_loss: 1.5650 - val_accuracy: 0.4430 - lr: 1.1109e-05\n",
      "\n",
      "Epoch 47: LearningRateScheduler setting learning rate to 1.0051835744633576e-05.\n",
      "Epoch 47/100\n",
      "283/283 [==============================] - 1s 4ms/step - loss: 1.4226 - accuracy: 0.4925 - val_loss: 1.5646 - val_accuracy: 0.4438 - lr: 1.0052e-05\n",
      "\n",
      "Epoch 48: LearningRateScheduler setting learning rate to 9.095277101695815e-06.\n",
      "Epoch 48/100\n",
      "283/283 [==============================] - 1s 4ms/step - loss: 1.4220 - accuracy: 0.4933 - val_loss: 1.5637 - val_accuracy: 0.4438 - lr: 9.0953e-06\n",
      "\n",
      "Epoch 49: LearningRateScheduler setting learning rate to 8.229747049020023e-06.\n",
      "Epoch 49/100\n",
      "283/283 [==============================] - 1s 4ms/step - loss: 1.4215 - accuracy: 0.4925 - val_loss: 1.5635 - val_accuracy: 0.4422 - lr: 8.2297e-06\n",
      "\n",
      "Epoch 50: LearningRateScheduler setting learning rate to 7.446583070924338e-06.\n",
      "Epoch 50/100\n",
      "283/283 [==============================] - 1s 4ms/step - loss: 1.4209 - accuracy: 0.4931 - val_loss: 1.5629 - val_accuracy: 0.4431 - lr: 7.4466e-06\n",
      "\n",
      "Epoch 51: LearningRateScheduler setting learning rate to 6.7379469990854676e-06.\n",
      "Epoch 51/100\n",
      "283/283 [==============================] - 1s 4ms/step - loss: 1.4207 - accuracy: 0.4932 - val_loss: 1.5632 - val_accuracy: 0.4449 - lr: 6.7379e-06\n",
      "\n",
      "Epoch 52: LearningRateScheduler setting learning rate to 6.096746565515633e-06.\n",
      "Epoch 52/100\n",
      "283/283 [==============================] - 1s 4ms/step - loss: 1.4201 - accuracy: 0.4936 - val_loss: 1.5633 - val_accuracy: 0.4447 - lr: 6.0967e-06\n",
      "\n",
      "Epoch 53: LearningRateScheduler setting learning rate to 5.516564420760772e-06.\n",
      "Epoch 53/100\n",
      "283/283 [==============================] - 1s 4ms/step - loss: 1.4199 - accuracy: 0.4935 - val_loss: 1.5627 - val_accuracy: 0.4438 - lr: 5.5166e-06\n",
      "\n",
      "Epoch 54: LearningRateScheduler setting learning rate to 4.991593906910213e-06.\n",
      "Epoch 54/100\n",
      "283/283 [==============================] - 1s 4ms/step - loss: 1.4195 - accuracy: 0.4938 - val_loss: 1.5624 - val_accuracy: 0.4431 - lr: 4.9916e-06\n",
      "\n",
      "Epoch 55: LearningRateScheduler setting learning rate to 4.516580942612666e-06.\n",
      "Epoch 55/100\n",
      "283/283 [==============================] - 1s 4ms/step - loss: 1.4192 - accuracy: 0.4937 - val_loss: 1.5627 - val_accuracy: 0.4445 - lr: 4.5166e-06\n",
      "\n",
      "Epoch 56: LearningRateScheduler setting learning rate to 4.086771438464067e-06.\n",
      "Epoch 56/100\n",
      "283/283 [==============================] - 1s 4ms/step - loss: 1.4189 - accuracy: 0.4942 - val_loss: 1.5627 - val_accuracy: 0.4438 - lr: 4.0868e-06\n",
      "\n",
      "Epoch 57: LearningRateScheduler setting learning rate to 3.697863716482929e-06.\n",
      "Epoch 57/100\n",
      "283/283 [==============================] - 1s 4ms/step - loss: 1.4187 - accuracy: 0.4943 - val_loss: 1.5622 - val_accuracy: 0.4442 - lr: 3.6979e-06\n",
      "\n",
      "Epoch 58: LearningRateScheduler setting learning rate to 3.345965457471272e-06.\n",
      "Epoch 58/100\n",
      "283/283 [==============================] - 1s 4ms/step - loss: 1.4185 - accuracy: 0.4947 - val_loss: 1.5620 - val_accuracy: 0.4441 - lr: 3.3460e-06\n",
      "\n",
      "Epoch 59: LearningRateScheduler setting learning rate to 3.027554745375813e-06.\n",
      "Epoch 59/100\n",
      "283/283 [==============================] - 1s 4ms/step - loss: 1.4183 - accuracy: 0.4945 - val_loss: 1.5623 - val_accuracy: 0.4449 - lr: 3.0276e-06\n",
      "\n",
      "Epoch 60: LearningRateScheduler setting learning rate to 2.7394448187683683e-06.\n",
      "Epoch 60/100\n",
      "283/283 [==============================] - 1s 4ms/step - loss: 1.4181 - accuracy: 0.4945 - val_loss: 1.5620 - val_accuracy: 0.4439 - lr: 2.7394e-06\n",
      "\n",
      "Epoch 61: LearningRateScheduler setting learning rate to 2.4787521766663587e-06.\n",
      "Epoch 61/100\n",
      "283/283 [==============================] - 1s 4ms/step - loss: 1.4180 - accuracy: 0.4946 - val_loss: 1.5617 - val_accuracy: 0.4447 - lr: 2.4788e-06\n",
      "\n",
      "Epoch 62: LearningRateScheduler setting learning rate to 2.2428677194858014e-06.\n",
      "Epoch 62/100\n",
      "283/283 [==============================] - 1s 4ms/step - loss: 1.4178 - accuracy: 0.4942 - val_loss: 1.5620 - val_accuracy: 0.4435 - lr: 2.2429e-06\n",
      "\n",
      "Epoch 63: LearningRateScheduler setting learning rate to 2.029430636295734e-06.\n",
      "Epoch 63/100\n",
      "283/283 [==============================] - 1s 4ms/step - loss: 1.4177 - accuracy: 0.4947 - val_loss: 1.5619 - val_accuracy: 0.4436 - lr: 2.0294e-06\n",
      "\n",
      "Epoch 64: LearningRateScheduler setting learning rate to 1.8363047770289056e-06.\n",
      "Epoch 64/100\n",
      "283/283 [==============================] - 1s 4ms/step - loss: 1.4176 - accuracy: 0.4947 - val_loss: 1.5618 - val_accuracy: 0.4433 - lr: 1.8363e-06\n",
      "\n",
      "Epoch 65: LearningRateScheduler setting learning rate to 1.661557273173934e-06.\n",
      "Epoch 65/100\n",
      "283/283 [==============================] - 1s 4ms/step - loss: 1.4175 - accuracy: 0.4950 - val_loss: 1.5618 - val_accuracy: 0.4439 - lr: 1.6616e-06\n",
      "\n",
      "Epoch 66: LearningRateScheduler setting learning rate to 1.5034391929775723e-06.\n",
      "Epoch 66/100\n",
      "283/283 [==============================] - 1s 4ms/step - loss: 1.4174 - accuracy: 0.4948 - val_loss: 1.5618 - val_accuracy: 0.4441 - lr: 1.5034e-06\n",
      "\n",
      "Epoch 67: LearningRateScheduler setting learning rate to 1.3603680375478928e-06.\n",
      "Epoch 67/100\n",
      "283/283 [==============================] - 1s 4ms/step - loss: 1.4173 - accuracy: 0.4949 - val_loss: 1.5617 - val_accuracy: 0.4436 - lr: 1.3604e-06\n",
      "\n",
      "Epoch 68: LearningRateScheduler setting learning rate to 1.230911902673481e-06.\n",
      "Epoch 68/100\n",
      "283/283 [==============================] - 1s 4ms/step - loss: 1.4172 - accuracy: 0.4947 - val_loss: 1.5617 - val_accuracy: 0.4439 - lr: 1.2309e-06\n",
      "\n",
      "Epoch 69: LearningRateScheduler setting learning rate to 1.1137751478448025e-06.\n",
      "Epoch 69/100\n",
      "283/283 [==============================] - 1s 4ms/step - loss: 1.4171 - accuracy: 0.4944 - val_loss: 1.5618 - val_accuracy: 0.4438 - lr: 1.1138e-06\n",
      "\n",
      "Epoch 70: LearningRateScheduler setting learning rate to 1.0077854290485105e-06.\n",
      "Epoch 70/100\n",
      "283/283 [==============================] - 1s 4ms/step - loss: 1.4171 - accuracy: 0.4950 - val_loss: 1.5617 - val_accuracy: 0.4435 - lr: 1.0078e-06\n",
      "\n",
      "Epoch 71: LearningRateScheduler setting learning rate to 9.118819655545163e-07.\n",
      "Epoch 71/100\n",
      "283/283 [==============================] - 1s 4ms/step - loss: 1.4170 - accuracy: 0.4951 - val_loss: 1.5616 - val_accuracy: 0.4438 - lr: 9.1188e-07\n",
      "\n",
      "Epoch 72: LearningRateScheduler setting learning rate to 8.251049232659039e-07.\n",
      "Epoch 72/100\n",
      "283/283 [==============================] - 1s 4ms/step - loss: 1.4169 - accuracy: 0.4949 - val_loss: 1.5616 - val_accuracy: 0.4436 - lr: 8.2510e-07\n",
      "\n",
      "Epoch 73: LearningRateScheduler setting learning rate to 7.465858083766792e-07.\n",
      "Epoch 73/100\n",
      "283/283 [==============================] - 1s 4ms/step - loss: 1.4169 - accuracy: 0.4949 - val_loss: 1.5616 - val_accuracy: 0.4438 - lr: 7.4659e-07\n",
      "\n",
      "Epoch 74: LearningRateScheduler setting learning rate to 6.755387751938438e-07.\n",
      "Epoch 74/100\n",
      "283/283 [==============================] - 1s 4ms/step - loss: 1.4169 - accuracy: 0.4949 - val_loss: 1.5616 - val_accuracy: 0.4439 - lr: 6.7554e-07\n",
      "\n",
      "Epoch 75: LearningRateScheduler setting learning rate to 6.112527611295724e-07.\n",
      "Epoch 75/100\n",
      "283/283 [==============================] - 1s 4ms/step - loss: 1.4168 - accuracy: 0.4950 - val_loss: 1.5615 - val_accuracy: 0.4441 - lr: 6.1125e-07\n",
      "\n",
      "Epoch 76: LearningRateScheduler setting learning rate to 5.530843701478336e-07.\n",
      "Epoch 76/100\n",
      "283/283 [==============================] - 1s 4ms/step - loss: 1.4168 - accuracy: 0.4952 - val_loss: 1.5615 - val_accuracy: 0.4439 - lr: 5.5308e-07\n",
      "\n",
      "Epoch 77: LearningRateScheduler setting learning rate to 5.004514334406104e-07.\n",
      "Epoch 77/100\n",
      "283/283 [==============================] - 1s 4ms/step - loss: 1.4167 - accuracy: 0.4950 - val_loss: 1.5615 - val_accuracy: 0.4439 - lr: 5.0045e-07\n",
      "\n",
      "Epoch 78: LearningRateScheduler setting learning rate to 4.5282718288679697e-07.\n",
      "Epoch 78/100\n",
      "283/283 [==============================] - 1s 4ms/step - loss: 1.4167 - accuracy: 0.4950 - val_loss: 1.5615 - val_accuracy: 0.4441 - lr: 4.5283e-07\n",
      "\n",
      "Epoch 79: LearningRateScheduler setting learning rate to 4.097349789797864e-07.\n",
      "Epoch 79/100\n",
      "283/283 [==============================] - 1s 4ms/step - loss: 1.4167 - accuracy: 0.4950 - val_loss: 1.5615 - val_accuracy: 0.4438 - lr: 4.0973e-07\n",
      "\n",
      "Epoch 80: LearningRateScheduler setting learning rate to 3.7074354045908823e-07.\n",
      "Epoch 80/100\n",
      "283/283 [==============================] - 1s 4ms/step - loss: 1.4167 - accuracy: 0.4950 - val_loss: 1.5615 - val_accuracy: 0.4438 - lr: 3.7074e-07\n",
      "\n",
      "Epoch 81: LearningRateScheduler setting learning rate to 3.3546262790251187e-07.\n",
      "Epoch 81/100\n",
      "283/283 [==============================] - 1s 4ms/step - loss: 1.4166 - accuracy: 0.4951 - val_loss: 1.5615 - val_accuracy: 0.4436 - lr: 3.3546e-07\n",
      "\n",
      "Epoch 82: LearningRateScheduler setting learning rate to 3.035391380788668e-07.\n",
      "Epoch 82/100\n",
      "283/283 [==============================] - 1s 4ms/step - loss: 1.4166 - accuracy: 0.4952 - val_loss: 1.5615 - val_accuracy: 0.4435 - lr: 3.0354e-07\n",
      "\n",
      "Epoch 83: LearningRateScheduler setting learning rate to 2.7465356997214206e-07.\n",
      "Epoch 83/100\n",
      "283/283 [==============================] - 1s 4ms/step - loss: 1.4166 - accuracy: 0.4951 - val_loss: 1.5615 - val_accuracy: 0.4436 - lr: 2.7465e-07\n",
      "\n",
      "Epoch 84: LearningRateScheduler setting learning rate to 2.4851682710795184e-07.\n",
      "Epoch 84/100\n",
      "283/283 [==============================] - 1s 4ms/step - loss: 1.4166 - accuracy: 0.4952 - val_loss: 1.5615 - val_accuracy: 0.4439 - lr: 2.4852e-07\n",
      "\n",
      "Epoch 85: LearningRateScheduler setting learning rate to 2.248673241788482e-07.\n",
      "Epoch 85/100\n",
      "283/283 [==============================] - 1s 4ms/step - loss: 1.4166 - accuracy: 0.4952 - val_loss: 1.5615 - val_accuracy: 0.4436 - lr: 2.2487e-07\n",
      "\n",
      "Epoch 86: LearningRateScheduler setting learning rate to 2.0346836901064418e-07.\n",
      "Epoch 86/100\n",
      "283/283 [==============================] - 1s 4ms/step - loss: 1.4166 - accuracy: 0.4953 - val_loss: 1.5615 - val_accuracy: 0.4439 - lr: 2.0347e-07\n",
      "\n",
      "Epoch 87: LearningRateScheduler setting learning rate to 1.841057936675792e-07.\n",
      "Epoch 87/100\n",
      "283/283 [==============================] - 1s 4ms/step - loss: 1.4165 - accuracy: 0.4951 - val_loss: 1.5615 - val_accuracy: 0.4438 - lr: 1.8411e-07\n",
      "\n",
      "Epoch 88: LearningRateScheduler setting learning rate to 1.6658581098763325e-07.\n",
      "Epoch 88/100\n",
      "283/283 [==============================] - 1s 4ms/step - loss: 1.4165 - accuracy: 0.4952 - val_loss: 1.5615 - val_accuracy: 0.4438 - lr: 1.6659e-07\n",
      "\n",
      "Epoch 89: LearningRateScheduler setting learning rate to 1.507330750954765e-07.\n",
      "Epoch 89/100\n",
      "283/283 [==============================] - 1s 4ms/step - loss: 1.4165 - accuracy: 0.4952 - val_loss: 1.5615 - val_accuracy: 0.4439 - lr: 1.5073e-07\n",
      "\n",
      "Epoch 90: LearningRateScheduler setting learning rate to 1.363889264820114e-07.\n",
      "Epoch 90/100\n",
      "283/283 [==============================] - 1s 4ms/step - loss: 1.4165 - accuracy: 0.4953 - val_loss: 1.5615 - val_accuracy: 0.4436 - lr: 1.3639e-07\n",
      "\n",
      "Epoch 91: LearningRateScheduler setting learning rate to 1.2340980408667958e-07.\n",
      "Epoch 91/100\n",
      "283/283 [==============================] - 1s 4ms/step - loss: 1.4165 - accuracy: 0.4952 - val_loss: 1.5615 - val_accuracy: 0.4436 - lr: 1.2341e-07\n",
      "\n",
      "Epoch 92: LearningRateScheduler setting learning rate to 1.1166580849011478e-07.\n",
      "Epoch 92/100\n",
      "283/283 [==============================] - 1s 4ms/step - loss: 1.4165 - accuracy: 0.4953 - val_loss: 1.5615 - val_accuracy: 0.4436 - lr: 1.1167e-07\n",
      "\n",
      "Epoch 93: LearningRateScheduler setting learning rate to 1.0103940183709325e-07.\n",
      "Epoch 93/100\n",
      "283/283 [==============================] - 1s 4ms/step - loss: 1.4165 - accuracy: 0.4953 - val_loss: 1.5615 - val_accuracy: 0.4436 - lr: 1.0104e-07\n",
      "\n",
      "Epoch 94: LearningRateScheduler setting learning rate to 9.142423147817328e-08.\n",
      "Epoch 94/100\n",
      "283/283 [==============================] - 1s 4ms/step - loss: 1.4165 - accuracy: 0.4951 - val_loss: 1.5615 - val_accuracy: 0.4436 - lr: 9.1424e-08\n",
      "\n",
      "Epoch 95: LearningRateScheduler setting learning rate to 8.272406555663223e-08.\n",
      "Epoch 95/100\n",
      "283/283 [==============================] - 1s 4ms/step - loss: 1.4165 - accuracy: 0.4951 - val_loss: 1.5615 - val_accuracy: 0.4436 - lr: 8.2724e-08\n",
      "\n",
      "Epoch 96: LearningRateScheduler setting learning rate to 7.48518298877006e-08.\n",
      "Epoch 96/100\n",
      "283/283 [==============================] - 1s 4ms/step - loss: 1.4165 - accuracy: 0.4951 - val_loss: 1.5615 - val_accuracy: 0.4436 - lr: 7.4852e-08\n",
      "\n",
      "Epoch 97: LearningRateScheduler setting learning rate to 6.772873649085377e-08.\n",
      "Epoch 97/100\n",
      "283/283 [==============================] - 1s 4ms/step - loss: 1.4165 - accuracy: 0.4952 - val_loss: 1.5615 - val_accuracy: 0.4436 - lr: 6.7729e-08\n",
      "\n",
      "Epoch 98: LearningRateScheduler setting learning rate to 6.128349505322202e-08.\n",
      "Epoch 98/100\n",
      "283/283 [==============================] - 1s 4ms/step - loss: 1.4165 - accuracy: 0.4952 - val_loss: 1.5615 - val_accuracy: 0.4436 - lr: 6.1283e-08\n",
      "\n",
      "Epoch 99: LearningRateScheduler setting learning rate to 5.545159943217695e-08.\n",
      "Epoch 99/100\n",
      "283/283 [==============================] - 1s 4ms/step - loss: 1.4165 - accuracy: 0.4951 - val_loss: 1.5615 - val_accuracy: 0.4436 - lr: 5.5452e-08\n",
      "\n",
      "Epoch 100: LearningRateScheduler setting learning rate to 5.017468205617529e-08.\n",
      "Epoch 100/100\n",
      "283/283 [==============================] - 1s 4ms/step - loss: 1.4165 - accuracy: 0.4953 - val_loss: 1.5615 - val_accuracy: 0.4436 - lr: 5.0175e-08\n"
     ]
    }
   ],
   "source": [
    "\n",
    "# history_exp = model_default.fit(X_train, y_train, epochs=100, batch_size=128, validation_split=0.15,callbacks=lr_callback)"
   ]
  },
  {
   "cell_type": "code",
   "execution_count": 223,
   "metadata": {
    "colab": {
     "base_uri": "https://localhost:8080/"
    },
    "id": "RnrSMkqbg6_d",
    "outputId": "de18fdfd-b2e7-436e-90a2-a7a4226fac76"
   },
   "outputs": [
    {
     "name": "stdout",
     "output_type": "stream",
     "text": [
      "235/235 [==============================] - 1s 3ms/step - loss: 1.5515 - accuracy: 0.4415\n"
     ]
    },
    {
     "data": {
      "text/plain": [
       "[1.5514695644378662, 0.44146665930747986]"
      ]
     },
     "execution_count": 223,
     "metadata": {},
     "output_type": "execute_result"
    }
   ],
   "source": [
    "# score_default = model_default.evaluate(X_valid, y_valid)\n",
    "# score_default"
   ]
  },
  {
   "cell_type": "markdown",
   "metadata": {
    "id": "cgl9FNWpl_uS"
   },
   "source": [
    "Learning Rate Scheduling"
   ]
  },
  {
   "cell_type": "code",
   "execution_count": 224,
   "metadata": {
    "id": "Dp1_dB4ugT5g"
   },
   "outputs": [],
   "source": [
    "# def build_model(kernel_init=\"glorot_uniform\"):\n",
    "#     \"\"\" Uses arguments to build Keras model. \"\"\"\n",
    "#     model = Sequential()\n",
    "#     model.add(Flatten(input_shape=[32, 32, 3]))\n",
    "#     sgd = tf.keras.optimizers.SGD(learning_rate=0.01)\n",
    "#     model.add(Dense(128,activation=\"sigmoid\", kernel_initializer=kernel_init))\n",
    "#     model.add(Dense(64,activation=\"sigmoid\", kernel_initializer=kernel_init))\n",
    "#     model.add(Dense(32,activation=\"sigmoid\", kernel_initializer=kernel_init))\n",
    "#     model.add(Dense(10,activation='softmax'))\n",
    "#     model.compile(loss=\"categorical_crossentropy\",optimizer=tf.keras.optimizers.Adam(), metrics=[\"accuracy\"])\n",
    "#     return model"
   ]
  },
  {
   "cell_type": "code",
   "execution_count": 225,
   "metadata": {
    "id": "p5dtoP6xgWWm"
   },
   "outputs": [],
   "source": [
    "# model_default = build_model()"
   ]
  },
  {
   "cell_type": "code",
   "execution_count": 226,
   "metadata": {
    "id": "u8_8FXZ9gbRz"
   },
   "outputs": [],
   "source": [
    "# import math"
   ]
  },
  {
   "cell_type": "code",
   "execution_count": 227,
   "metadata": {
    "id": "bliMmOnJgfo3"
   },
   "outputs": [],
   "source": [
    "# # Define configuration parameters\n",
    "# start_lr = 0.001\n",
    "# decay = 0.1\n",
    "\n",
    "# # Define the scheduling function\n",
    "# def schedule(epoch):\n",
    "#   previous_lr = 1\n",
    "#   def lr(epoch, start_lr, decay):\n",
    "#     nonlocal previous_lr\n",
    "#     previous_lr *= (start_lr / (1. + decay * epoch))\n",
    "#     return previous_lr\n",
    "#   return lr(epoch, start_lr, decay)"
   ]
  },
  {
   "cell_type": "code",
   "execution_count": 228,
   "metadata": {
    "id": "G8c4esw6E3oO"
   },
   "outputs": [],
   "source": [
    "# lr_callback = tf.keras.callbacks.LearningRateScheduler(schedule, verbose=True)"
   ]
  },
  {
   "cell_type": "code",
   "execution_count": 229,
   "metadata": {
    "colab": {
     "base_uri": "https://localhost:8080/"
    },
    "id": "9E69Lvnmgkll",
    "outputId": "6b367388-2c70-4c3f-995f-95560204fbd7"
   },
   "outputs": [
    {
     "name": "stdout",
     "output_type": "stream",
     "text": [
      "\n",
      "Epoch 1: LearningRateScheduler setting learning rate to 0.001.\n",
      "Epoch 1/100\n",
      "283/283 [==============================] - 2s 5ms/step - loss: 2.1981 - accuracy: 0.1621 - val_loss: 2.0557 - val_accuracy: 0.2096 - lr: 0.0010\n",
      "\n",
      "Epoch 2: LearningRateScheduler setting learning rate to 0.0009090909090909091.\n",
      "Epoch 2/100\n",
      "283/283 [==============================] - 1s 4ms/step - loss: 2.0006 - accuracy: 0.2542 - val_loss: 1.9422 - val_accuracy: 0.2847 - lr: 9.0909e-04\n",
      "\n",
      "Epoch 3: LearningRateScheduler setting learning rate to 0.0008333333333333334.\n",
      "Epoch 3/100\n",
      "283/283 [==============================] - 1s 4ms/step - loss: 1.8899 - accuracy: 0.3154 - val_loss: 1.8855 - val_accuracy: 0.3224 - lr: 8.3333e-04\n",
      "\n",
      "Epoch 4: LearningRateScheduler setting learning rate to 0.0007692307692307692.\n",
      "Epoch 4/100\n",
      "283/283 [==============================] - 1s 4ms/step - loss: 1.8302 - accuracy: 0.3404 - val_loss: 1.8100 - val_accuracy: 0.3575 - lr: 7.6923e-04\n",
      "\n",
      "Epoch 5: LearningRateScheduler setting learning rate to 0.0007142857142857144.\n",
      "Epoch 5/100\n",
      "283/283 [==============================] - 1s 4ms/step - loss: 1.7877 - accuracy: 0.3568 - val_loss: 1.7890 - val_accuracy: 0.3567 - lr: 7.1429e-04\n",
      "\n",
      "Epoch 6: LearningRateScheduler setting learning rate to 0.0006666666666666666.\n",
      "Epoch 6/100\n",
      "283/283 [==============================] - 1s 4ms/step - loss: 1.7569 - accuracy: 0.3666 - val_loss: 1.7719 - val_accuracy: 0.3650 - lr: 6.6667e-04\n",
      "\n",
      "Epoch 7: LearningRateScheduler setting learning rate to 0.000625.\n",
      "Epoch 7/100\n",
      "283/283 [==============================] - 1s 4ms/step - loss: 1.7299 - accuracy: 0.3760 - val_loss: 1.7419 - val_accuracy: 0.3710 - lr: 6.2500e-04\n",
      "\n",
      "Epoch 8: LearningRateScheduler setting learning rate to 0.000588235294117647.\n",
      "Epoch 8/100\n",
      "283/283 [==============================] - 1s 4ms/step - loss: 1.7079 - accuracy: 0.3840 - val_loss: 1.7259 - val_accuracy: 0.3788 - lr: 5.8824e-04\n",
      "\n",
      "Epoch 9: LearningRateScheduler setting learning rate to 0.0005555555555555556.\n",
      "Epoch 9/100\n",
      "283/283 [==============================] - 1s 4ms/step - loss: 1.6877 - accuracy: 0.3950 - val_loss: 1.7110 - val_accuracy: 0.3856 - lr: 5.5556e-04\n",
      "\n",
      "Epoch 10: LearningRateScheduler setting learning rate to 0.0005263157894736842.\n",
      "Epoch 10/100\n",
      "283/283 [==============================] - 1s 4ms/step - loss: 1.6664 - accuracy: 0.3993 - val_loss: 1.6961 - val_accuracy: 0.3853 - lr: 5.2632e-04\n",
      "\n",
      "Epoch 11: LearningRateScheduler setting learning rate to 0.0005.\n",
      "Epoch 11/100\n",
      "283/283 [==============================] - 1s 4ms/step - loss: 1.6460 - accuracy: 0.4064 - val_loss: 1.6816 - val_accuracy: 0.3937 - lr: 5.0000e-04\n",
      "\n",
      "Epoch 12: LearningRateScheduler setting learning rate to 0.0004761904761904762.\n",
      "Epoch 12/100\n",
      "283/283 [==============================] - 1s 5ms/step - loss: 1.6279 - accuracy: 0.4144 - val_loss: 1.6827 - val_accuracy: 0.3865 - lr: 4.7619e-04\n",
      "\n",
      "Epoch 13: LearningRateScheduler setting learning rate to 0.00045454545454545455.\n",
      "Epoch 13/100\n",
      "283/283 [==============================] - 1s 5ms/step - loss: 1.6111 - accuracy: 0.4199 - val_loss: 1.6696 - val_accuracy: 0.3972 - lr: 4.5455e-04\n",
      "\n",
      "Epoch 14: LearningRateScheduler setting learning rate to 0.0004347826086956522.\n",
      "Epoch 14/100\n",
      "283/283 [==============================] - 1s 4ms/step - loss: 1.5933 - accuracy: 0.4269 - val_loss: 1.6498 - val_accuracy: 0.4072 - lr: 4.3478e-04\n",
      "\n",
      "Epoch 15: LearningRateScheduler setting learning rate to 0.00041666666666666664.\n",
      "Epoch 15/100\n",
      "283/283 [==============================] - 1s 4ms/step - loss: 1.5777 - accuracy: 0.4323 - val_loss: 1.6437 - val_accuracy: 0.4121 - lr: 4.1667e-04\n",
      "\n",
      "Epoch 16: LearningRateScheduler setting learning rate to 0.0004.\n",
      "Epoch 16/100\n",
      "283/283 [==============================] - 1s 4ms/step - loss: 1.5626 - accuracy: 0.4389 - val_loss: 1.6395 - val_accuracy: 0.4119 - lr: 4.0000e-04\n",
      "\n",
      "Epoch 17: LearningRateScheduler setting learning rate to 0.0003846153846153846.\n",
      "Epoch 17/100\n",
      "283/283 [==============================] - 1s 4ms/step - loss: 1.5469 - accuracy: 0.4447 - val_loss: 1.6966 - val_accuracy: 0.3923 - lr: 3.8462e-04\n",
      "\n",
      "Epoch 18: LearningRateScheduler setting learning rate to 0.00037037037037037035.\n",
      "Epoch 18/100\n",
      "283/283 [==============================] - 1s 4ms/step - loss: 1.5355 - accuracy: 0.4492 - val_loss: 1.6197 - val_accuracy: 0.4168 - lr: 3.7037e-04\n",
      "\n",
      "Epoch 19: LearningRateScheduler setting learning rate to 0.0003571428571428572.\n",
      "Epoch 19/100\n",
      "283/283 [==============================] - 1s 4ms/step - loss: 1.5160 - accuracy: 0.4551 - val_loss: 1.6117 - val_accuracy: 0.4223 - lr: 3.5714e-04\n",
      "\n",
      "Epoch 20: LearningRateScheduler setting learning rate to 0.0003448275862068965.\n",
      "Epoch 20/100\n",
      "283/283 [==============================] - 1s 4ms/step - loss: 1.5032 - accuracy: 0.4585 - val_loss: 1.6114 - val_accuracy: 0.4223 - lr: 3.4483e-04\n",
      "\n",
      "Epoch 21: LearningRateScheduler setting learning rate to 0.0003333333333333333.\n",
      "Epoch 21/100\n",
      "283/283 [==============================] - 1s 4ms/step - loss: 1.4935 - accuracy: 0.4647 - val_loss: 1.6122 - val_accuracy: 0.4246 - lr: 3.3333e-04\n",
      "\n",
      "Epoch 22: LearningRateScheduler setting learning rate to 0.0003225806451612903.\n",
      "Epoch 22/100\n",
      "283/283 [==============================] - 1s 4ms/step - loss: 1.4820 - accuracy: 0.4689 - val_loss: 1.5975 - val_accuracy: 0.4317 - lr: 3.2258e-04\n",
      "\n",
      "Epoch 23: LearningRateScheduler setting learning rate to 0.0003125.\n",
      "Epoch 23/100\n",
      "283/283 [==============================] - 1s 4ms/step - loss: 1.4705 - accuracy: 0.4714 - val_loss: 1.5936 - val_accuracy: 0.4270 - lr: 3.1250e-04\n",
      "\n",
      "Epoch 24: LearningRateScheduler setting learning rate to 0.00030303030303030303.\n",
      "Epoch 24/100\n",
      "283/283 [==============================] - 1s 4ms/step - loss: 1.4587 - accuracy: 0.4761 - val_loss: 1.5897 - val_accuracy: 0.4279 - lr: 3.0303e-04\n",
      "\n",
      "Epoch 25: LearningRateScheduler setting learning rate to 0.0002941176470588235.\n",
      "Epoch 25/100\n",
      "283/283 [==============================] - 1s 4ms/step - loss: 1.4464 - accuracy: 0.4812 - val_loss: 1.5748 - val_accuracy: 0.4378 - lr: 2.9412e-04\n",
      "\n",
      "Epoch 26: LearningRateScheduler setting learning rate to 0.00028571428571428574.\n",
      "Epoch 26/100\n",
      "283/283 [==============================] - 1s 4ms/step - loss: 1.4388 - accuracy: 0.4808 - val_loss: 1.5732 - val_accuracy: 0.4400 - lr: 2.8571e-04\n",
      "\n",
      "Epoch 27: LearningRateScheduler setting learning rate to 0.0002777777777777778.\n",
      "Epoch 27/100\n",
      "283/283 [==============================] - 1s 4ms/step - loss: 1.4288 - accuracy: 0.4862 - val_loss: 1.5858 - val_accuracy: 0.4295 - lr: 2.7778e-04\n",
      "\n",
      "Epoch 28: LearningRateScheduler setting learning rate to 0.0002702702702702703.\n",
      "Epoch 28/100\n",
      "283/283 [==============================] - 1s 4ms/step - loss: 1.4180 - accuracy: 0.4909 - val_loss: 1.5685 - val_accuracy: 0.4389 - lr: 2.7027e-04\n",
      "\n",
      "Epoch 29: LearningRateScheduler setting learning rate to 0.0002631578947368421.\n",
      "Epoch 29/100\n",
      "283/283 [==============================] - 1s 4ms/step - loss: 1.4107 - accuracy: 0.4926 - val_loss: 1.5628 - val_accuracy: 0.4428 - lr: 2.6316e-04\n",
      "\n",
      "Epoch 30: LearningRateScheduler setting learning rate to 0.0002564102564102564.\n",
      "Epoch 30/100\n",
      "283/283 [==============================] - 1s 4ms/step - loss: 1.4006 - accuracy: 0.4978 - val_loss: 1.5576 - val_accuracy: 0.4445 - lr: 2.5641e-04\n",
      "\n",
      "Epoch 31: LearningRateScheduler setting learning rate to 0.00025.\n",
      "Epoch 31/100\n",
      "283/283 [==============================] - 1s 4ms/step - loss: 1.3934 - accuracy: 0.5007 - val_loss: 1.5578 - val_accuracy: 0.4453 - lr: 2.5000e-04\n",
      "\n",
      "Epoch 32: LearningRateScheduler setting learning rate to 0.00024390243902439027.\n",
      "Epoch 32/100\n",
      "283/283 [==============================] - 1s 4ms/step - loss: 1.3851 - accuracy: 0.5035 - val_loss: 1.5524 - val_accuracy: 0.4474 - lr: 2.4390e-04\n",
      "\n",
      "Epoch 33: LearningRateScheduler setting learning rate to 0.0002380952380952381.\n",
      "Epoch 33/100\n",
      "283/283 [==============================] - 1s 4ms/step - loss: 1.3794 - accuracy: 0.5044 - val_loss: 1.5610 - val_accuracy: 0.4409 - lr: 2.3810e-04\n",
      "\n",
      "Epoch 34: LearningRateScheduler setting learning rate to 0.00023255813953488368.\n",
      "Epoch 34/100\n",
      "283/283 [==============================] - 1s 4ms/step - loss: 1.3730 - accuracy: 0.5077 - val_loss: 1.5580 - val_accuracy: 0.4441 - lr: 2.3256e-04\n",
      "\n",
      "Epoch 35: LearningRateScheduler setting learning rate to 0.00022727272727272727.\n",
      "Epoch 35/100\n",
      "283/283 [==============================] - 1s 4ms/step - loss: 1.3637 - accuracy: 0.5109 - val_loss: 1.5495 - val_accuracy: 0.4433 - lr: 2.2727e-04\n",
      "\n",
      "Epoch 36: LearningRateScheduler setting learning rate to 0.00022222222222222223.\n",
      "Epoch 36/100\n",
      "283/283 [==============================] - 1s 4ms/step - loss: 1.3563 - accuracy: 0.5143 - val_loss: 1.5529 - val_accuracy: 0.4461 - lr: 2.2222e-04\n",
      "\n",
      "Epoch 37: LearningRateScheduler setting learning rate to 0.0002173913043478261.\n",
      "Epoch 37/100\n",
      "283/283 [==============================] - 1s 4ms/step - loss: 1.3504 - accuracy: 0.5158 - val_loss: 1.5468 - val_accuracy: 0.4486 - lr: 2.1739e-04\n",
      "\n",
      "Epoch 38: LearningRateScheduler setting learning rate to 0.0002127659574468085.\n",
      "Epoch 38/100\n",
      "283/283 [==============================] - 1s 4ms/step - loss: 1.3441 - accuracy: 0.5185 - val_loss: 1.5411 - val_accuracy: 0.4493 - lr: 2.1277e-04\n",
      "\n",
      "Epoch 39: LearningRateScheduler setting learning rate to 0.00020833333333333332.\n",
      "Epoch 39/100\n",
      "283/283 [==============================] - 1s 4ms/step - loss: 1.3359 - accuracy: 0.5211 - val_loss: 1.5423 - val_accuracy: 0.4477 - lr: 2.0833e-04\n",
      "\n",
      "Epoch 40: LearningRateScheduler setting learning rate to 0.0002040816326530612.\n",
      "Epoch 40/100\n",
      "283/283 [==============================] - 1s 4ms/step - loss: 1.3310 - accuracy: 0.5214 - val_loss: 1.5417 - val_accuracy: 0.4482 - lr: 2.0408e-04\n",
      "\n",
      "Epoch 41: LearningRateScheduler setting learning rate to 0.0002.\n",
      "Epoch 41/100\n",
      "283/283 [==============================] - 1s 4ms/step - loss: 1.3258 - accuracy: 0.5248 - val_loss: 1.5671 - val_accuracy: 0.4438 - lr: 2.0000e-04\n",
      "\n",
      "Epoch 42: LearningRateScheduler setting learning rate to 0.000196078431372549.\n",
      "Epoch 42/100\n",
      "283/283 [==============================] - 1s 4ms/step - loss: 1.3165 - accuracy: 0.5283 - val_loss: 1.5328 - val_accuracy: 0.4525 - lr: 1.9608e-04\n",
      "\n",
      "Epoch 43: LearningRateScheduler setting learning rate to 0.0001923076923076923.\n",
      "Epoch 43/100\n",
      "283/283 [==============================] - 1s 4ms/step - loss: 1.3149 - accuracy: 0.5289 - val_loss: 1.5425 - val_accuracy: 0.4504 - lr: 1.9231e-04\n",
      "\n",
      "Epoch 44: LearningRateScheduler setting learning rate to 0.00018867924528301889.\n",
      "Epoch 44/100\n",
      "283/283 [==============================] - 1s 4ms/step - loss: 1.3075 - accuracy: 0.5325 - val_loss: 1.5349 - val_accuracy: 0.4524 - lr: 1.8868e-04\n",
      "\n",
      "Epoch 45: LearningRateScheduler setting learning rate to 0.00018518518518518518.\n",
      "Epoch 45/100\n",
      "283/283 [==============================] - 1s 4ms/step - loss: 1.2999 - accuracy: 0.5341 - val_loss: 1.5361 - val_accuracy: 0.4535 - lr: 1.8519e-04\n",
      "\n",
      "Epoch 46: LearningRateScheduler setting learning rate to 0.00018181818181818183.\n",
      "Epoch 46/100\n",
      "283/283 [==============================] - 1s 4ms/step - loss: 1.2976 - accuracy: 0.5350 - val_loss: 1.5380 - val_accuracy: 0.4568 - lr: 1.8182e-04\n",
      "\n",
      "Epoch 47: LearningRateScheduler setting learning rate to 0.00017857142857142857.\n",
      "Epoch 47/100\n",
      "283/283 [==============================] - 1s 4ms/step - loss: 1.2914 - accuracy: 0.5371 - val_loss: 1.5413 - val_accuracy: 0.4535 - lr: 1.7857e-04\n",
      "\n",
      "Epoch 48: LearningRateScheduler setting learning rate to 0.00017543859649122806.\n",
      "Epoch 48/100\n",
      "283/283 [==============================] - 1s 4ms/step - loss: 1.2841 - accuracy: 0.5404 - val_loss: 1.5365 - val_accuracy: 0.4582 - lr: 1.7544e-04\n",
      "\n",
      "Epoch 49: LearningRateScheduler setting learning rate to 0.00017241379310344826.\n",
      "Epoch 49/100\n",
      "283/283 [==============================] - 1s 4ms/step - loss: 1.2795 - accuracy: 0.5427 - val_loss: 1.5345 - val_accuracy: 0.4549 - lr: 1.7241e-04\n",
      "\n",
      "Epoch 50: LearningRateScheduler setting learning rate to 0.0001694915254237288.\n",
      "Epoch 50/100\n",
      "283/283 [==============================] - 1s 4ms/step - loss: 1.2759 - accuracy: 0.5422 - val_loss: 1.5266 - val_accuracy: 0.4579 - lr: 1.6949e-04\n",
      "\n",
      "Epoch 51: LearningRateScheduler setting learning rate to 0.00016666666666666666.\n",
      "Epoch 51/100\n",
      "283/283 [==============================] - 1s 4ms/step - loss: 1.2672 - accuracy: 0.5467 - val_loss: 1.5451 - val_accuracy: 0.4547 - lr: 1.6667e-04\n",
      "\n",
      "Epoch 52: LearningRateScheduler setting learning rate to 0.0001639344262295082.\n",
      "Epoch 52/100\n",
      "283/283 [==============================] - 1s 4ms/step - loss: 1.2647 - accuracy: 0.5457 - val_loss: 1.5283 - val_accuracy: 0.4574 - lr: 1.6393e-04\n",
      "\n",
      "Epoch 53: LearningRateScheduler setting learning rate to 0.00016129032258064516.\n",
      "Epoch 53/100\n",
      "283/283 [==============================] - 1s 4ms/step - loss: 1.2593 - accuracy: 0.5482 - val_loss: 1.5309 - val_accuracy: 0.4579 - lr: 1.6129e-04\n",
      "\n",
      "Epoch 54: LearningRateScheduler setting learning rate to 0.0001587301587301587.\n",
      "Epoch 54/100\n",
      "283/283 [==============================] - 1s 4ms/step - loss: 1.2563 - accuracy: 0.5484 - val_loss: 1.5270 - val_accuracy: 0.4593 - lr: 1.5873e-04\n",
      "\n",
      "Epoch 55: LearningRateScheduler setting learning rate to 0.00015625.\n",
      "Epoch 55/100\n",
      "283/283 [==============================] - 1s 4ms/step - loss: 1.2510 - accuracy: 0.5518 - val_loss: 1.5301 - val_accuracy: 0.4574 - lr: 1.5625e-04\n",
      "\n",
      "Epoch 56: LearningRateScheduler setting learning rate to 0.00015384615384615385.\n",
      "Epoch 56/100\n",
      "283/283 [==============================] - 1s 4ms/step - loss: 1.2471 - accuracy: 0.5524 - val_loss: 1.5318 - val_accuracy: 0.4558 - lr: 1.5385e-04\n",
      "\n",
      "Epoch 57: LearningRateScheduler setting learning rate to 0.00015151515151515152.\n",
      "Epoch 57/100\n",
      "283/283 [==============================] - 1s 4ms/step - loss: 1.2425 - accuracy: 0.5564 - val_loss: 1.5440 - val_accuracy: 0.4552 - lr: 1.5152e-04\n",
      "\n",
      "Epoch 58: LearningRateScheduler setting learning rate to 0.00014925373134328358.\n",
      "Epoch 58/100\n",
      "283/283 [==============================] - 1s 4ms/step - loss: 1.2367 - accuracy: 0.5553 - val_loss: 1.5282 - val_accuracy: 0.4590 - lr: 1.4925e-04\n",
      "\n",
      "Epoch 59: LearningRateScheduler setting learning rate to 0.00014705882352941175.\n",
      "Epoch 59/100\n",
      "283/283 [==============================] - 1s 4ms/step - loss: 1.2327 - accuracy: 0.5586 - val_loss: 1.5283 - val_accuracy: 0.4610 - lr: 1.4706e-04\n",
      "\n",
      "Epoch 60: LearningRateScheduler setting learning rate to 0.00014492753623188405.\n",
      "Epoch 60/100\n",
      "283/283 [==============================] - 1s 4ms/step - loss: 1.2282 - accuracy: 0.5604 - val_loss: 1.5253 - val_accuracy: 0.4626 - lr: 1.4493e-04\n",
      "\n",
      "Epoch 61: LearningRateScheduler setting learning rate to 0.00014285714285714287.\n",
      "Epoch 61/100\n",
      "283/283 [==============================] - 1s 4ms/step - loss: 1.2263 - accuracy: 0.5604 - val_loss: 1.5345 - val_accuracy: 0.4543 - lr: 1.4286e-04\n",
      "\n",
      "Epoch 62: LearningRateScheduler setting learning rate to 0.0001408450704225352.\n",
      "Epoch 62/100\n",
      "283/283 [==============================] - 1s 4ms/step - loss: 1.2219 - accuracy: 0.5640 - val_loss: 1.5304 - val_accuracy: 0.4607 - lr: 1.4085e-04\n",
      "\n",
      "Epoch 63: LearningRateScheduler setting learning rate to 0.0001388888888888889.\n",
      "Epoch 63/100\n",
      "283/283 [==============================] - 1s 4ms/step - loss: 1.2173 - accuracy: 0.5636 - val_loss: 1.5235 - val_accuracy: 0.4599 - lr: 1.3889e-04\n",
      "\n",
      "Epoch 64: LearningRateScheduler setting learning rate to 0.000136986301369863.\n",
      "Epoch 64/100\n",
      "283/283 [==============================] - 1s 4ms/step - loss: 1.2114 - accuracy: 0.5650 - val_loss: 1.5243 - val_accuracy: 0.4596 - lr: 1.3699e-04\n",
      "\n",
      "Epoch 65: LearningRateScheduler setting learning rate to 0.00013513513513513514.\n",
      "Epoch 65/100\n",
      "283/283 [==============================] - 1s 4ms/step - loss: 1.2102 - accuracy: 0.5638 - val_loss: 1.5250 - val_accuracy: 0.4640 - lr: 1.3514e-04\n",
      "\n",
      "Epoch 66: LearningRateScheduler setting learning rate to 0.00013333333333333334.\n",
      "Epoch 66/100\n",
      "283/283 [==============================] - 1s 4ms/step - loss: 1.2040 - accuracy: 0.5689 - val_loss: 1.5394 - val_accuracy: 0.4605 - lr: 1.3333e-04\n",
      "\n",
      "Epoch 67: LearningRateScheduler setting learning rate to 0.00013157894736842105.\n",
      "Epoch 67/100\n",
      "283/283 [==============================] - 1s 4ms/step - loss: 1.2011 - accuracy: 0.5681 - val_loss: 1.5231 - val_accuracy: 0.4638 - lr: 1.3158e-04\n",
      "\n",
      "Epoch 68: LearningRateScheduler setting learning rate to 0.00012987012987012987.\n",
      "Epoch 68/100\n",
      "283/283 [==============================] - 1s 4ms/step - loss: 1.1983 - accuracy: 0.5710 - val_loss: 1.5216 - val_accuracy: 0.4631 - lr: 1.2987e-04\n",
      "\n",
      "Epoch 69: LearningRateScheduler setting learning rate to 0.0001282051282051282.\n",
      "Epoch 69/100\n",
      "283/283 [==============================] - 1s 4ms/step - loss: 1.1939 - accuracy: 0.5720 - val_loss: 1.5323 - val_accuracy: 0.4576 - lr: 1.2821e-04\n",
      "\n",
      "Epoch 70: LearningRateScheduler setting learning rate to 0.00012658227848101267.\n",
      "Epoch 70/100\n",
      "283/283 [==============================] - 1s 4ms/step - loss: 1.1917 - accuracy: 0.5734 - val_loss: 1.5248 - val_accuracy: 0.4627 - lr: 1.2658e-04\n",
      "\n",
      "Epoch 71: LearningRateScheduler setting learning rate to 0.000125.\n",
      "Epoch 71/100\n",
      "283/283 [==============================] - 1s 4ms/step - loss: 1.1876 - accuracy: 0.5756 - val_loss: 1.5242 - val_accuracy: 0.4609 - lr: 1.2500e-04\n",
      "\n",
      "Epoch 72: LearningRateScheduler setting learning rate to 0.00012345679012345677.\n",
      "Epoch 72/100\n",
      "283/283 [==============================] - 1s 4ms/step - loss: 1.1832 - accuracy: 0.5771 - val_loss: 1.5354 - val_accuracy: 0.4623 - lr: 1.2346e-04\n",
      "\n",
      "Epoch 73: LearningRateScheduler setting learning rate to 0.00012195121951219514.\n",
      "Epoch 73/100\n",
      "283/283 [==============================] - 1s 4ms/step - loss: 1.1803 - accuracy: 0.5786 - val_loss: 1.5330 - val_accuracy: 0.4599 - lr: 1.2195e-04\n",
      "\n",
      "Epoch 74: LearningRateScheduler setting learning rate to 0.00012048192771084337.\n",
      "Epoch 74/100\n",
      "283/283 [==============================] - 1s 4ms/step - loss: 1.1774 - accuracy: 0.5797 - val_loss: 1.5316 - val_accuracy: 0.4579 - lr: 1.2048e-04\n",
      "\n",
      "Epoch 75: LearningRateScheduler setting learning rate to 0.00011904761904761905.\n",
      "Epoch 75/100\n",
      "283/283 [==============================] - 1s 4ms/step - loss: 1.1740 - accuracy: 0.5795 - val_loss: 1.5252 - val_accuracy: 0.4613 - lr: 1.1905e-04\n",
      "\n",
      "Epoch 76: LearningRateScheduler setting learning rate to 0.00011764705882352942.\n",
      "Epoch 76/100\n",
      "283/283 [==============================] - 1s 4ms/step - loss: 1.1698 - accuracy: 0.5822 - val_loss: 1.5434 - val_accuracy: 0.4576 - lr: 1.1765e-04\n",
      "\n",
      "Epoch 77: LearningRateScheduler setting learning rate to 0.00011627906976744184.\n",
      "Epoch 77/100\n",
      "283/283 [==============================] - 1s 4ms/step - loss: 1.1668 - accuracy: 0.5830 - val_loss: 1.5287 - val_accuracy: 0.4656 - lr: 1.1628e-04\n",
      "\n",
      "Epoch 78: LearningRateScheduler setting learning rate to 0.00011494252873563219.\n",
      "Epoch 78/100\n",
      "283/283 [==============================] - 1s 4ms/step - loss: 1.1631 - accuracy: 0.5841 - val_loss: 1.5287 - val_accuracy: 0.4626 - lr: 1.1494e-04\n",
      "\n",
      "Epoch 79: LearningRateScheduler setting learning rate to 0.00011363636363636364.\n",
      "Epoch 79/100\n",
      "283/283 [==============================] - 1s 4ms/step - loss: 1.1599 - accuracy: 0.5856 - val_loss: 1.5371 - val_accuracy: 0.4643 - lr: 1.1364e-04\n",
      "\n",
      "Epoch 80: LearningRateScheduler setting learning rate to 0.00011235955056179776.\n",
      "Epoch 80/100\n",
      "283/283 [==============================] - 1s 4ms/step - loss: 1.1580 - accuracy: 0.5864 - val_loss: 1.5291 - val_accuracy: 0.4649 - lr: 1.1236e-04\n",
      "\n",
      "Epoch 81: LearningRateScheduler setting learning rate to 0.00011111111111111112.\n",
      "Epoch 81/100\n",
      "283/283 [==============================] - 1s 4ms/step - loss: 1.1543 - accuracy: 0.5857 - val_loss: 1.5286 - val_accuracy: 0.4635 - lr: 1.1111e-04\n",
      "\n",
      "Epoch 82: LearningRateScheduler setting learning rate to 0.00010989010989010989.\n",
      "Epoch 82/100\n",
      "283/283 [==============================] - 1s 4ms/step - loss: 1.1504 - accuracy: 0.5885 - val_loss: 1.5371 - val_accuracy: 0.4624 - lr: 1.0989e-04\n",
      "\n",
      "Epoch 83: LearningRateScheduler setting learning rate to 0.00010869565217391303.\n",
      "Epoch 83/100\n",
      "283/283 [==============================] - 1s 4ms/step - loss: 1.1500 - accuracy: 0.5885 - val_loss: 1.5326 - val_accuracy: 0.4604 - lr: 1.0870e-04\n",
      "\n",
      "Epoch 84: LearningRateScheduler setting learning rate to 0.00010752688172043011.\n",
      "Epoch 84/100\n",
      "283/283 [==============================] - 1s 4ms/step - loss: 1.1467 - accuracy: 0.5891 - val_loss: 1.5307 - val_accuracy: 0.4635 - lr: 1.0753e-04\n",
      "\n",
      "Epoch 85: LearningRateScheduler setting learning rate to 0.00010638297872340425.\n",
      "Epoch 85/100\n",
      "283/283 [==============================] - 1s 4ms/step - loss: 1.1411 - accuracy: 0.5906 - val_loss: 1.5377 - val_accuracy: 0.4629 - lr: 1.0638e-04\n",
      "\n",
      "Epoch 86: LearningRateScheduler setting learning rate to 0.00010526315789473685.\n",
      "Epoch 86/100\n",
      "283/283 [==============================] - 1s 4ms/step - loss: 1.1405 - accuracy: 0.5918 - val_loss: 1.5261 - val_accuracy: 0.4693 - lr: 1.0526e-04\n",
      "\n",
      "Epoch 87: LearningRateScheduler setting learning rate to 0.00010416666666666667.\n",
      "Epoch 87/100\n",
      "283/283 [==============================] - 1s 4ms/step - loss: 1.1374 - accuracy: 0.5924 - val_loss: 1.5298 - val_accuracy: 0.4607 - lr: 1.0417e-04\n",
      "\n",
      "Epoch 88: LearningRateScheduler setting learning rate to 0.00010309278350515463.\n",
      "Epoch 88/100\n",
      "283/283 [==============================] - 1s 4ms/step - loss: 1.1362 - accuracy: 0.5940 - val_loss: 1.5470 - val_accuracy: 0.4642 - lr: 1.0309e-04\n",
      "\n",
      "Epoch 89: LearningRateScheduler setting learning rate to 0.0001020408163265306.\n",
      "Epoch 89/100\n",
      "283/283 [==============================] - 1s 4ms/step - loss: 1.1326 - accuracy: 0.5950 - val_loss: 1.5306 - val_accuracy: 0.4675 - lr: 1.0204e-04\n",
      "\n",
      "Epoch 90: LearningRateScheduler setting learning rate to 0.00010101010101010101.\n",
      "Epoch 90/100\n",
      "283/283 [==============================] - 1s 4ms/step - loss: 1.1288 - accuracy: 0.5952 - val_loss: 1.5469 - val_accuracy: 0.4563 - lr: 1.0101e-04\n",
      "\n",
      "Epoch 91: LearningRateScheduler setting learning rate to 0.0001.\n",
      "Epoch 91/100\n",
      "283/283 [==============================] - 1s 4ms/step - loss: 1.1244 - accuracy: 0.5977 - val_loss: 1.5385 - val_accuracy: 0.4649 - lr: 1.0000e-04\n",
      "\n",
      "Epoch 92: LearningRateScheduler setting learning rate to 9.900990099009902e-05.\n",
      "Epoch 92/100\n",
      "283/283 [==============================] - 1s 4ms/step - loss: 1.1243 - accuracy: 0.5972 - val_loss: 1.5602 - val_accuracy: 0.4599 - lr: 9.9010e-05\n",
      "\n",
      "Epoch 93: LearningRateScheduler setting learning rate to 9.80392156862745e-05.\n",
      "Epoch 93/100\n",
      "283/283 [==============================] - 1s 4ms/step - loss: 1.1222 - accuracy: 0.5980 - val_loss: 1.5353 - val_accuracy: 0.4635 - lr: 9.8039e-05\n",
      "\n",
      "Epoch 94: LearningRateScheduler setting learning rate to 9.708737864077669e-05.\n",
      "Epoch 94/100\n",
      "283/283 [==============================] - 1s 4ms/step - loss: 1.1189 - accuracy: 0.5994 - val_loss: 1.5423 - val_accuracy: 0.4618 - lr: 9.7087e-05\n",
      "\n",
      "Epoch 95: LearningRateScheduler setting learning rate to 9.615384615384615e-05.\n",
      "Epoch 95/100\n",
      "283/283 [==============================] - 1s 4ms/step - loss: 1.1159 - accuracy: 0.6003 - val_loss: 1.5360 - val_accuracy: 0.4635 - lr: 9.6154e-05\n",
      "\n",
      "Epoch 96: LearningRateScheduler setting learning rate to 9.523809523809524e-05.\n",
      "Epoch 96/100\n",
      "283/283 [==============================] - 1s 4ms/step - loss: 1.1134 - accuracy: 0.6008 - val_loss: 1.5382 - val_accuracy: 0.4690 - lr: 9.5238e-05\n",
      "\n",
      "Epoch 97: LearningRateScheduler setting learning rate to 9.433962264150943e-05.\n",
      "Epoch 97/100\n",
      "283/283 [==============================] - 1s 4ms/step - loss: 1.1107 - accuracy: 0.6023 - val_loss: 1.5549 - val_accuracy: 0.4649 - lr: 9.4340e-05\n",
      "\n",
      "Epoch 98: LearningRateScheduler setting learning rate to 9.345794392523364e-05.\n",
      "Epoch 98/100\n",
      "283/283 [==============================] - 1s 4ms/step - loss: 1.1105 - accuracy: 0.6024 - val_loss: 1.5462 - val_accuracy: 0.4653 - lr: 9.3458e-05\n",
      "\n",
      "Epoch 99: LearningRateScheduler setting learning rate to 9.259259259259259e-05.\n",
      "Epoch 99/100\n",
      "283/283 [==============================] - 1s 4ms/step - loss: 1.1062 - accuracy: 0.6046 - val_loss: 1.5397 - val_accuracy: 0.4660 - lr: 9.2593e-05\n",
      "\n",
      "Epoch 100: LearningRateScheduler setting learning rate to 9.174311926605505e-05.\n",
      "Epoch 100/100\n",
      "283/283 [==============================] - 1s 4ms/step - loss: 1.1027 - accuracy: 0.6064 - val_loss: 1.5391 - val_accuracy: 0.4634 - lr: 9.1743e-05\n"
     ]
    }
   ],
   "source": [
    "# history_time_based_decay = model_default.fit(X_train, y_train, epochs=100, batch_size=128, validation_split=0.15,callbacks=lr_callback)"
   ]
  },
  {
   "cell_type": "code",
   "execution_count": 230,
   "metadata": {
    "colab": {
     "base_uri": "https://localhost:8080/"
    },
    "id": "f-90k2R2hMOt",
    "outputId": "775c8087-c2a1-4fb8-ba20-ecef4853012e"
   },
   "outputs": [
    {
     "name": "stdout",
     "output_type": "stream",
     "text": [
      "235/235 [==============================] - 1s 3ms/step - loss: 1.5201 - accuracy: 0.4712\n"
     ]
    },
    {
     "data": {
      "text/plain": [
       "[1.520074486732483, 0.47119998931884766]"
      ]
     },
     "execution_count": 230,
     "metadata": {},
     "output_type": "execute_result"
    }
   ],
   "source": [
    "# score_default = model_default.evaluate(X_valid, y_valid)\n",
    "# score_default"
   ]
  },
  {
   "cell_type": "markdown",
   "metadata": {
    "id": "aeT3Wsvah4FQ"
   },
   "source": [
    "Early stopping"
   ]
  },
  {
   "cell_type": "code",
   "execution_count": 231,
   "metadata": {
    "id": "iNjY-lgZjpiY"
   },
   "outputs": [],
   "source": [
    "# def build_model(kernel_init=\"glorot_uniform\"):\n",
    "#     \"\"\" Uses arguments to build Keras model. \"\"\"\n",
    "#     model = Sequential()\n",
    "#     model.add(Flatten(input_shape=[32, 32, 3]))\n",
    "#     sgd = tf.keras.optimizers.SGD(learning_rate=0.01)\n",
    "#     model.add(Dense(128,activation=\"sigmoid\", kernel_initializer=kernel_init))\n",
    "#     model.add(Dense(64,activation=\"sigmoid\", kernel_initializer=kernel_init))\n",
    "#     model.add(Dense(32,activation=\"sigmoid\", kernel_initializer=kernel_init))\n",
    "#     model.add(Dense(10,activation='softmax'))\n",
    "#     model.compile(loss=\"categorical_crossentropy\",optimizer=tf.keras.optimizers.Adam(), metrics=[\"accuracy\"])\n",
    "#     return model"
   ]
  },
  {
   "cell_type": "code",
   "execution_count": 232,
   "metadata": {
    "id": "I2uKGZRajxm7"
   },
   "outputs": [],
   "source": [
    "# model_default = build_model()"
   ]
  },
  {
   "cell_type": "code",
   "execution_count": 233,
   "metadata": {
    "id": "UnLpYhDph5q5"
   },
   "outputs": [],
   "source": [
    "# # Two early stopping callbacks\n",
    "# es1 = EarlyStopping(monitor='val_loss', mode='min', verbose=1, patience=3)\n",
    "# es2 = EarlyStopping(monitor='val_loss', mode='min', verbose=1, patience=1)"
   ]
  },
  {
   "cell_type": "code",
   "execution_count": 234,
   "metadata": {
    "id": "7Er0gUzMh8vB"
   },
   "outputs": [],
   "source": [
    "# def evaluate_es():\n",
    "#     # evaluate the model\n",
    "#     _, train_acc = model_default.evaluate(X_train, y_train, verbose=0)\n",
    "#     _, test_acc = model_default.evaluate(X_test, y_test, verbose=0)\n",
    "#     print('Train: %.3f, Test: %.3f' % (train_acc, test_acc))\n",
    "#     # plot training history\n",
    "#     plt.plot(history_es.history['loss'], label='train')\n",
    "#     plt.plot(history_es.history['val_loss'], label='test')\n",
    "#     plt.legend()\n",
    "#     plt.show()"
   ]
  },
  {
   "cell_type": "code",
   "execution_count": 235,
   "metadata": {
    "colab": {
     "base_uri": "https://localhost:8080/"
    },
    "id": "AAvRcSEMiDGQ",
    "outputId": "ba284573-b31c-4e17-db33-8d5d64a83039"
   },
   "outputs": [
    {
     "name": "stdout",
     "output_type": "stream",
     "text": [
      "Epoch 1/100\n",
      "283/283 [==============================] - 2s 5ms/step - loss: 2.1751 - accuracy: 0.1794 - val_loss: 2.0410 - val_accuracy: 0.2463\n",
      "Epoch 2/100\n",
      "283/283 [==============================] - 1s 4ms/step - loss: 1.9656 - accuracy: 0.2690 - val_loss: 1.9215 - val_accuracy: 0.2935\n",
      "Epoch 3/100\n",
      "283/283 [==============================] - 1s 4ms/step - loss: 1.8828 - accuracy: 0.3089 - val_loss: 1.8717 - val_accuracy: 0.3187\n",
      "Epoch 4/100\n",
      "283/283 [==============================] - 1s 4ms/step - loss: 1.8326 - accuracy: 0.3327 - val_loss: 1.8254 - val_accuracy: 0.3379\n",
      "Epoch 5/100\n",
      "283/283 [==============================] - 1s 4ms/step - loss: 1.7905 - accuracy: 0.3491 - val_loss: 1.8007 - val_accuracy: 0.3479\n",
      "Epoch 6/100\n",
      "283/283 [==============================] - 1s 4ms/step - loss: 1.7545 - accuracy: 0.3634 - val_loss: 1.7650 - val_accuracy: 0.3650\n",
      "Epoch 7/100\n",
      "283/283 [==============================] - 1s 4ms/step - loss: 1.7278 - accuracy: 0.3728 - val_loss: 1.7213 - val_accuracy: 0.3733\n",
      "Epoch 8/100\n",
      "283/283 [==============================] - 1s 4ms/step - loss: 1.6994 - accuracy: 0.3867 - val_loss: 1.7010 - val_accuracy: 0.3799\n",
      "Epoch 9/100\n",
      "283/283 [==============================] - 1s 4ms/step - loss: 1.6710 - accuracy: 0.3958 - val_loss: 1.6835 - val_accuracy: 0.3937\n",
      "Epoch 10/100\n",
      "283/283 [==============================] - 1s 4ms/step - loss: 1.6501 - accuracy: 0.4023 - val_loss: 1.6760 - val_accuracy: 0.3972\n",
      "Epoch 11/100\n",
      "283/283 [==============================] - 1s 4ms/step - loss: 1.6285 - accuracy: 0.4109 - val_loss: 1.6940 - val_accuracy: 0.3867\n",
      "Epoch 12/100\n",
      "283/283 [==============================] - 1s 4ms/step - loss: 1.6134 - accuracy: 0.4156 - val_loss: 1.6512 - val_accuracy: 0.4052\n",
      "Epoch 13/100\n",
      "283/283 [==============================] - 1s 4ms/step - loss: 1.5879 - accuracy: 0.4264 - val_loss: 1.6329 - val_accuracy: 0.4185\n",
      "Epoch 14/100\n",
      "283/283 [==============================] - 1s 4ms/step - loss: 1.5666 - accuracy: 0.4364 - val_loss: 1.6332 - val_accuracy: 0.4127\n",
      "Epoch 15/100\n",
      "283/283 [==============================] - 1s 4ms/step - loss: 1.5529 - accuracy: 0.4391 - val_loss: 1.6227 - val_accuracy: 0.4223\n",
      "Epoch 16/100\n",
      "283/283 [==============================] - 1s 4ms/step - loss: 1.5321 - accuracy: 0.4474 - val_loss: 1.6345 - val_accuracy: 0.4213\n",
      "Epoch 17/100\n",
      "283/283 [==============================] - 1s 4ms/step - loss: 1.5162 - accuracy: 0.4512 - val_loss: 1.6260 - val_accuracy: 0.4238\n",
      "Epoch 18/100\n",
      "283/283 [==============================] - 1s 4ms/step - loss: 1.5060 - accuracy: 0.4564 - val_loss: 1.5849 - val_accuracy: 0.4317\n",
      "Epoch 19/100\n",
      "283/283 [==============================] - 1s 4ms/step - loss: 1.4873 - accuracy: 0.4630 - val_loss: 1.5854 - val_accuracy: 0.4347\n",
      "Epoch 20/100\n",
      "283/283 [==============================] - 1s 4ms/step - loss: 1.4801 - accuracy: 0.4656 - val_loss: 1.5873 - val_accuracy: 0.4383\n",
      "Epoch 21/100\n",
      "283/283 [==============================] - 1s 4ms/step - loss: 1.4693 - accuracy: 0.4698 - val_loss: 1.5757 - val_accuracy: 0.4424\n",
      "Epoch 22/100\n",
      "283/283 [==============================] - 1s 4ms/step - loss: 1.4532 - accuracy: 0.4739 - val_loss: 1.5762 - val_accuracy: 0.4387\n",
      "Epoch 23/100\n",
      "283/283 [==============================] - 1s 4ms/step - loss: 1.4429 - accuracy: 0.4793 - val_loss: 1.5890 - val_accuracy: 0.4364\n",
      "Epoch 24/100\n",
      "283/283 [==============================] - 1s 4ms/step - loss: 1.4307 - accuracy: 0.4857 - val_loss: 1.5688 - val_accuracy: 0.4417\n",
      "Epoch 25/100\n",
      "283/283 [==============================] - 1s 4ms/step - loss: 1.4246 - accuracy: 0.4859 - val_loss: 1.5641 - val_accuracy: 0.4508\n",
      "Epoch 26/100\n",
      "283/283 [==============================] - 1s 4ms/step - loss: 1.4106 - accuracy: 0.4924 - val_loss: 1.6504 - val_accuracy: 0.4323\n",
      "Epoch 27/100\n",
      "283/283 [==============================] - 1s 4ms/step - loss: 1.4013 - accuracy: 0.4971 - val_loss: 1.5755 - val_accuracy: 0.4417\n",
      "Epoch 28/100\n",
      "283/283 [==============================] - 1s 4ms/step - loss: 1.3917 - accuracy: 0.4984 - val_loss: 1.5488 - val_accuracy: 0.4547\n",
      "Epoch 29/100\n",
      "283/283 [==============================] - 1s 4ms/step - loss: 1.3820 - accuracy: 0.5007 - val_loss: 1.5418 - val_accuracy: 0.4577\n",
      "Epoch 30/100\n",
      "283/283 [==============================] - 1s 4ms/step - loss: 1.3750 - accuracy: 0.5046 - val_loss: 1.5594 - val_accuracy: 0.4464\n",
      "Epoch 31/100\n",
      "283/283 [==============================] - 1s 4ms/step - loss: 1.3620 - accuracy: 0.5108 - val_loss: 1.5575 - val_accuracy: 0.4558\n",
      "Epoch 32/100\n",
      "283/283 [==============================] - 1s 4ms/step - loss: 1.3542 - accuracy: 0.5126 - val_loss: 1.5601 - val_accuracy: 0.4508\n",
      "Epoch 32: early stopping\n"
     ]
    }
   ],
   "source": [
    "# history_es = model_default.fit(X_train, y_train, epochs=100, batch_size=128, validation_split=0.15, callbacks=[es1])"
   ]
  },
  {
   "cell_type": "code",
   "execution_count": 236,
   "metadata": {
    "colab": {
     "base_uri": "https://localhost:8080/",
     "height": 283
    },
    "id": "dWs2Gx2PiMG-",
    "outputId": "7d6f9743-932a-4120-cfbf-98bfa367ab76"
   },
   "outputs": [
    {
     "name": "stdout",
     "output_type": "stream",
     "text": [
      "Train: 0.510, Test: 0.463\n"
     ]
    },
    {
     "data": {
      "image/png": "[encoded data removed]",
      "text/plain": [
       "<Figure size 432x288 with 1 Axes>"
      ]
     },
     "metadata": {
      "needs_background": "light"
     },
     "output_type": "display_data"
    }
   ],
   "source": [
    "# evaluate_es()"
   ]
  },
  {
   "cell_type": "markdown",
   "metadata": {
    "id": "2vJFvKW3kNYS"
   },
   "source": [
    "Early stopping parameter 2"
   ]
  },
  {
   "cell_type": "code",
   "execution_count": 237,
   "metadata": {
    "id": "8owxmAV0kEkv"
   },
   "outputs": [],
   "source": [
    "# def build_model(kernel_init=\"glorot_uniform\"):\n",
    "#     \"\"\" Uses arguments to build Keras model. \"\"\"\n",
    "#     model = Sequential()\n",
    "#     model.add(Flatten(input_shape=[32, 32, 3]))\n",
    "#     sgd = tf.keras.optimizers.SGD(learning_rate=0.01)\n",
    "#     model.add(Dense(128,activation=\"sigmoid\", kernel_initializer=kernel_init))\n",
    "#     model.add(Dense(64,activation=\"sigmoid\", kernel_initializer=kernel_init))\n",
    "#     model.add(Dense(32,activation=\"sigmoid\", kernel_initializer=kernel_init))\n",
    "#     model.add(Dense(10,activation='softmax'))\n",
    "#     model.compile(loss=\"categorical_crossentropy\",optimizer=tf.keras.optimizers.Adam(), metrics=[\"accuracy\"])\n",
    "#     return model"
   ]
  },
  {
   "cell_type": "code",
   "execution_count": 238,
   "metadata": {
    "id": "qbFFdnFmkKUt"
   },
   "outputs": [],
   "source": [
    "# model_default = build_model()\n"
   ]
  },
  {
   "cell_type": "code",
   "execution_count": 239,
   "metadata": {
    "colab": {
     "base_uri": "https://localhost:8080/"
    },
    "id": "ePdoGZxgid7i",
    "outputId": "450a5a47-428f-4667-869c-0376371aec33"
   },
   "outputs": [
    {
     "name": "stdout",
     "output_type": "stream",
     "text": [
      "283/283 [==============================] - 2s 6ms/step - loss: 2.1181 - accuracy: 0.2192 - val_loss: 1.9366 - val_accuracy: 0.3057\n",
      "Epoch 2/100\n",
      "283/283 [==============================] - 1s 4ms/step - loss: 1.8784 - accuracy: 0.3266 - val_loss: 1.8511 - val_accuracy: 0.3409\n",
      "Epoch 3/100\n",
      "283/283 [==============================] - 1s 4ms/step - loss: 1.8108 - accuracy: 0.3473 - val_loss: 1.7919 - val_accuracy: 0.3507\n",
      "Epoch 4/100\n",
      "283/283 [==============================] - 1s 4ms/step - loss: 1.7498 - accuracy: 0.3682 - val_loss: 1.7676 - val_accuracy: 0.3663\n",
      "Epoch 5/100\n",
      "283/283 [==============================] - 1s 4ms/step - loss: 1.7066 - accuracy: 0.3841 - val_loss: 1.7172 - val_accuracy: 0.3779\n",
      "Epoch 6/100\n",
      "283/283 [==============================] - 1s 4ms/step - loss: 1.6763 - accuracy: 0.3934 - val_loss: 1.6834 - val_accuracy: 0.3890\n",
      "Epoch 7/100\n",
      "283/283 [==============================] - 1s 4ms/step - loss: 1.6442 - accuracy: 0.4024 - val_loss: 1.6993 - val_accuracy: 0.3928\n",
      "Epoch 8/100\n",
      "283/283 [==============================] - 1s 4ms/step - loss: 1.6204 - accuracy: 0.4133 - val_loss: 1.6483 - val_accuracy: 0.4013\n",
      "Epoch 9/100\n",
      "283/283 [==============================] - 1s 4ms/step - loss: 1.5966 - accuracy: 0.4224 - val_loss: 1.6446 - val_accuracy: 0.4072\n",
      "Epoch 10/100\n",
      "283/283 [==============================] - 1s 4ms/step - loss: 1.5803 - accuracy: 0.4302 - val_loss: 1.6586 - val_accuracy: 0.4038\n",
      "Epoch 11/100\n",
      "283/283 [==============================] - 1s 4ms/step - loss: 1.5654 - accuracy: 0.4342 - val_loss: 1.6154 - val_accuracy: 0.4202\n",
      "Epoch 12/100\n",
      "283/283 [==============================] - 1s 4ms/step - loss: 1.5468 - accuracy: 0.4413 - val_loss: 1.6051 - val_accuracy: 0.4259\n",
      "Epoch 13/100\n",
      "283/283 [==============================] - 1s 4ms/step - loss: 1.5307 - accuracy: 0.4493 - val_loss: 1.6098 - val_accuracy: 0.4199\n",
      "Epoch 14/100\n",
      "283/283 [==============================] - 1s 4ms/step - loss: 1.5152 - accuracy: 0.4521 - val_loss: 1.5842 - val_accuracy: 0.4372\n",
      "Epoch 15/100\n",
      "283/283 [==============================] - 1s 4ms/step - loss: 1.4985 - accuracy: 0.4600 - val_loss: 1.5837 - val_accuracy: 0.4317\n",
      "Epoch 16/100\n",
      "283/283 [==============================] - 1s 4ms/step - loss: 1.4873 - accuracy: 0.4642 - val_loss: 1.5989 - val_accuracy: 0.4262\n",
      "Epoch 17/100\n",
      "283/283 [==============================] - 1s 4ms/step - loss: 1.4690 - accuracy: 0.4700 - val_loss: 1.5990 - val_accuracy: 0.4290\n",
      "Epoch 18/100\n",
      "283/283 [==============================] - 1s 4ms/step - loss: 1.4614 - accuracy: 0.4726 - val_loss: 1.6064 - val_accuracy: 0.4373\n",
      "Epoch 18: early stopping\n"
     ]
    }
   ],
   "source": [
    "# history_es = model_default.fit(X_train, y_train, epochs=100, batch_size=128, validation_split=0.15, callbacks=[es1])"
   ]
  },
  {
   "cell_type": "code",
   "execution_count": 240,
   "metadata": {
    "colab": {
     "base_uri": "https://localhost:8080/",
     "height": 283
    },
    "id": "rkEX8yrbiT8P",
    "outputId": "f841df87-a8c9-4815-90bd-95ffb55af218"
   },
   "outputs": [
    {
     "name": "stdout",
     "output_type": "stream",
     "text": [
      "Train: 0.472, Test: 0.439\n"
     ]
    },
    {
     "data": {
      "image/png": "[encoded data removed]",
      "text/plain": [
       "<Figure size 432x288 with 1 Axes>"
      ]
     },
     "metadata": {
      "needs_background": "light"
     },
     "output_type": "display_data"
    }
   ],
   "source": [
    "# evaluate_es()"
   ]
  },
  {
   "cell_type": "markdown",
   "metadata": {
    "id": "mP-VkPDK4Hm3"
   },
   "source": [
    "**Search Grid for MLP model**"
   ]
  },
  {
   "cell_type": "code",
   "execution_count": 148,
   "metadata": {
    "id": "Lr7rZ6mL4w5z"
   },
   "outputs": [],
   "source": [
    "# def build_model(activation='relu',rate=.1,kernel_init=\"he_normal\", opti=tf.keras.optimizers.Adam()):\n",
    "#     \"\"\" Uses arguments to build Keras model. \"\"\"\n",
    "#     model = Sequential()\n",
    "#     model.add(Flatten(input_shape=[32, 32, 3]))\n",
    "#     model.add(Dropout(rate=rate))\n",
    "#     model.add(Dense(128,activation=activation, kernel_initializer=kernel_init))\n",
    "#     model.add(Dropout(rate=rate))\n",
    "#     model.add(Dense(64,activation=activation, kernel_initializer=kernel_init))\n",
    "#     model.add(Dropout(rate=rate))\n",
    "#     model.add(Dense(32,activation=activation, kernel_initializer=kernel_init))\n",
    "#     model.add(Dropout(rate=rate))\n",
    "#     model.add(Dense(10,activation='softmax'))\n",
    "#     model.compile(loss=\"categorical_crossentropy\", optimizer=opti, metrics=[\"accuracy\"])\n",
    "#     return model"
   ]
  },
  {
   "cell_type": "code",
   "execution_count": 149,
   "metadata": {
    "colab": {
     "base_uri": "https://localhost:8080/"
    },
    "id": "UKRPfeMxAO5F",
    "outputId": "70714059-7d83-43d2-8520-a6dd360f44d3"
   },
   "outputs": [
    {
     "name": "stdout",
     "output_type": "stream",
     "text": [
      "{'activation': ['tanh', 'relu', 'sigmoid', 'selu'], 'rate': [0.1, 0.2, 0.3], 'kernel_init': ['he_normal', 'glorot_uniform']}\n"
     ]
    },
    {
     "name": "stderr",
     "output_type": "stream",
     "text": [
      "/usr/local/lib/python3.7/dist-packages/ipykernel_launcher.py:3: DeprecationWarning: KerasClassifier is deprecated, use Sci-Keras (https://github.com/adriangb/scikeras) instead. See https://www.adriangb.com/scikeras/stable/migration.html for help migrating.\n",
      "  This is separate from the ipykernel package so we can avoid doing imports until\n"
     ]
    }
   ],
   "source": [
    "# from tensorflow import keras\n",
    "# from keras import optimizers\n",
    "# model_for_Grid = KerasClassifier(build_fn=build_model, epochs=10, batch_size=256, verbose=0)\n",
    "# parameter_space = {\n",
    "#     'activation': ['tanh', 'relu', 'sigmoid', 'selu'],\n",
    "#     'rate': [.1,.2,.3],\n",
    "#     'kernel_init' : [\"he_normal\",\"glorot_uniform\"]\n",
    "# }\n",
    "# print(parameter_space)"
   ]
  },
  {
   "cell_type": "code",
   "execution_count": 152,
   "metadata": {
    "colab": {
     "base_uri": "https://localhost:8080/"
    },
    "id": "Zx3vTABU4epr",
    "outputId": "cd0ff30f-f043-400e-e75c-a967258dec8c"
   },
   "outputs": [
    {
     "name": "stderr",
     "output_type": "stream",
     "text": [
      "/usr/local/lib/python3.7/dist-packages/joblib/externals/loky/process_executor.py:705: UserWarning: A worker stopped while some jobs were given to the executor. This can be caused by a too short worker timeout or by a memory leak.\n",
      "  \"timeout or by a memory leak.\", UserWarning\n"
     ]
    },
    {
     "data": {
      "text/plain": [
       "GridSearchCV(cv=3,\n",
       "             estimator=<keras.wrappers.scikit_learn.KerasClassifier object at 0x7f09976ae650>,\n",
       "             n_jobs=-1,\n",
       "             param_grid={'activation': ['tanh', 'relu', 'sigmoid', 'selu'],\n",
       "                         'kernel_init': ['he_normal', 'glorot_uniform'],\n",
       "                         'rate': [0.1, 0.2, 0.3]})"
      ]
     },
     "execution_count": 152,
     "metadata": {},
     "output_type": "execute_result"
    }
   ],
   "source": [
    "# from sklearn.model_selection import GridSearchCV\n",
    "# clf = GridSearchCV(estimator=model_for_Grid, param_grid=parameter_space, n_jobs=-1, cv=3)\n",
    "# clf.fit(X_valid, y_valid, epochs=10, batch_size=64, validation_split=0.15)"
   ]
  },
  {
   "cell_type": "code",
   "execution_count": 153,
   "metadata": {
    "colab": {
     "base_uri": "https://localhost:8080/"
    },
    "id": "Yq_s8V9F4iVZ",
    "outputId": "a75deee6-0911-475a-e784-dc2bc993bd29"
   },
   "outputs": [
    {
     "name": "stdout",
     "output_type": "stream",
     "text": [
      "Best parameters found:\n",
      " {'activation': 'selu', 'kernel_init': 'glorot_uniform', 'rate': 0.1}\n",
      "0.191 (+/-0.022) for {'activation': 'tanh', 'kernel_init': 'he_normal', 'rate': 0.1}\n",
      "0.190 (+/-0.011) for {'activation': 'tanh', 'kernel_init': 'he_normal', 'rate': 0.2}\n",
      "0.163 (+/-0.017) for {'activation': 'tanh', 'kernel_init': 'he_normal', 'rate': 0.3}\n",
      "0.199 (+/-0.047) for {'activation': 'tanh', 'kernel_init': 'glorot_uniform', 'rate': 0.1}\n",
      "0.223 (+/-0.025) for {'activation': 'tanh', 'kernel_init': 'glorot_uniform', 'rate': 0.2}\n",
      "0.178 (+/-0.019) for {'activation': 'tanh', 'kernel_init': 'glorot_uniform', 'rate': 0.3}\n",
      "0.278 (+/-0.027) for {'activation': 'relu', 'kernel_init': 'he_normal', 'rate': 0.1}\n",
      "0.240 (+/-0.026) for {'activation': 'relu', 'kernel_init': 'he_normal', 'rate': 0.2}\n",
      "0.173 (+/-0.104) for {'activation': 'relu', 'kernel_init': 'he_normal', 'rate': 0.3}\n",
      "0.314 (+/-0.027) for {'activation': 'relu', 'kernel_init': 'glorot_uniform', 'rate': 0.1}\n",
      "0.270 (+/-0.032) for {'activation': 'relu', 'kernel_init': 'glorot_uniform', 'rate': 0.2}\n",
      "0.199 (+/-0.042) for {'activation': 'relu', 'kernel_init': 'glorot_uniform', 'rate': 0.3}\n",
      "0.263 (+/-0.025) for {'activation': 'sigmoid', 'kernel_init': 'he_normal', 'rate': 0.1}\n",
      "0.201 (+/-0.019) for {'activation': 'sigmoid', 'kernel_init': 'he_normal', 'rate': 0.2}\n",
      "0.191 (+/-0.022) for {'activation': 'sigmoid', 'kernel_init': 'he_normal', 'rate': 0.3}\n",
      "0.237 (+/-0.064) for {'activation': 'sigmoid', 'kernel_init': 'glorot_uniform', 'rate': 0.1}\n",
      "0.210 (+/-0.046) for {'activation': 'sigmoid', 'kernel_init': 'glorot_uniform', 'rate': 0.2}\n",
      "0.195 (+/-0.034) for {'activation': 'sigmoid', 'kernel_init': 'glorot_uniform', 'rate': 0.3}\n",
      "0.298 (+/-0.033) for {'activation': 'selu', 'kernel_init': 'he_normal', 'rate': 0.1}\n",
      "0.281 (+/-0.039) for {'activation': 'selu', 'kernel_init': 'he_normal', 'rate': 0.2}\n",
      "0.264 (+/-0.019) for {'activation': 'selu', 'kernel_init': 'he_normal', 'rate': 0.3}\n",
      "0.332 (+/-0.007) for {'activation': 'selu', 'kernel_init': 'glorot_uniform', 'rate': 0.1}\n",
      "0.310 (+/-0.027) for {'activation': 'selu', 'kernel_init': 'glorot_uniform', 'rate': 0.2}\n",
      "0.287 (+/-0.009) for {'activation': 'selu', 'kernel_init': 'glorot_uniform', 'rate': 0.3}\n"
     ]
    }
   ],
   "source": [
    "# # Best parameter set\n",
    "# print('Best parameters found:\\n', clf.best_params_)\n",
    "\n",
    "# # All results\n",
    "# means = clf.cv_results_['mean_test_score']\n",
    "# stds = clf.cv_results_['std_test_score']\n",
    "# for mean, std, params in zip(means, stds, clf.cv_results_['params']):\n",
    "#     print(\"%0.3f (+/-%0.03f) for %r\" % (mean, std * 2, params))"
   ]
  },
  {
   "cell_type": "markdown",
   "metadata": {
    "id": "ihhxnBnskeAQ"
   },
   "source": [
    "# Final MLP Mode"
   ]
  },
  {
   "cell_type": "code",
   "execution_count": 206,
   "metadata": {
    "colab": {
     "base_uri": "https://localhost:8080/"
    },
    "id": "gv-txWpD2Z0I",
    "outputId": "44d42cb0-d638-4168-8e8e-195ec852cc76"
   },
   "outputs": [
    {
     "name": "stdout",
     "output_type": "stream",
     "text": [
      "Retrain MLP model (yes/no)?no\n",
      "Model: \"sequential_34\"\n",
      "_________________________________________________________________\n",
      " Layer (type)                Output Shape              Param #   \n",
      "=================================================================\n",
      " flatten_34 (Flatten)        (None, 3072)              0         \n",
      "                                                                 \n",
      " dropout_111 (Dropout)       (None, 3072)              0         \n",
      "                                                                 \n",
      " dense_117 (Dense)           (None, 128)               393344    \n",
      "                                                                 \n",
      " dropout_112 (Dropout)       (None, 128)               0         \n",
      "                                                                 \n",
      " dense_118 (Dense)           (None, 64)                8256      \n",
      "                                                                 \n",
      " dropout_113 (Dropout)       (None, 64)                0         \n",
      "                                                                 \n",
      " dense_119 (Dense)           (None, 32)                2080      \n",
      "                                                                 \n",
      " dropout_114 (Dropout)       (None, 32)                0         \n",
      "                                                                 \n",
      " dense_120 (Dense)           (None, 10)                330       \n",
      "                                                                 \n",
      "=================================================================\n",
      "Total params: 404,010\n",
      "Trainable params: 404,010\n",
      "Non-trainable params: 0\n",
      "_________________________________________________________________\n",
      "167/167 [==============================] - 2s 7ms/step - loss: 2.3795 - accuracy: 0.1977 - val_loss: 1.9585 - val_accuracy: 0.2893\n",
      "existing model loaded from file\n"
     ]
    }
   ],
   "source": [
    "# asking user if retraining of the model should be performed \n",
    "answer = input('Retrain MLP model (yes/no)?')\n",
    "if answer == 'yes':\n",
    "\n",
    "    def schedule(epoch):\n",
    "      previous_lr = 1\n",
    "      def lr(epoch, start_lr, decay):\n",
    "      nonlocal previous_lr\n",
    "      previous_lr *= (start_lr / (1. + decay * epoch))\n",
    "      return previous_lr\n",
    "    return lr(epoch, start_lr, decay)\n",
    "\n",
    "    lr_callback = tf.keras.callbacks.LearningRateScheduler(schedule, verbose=True)\n",
    "\n",
    "    es1 = EarlyStopping(monitor='val_loss', mode='min', verbose=1, patience=3)\n",
    "\n",
    "    def build_model():\n",
    "      MLP_Final_model = Sequential()\n",
    "      MLP_Final_model.add(Flatten(input_shape=[32, 32, 3]))\n",
    "      MLP_Final_model.add(Dropout(rate=.1))\n",
    "      MLP_Final_model.add(Dense(128,activation=\"selu\", kernel_initializer='glorot_uniform'))\n",
    "      MLP_Final_model.add(Dropout(rate=.1))\n",
    "      MLP_Final_model.add(Dense(64,activation=\"selu\", kernel_initializer='glorot_uniform'))\n",
    "      MLP_Final_model.add(Dropout(rate=.1))\n",
    "      MLP_Final_model.add(Dense(32,activation=\"selu\", kernel_initializer='glorot_uniform'))\n",
    "      MLP_Final_model.add(Dropout(rate=.1))\n",
    "      MLP_Final_model.add(Dense(10,activation='softmax'))\n",
    "      MLP_Final_model.compile(loss=\"categorical_crossentropy\", optimizer=tf.keras.optimizers.Adam(), metrics=[\"accuracy\"])\n",
    "      return(MLP_Final_model)\n",
    "    MLP_final_model_1=build_model()\n",
    "    MLP_final_model_1.summary()\n",
    "    Model_MLP_FINAL = MLP_final_model_1.fit(X_train, y_train, epochs=100, batch_size=128, validation_split=0.15)\n",
    "\n",
    "    if(os.path.isfile(\"/content/drive/My Drive/CITS5508/Ankit_Kamboj_MLP_Final.h5\")):\n",
    "        answer = input('Overwrite existing model file? (yes/no)?')\n",
    "        if answer == 'yes':\n",
    "            MLP_Final_model.save(\"/content/drive/My Drive/CITS5508/Ankit_Kamboj_MLP_Final.h5\")\n",
    "            print(\"file has been saved\")\n",
    "        else:\n",
    "            MLP_Final_model = load_model(\"/content/drive/My Drive/CITS5508/Ankit_Kamboj_MLP_Final.h5\")\n",
    "            print(\"Previous file loaded\")\n",
    "    else:\n",
    "      MLP_Final_model.save(\"/content/drive/My Drive/CITS5508/Ankit_Kamboj_MLP_Final.h5\")\n",
    "else:\n",
    "    MLP_Final_model = load_model(\"/content/drive/My Drive/CITS5508/Ankit_Kamboj_MLP_Final.h5\")\n",
    "    MLP_final_model_1.summary()\n",
    "    hist_finalCNN = MLP_Final_model.fit(X_train, y_train,epochs=1,batch_size=256,validation_data=(X_test,y_test))\n",
    "    print(\"existing model loaded from file\")"
   ]
  },
  {
   "cell_type": "code",
   "execution_count": 208,
   "metadata": {
    "colab": {
     "base_uri": "https://localhost:8080/"
    },
    "id": "lHSZGFNBFpnd",
    "outputId": "b9fb18cc-8442-4430-89bf-d2adb465b05e"
   },
   "outputs": [
    {
     "name": "stdout",
     "output_type": "stream",
     "text": [
      "1329/1329 [==============================] - 4s 3ms/step - loss: 1.0220 - accuracy: 0.6411\n"
     ]
    },
    {
     "data": {
      "text/plain": [
       "[1.0220218896865845, 0.6410823464393616]"
      ]
     },
     "execution_count": 208,
     "metadata": {},
     "output_type": "execute_result"
    }
   ],
   "source": [
    "score_default = MLP_final_model_1.evaluate(X_train, y_train)\n",
    "score_default"
   ]
  },
  {
   "cell_type": "code",
   "execution_count": 207,
   "metadata": {
    "colab": {
     "base_uri": "https://localhost:8080/"
    },
    "id": "Sn68HCsHGCDd",
    "outputId": "c037990b-c98f-4e00-97fd-8cad9203a34a"
   },
   "outputs": [
    {
     "name": "stdout",
     "output_type": "stream",
     "text": [
      "313/313 [==============================] - 1s 3ms/step - loss: 1.3509 - accuracy: 0.5218\n"
     ]
    },
    {
     "data": {
      "text/plain": [
       "[1.3509464263916016, 0.5217999815940857]"
      ]
     },
     "execution_count": 207,
     "metadata": {},
     "output_type": "execute_result"
    }
   ],
   "source": [
    "score_default = MLP_final_model_1.evaluate(X_test, y_test)\n",
    "score_default"
   ]
  },
  {
   "cell_type": "markdown",
   "metadata": {
    "id": "k4CCtwe1QaNv"
   },
   "source": [
    "**Confusion matrix on final CNN model**"
   ]
  },
  {
   "cell_type": "markdown",
   "metadata": {
    "id": "xxZfRy5uQa1D"
   },
   "source": [
    "**Test Set**"
   ]
  },
  {
   "cell_type": "code",
   "execution_count": 209,
   "metadata": {
    "colab": {
     "base_uri": "https://localhost:8080/"
    },
    "id": "OfQGLGSCQZx6",
    "outputId": "4c5ffba5-1f7c-4a79-f01d-e748f48935dd"
   },
   "outputs": [
    {
     "name": "stdout",
     "output_type": "stream",
     "text": [
      "Classification report \n",
      "=======================\n",
      "              precision    recall  f1-score   support\n",
      "\n",
      "           0       0.60      0.56      0.58      1000\n",
      "           1       0.62      0.66      0.64      1000\n",
      "           2       0.46      0.28      0.35      1000\n",
      "           3       0.35      0.38      0.37      1000\n",
      "           4       0.42      0.50      0.45      1000\n",
      "           5       0.44      0.40      0.42      1000\n",
      "           6       0.57      0.55      0.56      1000\n",
      "           7       0.57      0.61      0.59      1000\n",
      "           8       0.61      0.68      0.64      1000\n",
      "           9       0.58      0.59      0.58      1000\n",
      "\n",
      "    accuracy                           0.52     10000\n",
      "   macro avg       0.52      0.52      0.52     10000\n",
      "weighted avg       0.52      0.52      0.52     10000\n",
      "\n",
      "Confusion matrix \n",
      "=======================\n",
      "[[560  43  37  28  35  13  24  29 169  62]\n",
      " [ 31 661  11  36  12  10  15  15  57 152]\n",
      " [ 92  23 279  95 193  98  78  90  34  18]\n",
      " [ 32  21  58 382 102 172  97  70  30  36]\n",
      " [ 54  10  82  56 502  50 101 106  30   9]\n",
      " [ 14  13  55 234  84 401  65  91  22  21]\n",
      " [  7  19  48 108 157  49 553  18  20  21]\n",
      " [ 30  14  22  77  80  82  21 607  17  50]\n",
      " [ 73  81   8  28  27  20   7  12 684  60]\n",
      " [ 34 184   7  48  17  15  14  30  62 589]]\n"
     ]
    }
   ],
   "source": [
    "import itertools\n",
    "def full_confusion_matrix(model,title):\n",
    "    #getting original inputs\n",
    "    y_test_original=np.argmax(y_test,axis=1)\n",
    "    #predicting classes \n",
    "    y_pred = np.argmax(model.predict(X_test), axis=-1)\n",
    "\n",
    "    #Printing matrix\n",
    "    print(\"Classification report \\n=======================\")\n",
    "    print(classification_report(y_true=y_test_original, y_pred=y_pred))\n",
    "    print(\"Confusion matrix \\n=======================\")\n",
    "    print(confusion_matrix(y_true=y_test_original, y_pred=y_pred))\n",
    "\n",
    "    confusin_matrix = confusion_matrix(y_true=y_test_original, y_pred=y_pred)\n",
    "    np.set_printoptions(precision=2)\n",
    "\n",
    "\n",
    "full_confusion_matrix(MLP_final_model_1, 'CNN confusion matrix')"
   ]
  },
  {
   "cell_type": "markdown",
   "metadata": {
    "id": "0THAIZzXRESC"
   },
   "source": [
    "**Train Set**"
   ]
  },
  {
   "cell_type": "code",
   "execution_count": 210,
   "metadata": {
    "colab": {
     "base_uri": "https://localhost:8080/"
    },
    "id": "ItaLAp2LRHsm",
    "outputId": "c98ec54a-ab48-4839-c66f-8796fef2aaac"
   },
   "outputs": [
    {
     "name": "stdout",
     "output_type": "stream",
     "text": [
      "Classification report \n",
      "=======================\n",
      "              precision    recall  f1-score   support\n",
      "\n",
      "           0       0.69      0.64      0.66      4239\n",
      "           1       0.76      0.80      0.78      4251\n",
      "           2       0.63      0.38      0.47      4285\n",
      "           3       0.47      0.52      0.50      4228\n",
      "           4       0.51      0.62      0.56      4271\n",
      "           5       0.56      0.50      0.53      4201\n",
      "           6       0.71      0.69      0.70      4262\n",
      "           7       0.69      0.74      0.71      4269\n",
      "           8       0.71      0.78      0.74      4250\n",
      "           9       0.70      0.74      0.72      4244\n",
      "\n",
      "    accuracy                           0.64     42500\n",
      "   macro avg       0.64      0.64      0.64     42500\n",
      "weighted avg       0.64      0.64      0.64     42500\n",
      "\n",
      "Confusion matrix \n",
      "=======================\n",
      "[[2722  146  119   88  130   58   60  103  591  222]\n",
      " [  82 3381   17   71   20   21   23   37  173  426]\n",
      " [ 335   44 1615  330  854  345  310  262  108   82]\n",
      " [  93   50  180 2213  305  680  308  209   79  111]\n",
      " [ 201   36  256  169 2632  172  250  372  116   67]\n",
      " [  56   29  164 1029  285 2107  167  265   47   52]\n",
      " [  21   33  122  379  483  133 2951   59   40   41]\n",
      " [  89   39   64  202  272  189   43 3167   48  156]\n",
      " [ 261  207   20   69   97   38   16   23 3307  212]\n",
      " [  91  497   12  119   35   51   43  100  145 3151]]\n"
     ]
    }
   ],
   "source": [
    "def full_confusion_matrix(model,title):\n",
    "    #getting original inputs\n",
    "    y_train_original=np.argmax(y_train,axis=1)\n",
    "    #predicting classes \n",
    "    y_pred = np.argmax(model.predict(X_train), axis=-1)\n",
    "\n",
    "    #Printing matrix\n",
    "    print(\"Classification report \\n=======================\")\n",
    "    print(classification_report(y_true=y_train_original, y_pred=y_pred))\n",
    "    print(\"Confusion matrix \\n=======================\")\n",
    "    print(confusion_matrix(y_true=y_train_original, y_pred=y_pred))\n",
    "\n",
    "    confusin_matrix = confusion_matrix(y_true=y_train_original, y_pred=y_pred)\n",
    "    np.set_printoptions(precision=2)\n",
    "\n",
    "\n",
    "full_confusion_matrix(MLP_final_model_1, 'CNN confusion matrix')"
   ]
  },
  {
   "cell_type": "markdown",
   "metadata": {
    "id": "3pLI_TRq39hY"
   },
   "source": [
    "**few correctly classified and failure cases of image prediction of MLP model**"
   ]
  },
  {
   "cell_type": "code",
   "execution_count": 187,
   "metadata": {
    "colab": {
     "base_uri": "https://localhost:8080/",
     "height": 404
    },
    "id": "mGEgO7yoTwqo",
    "outputId": "5cfa8a9e-53de-40e3-c731-a2f5e034907b"
   },
   "outputs": [
    {
     "data": {
      "image/png": "[encoded data removed]",
      "text/plain": [
       "<Figure size 720x432 with 8 Axes>"
      ]
     },
     "metadata": {
      "needs_background": "light"
     },
     "output_type": "display_data"
    }
   ],
   "source": [
    "def visualise_samples(model_Final_MLP):\n",
    "    i_x = np.random.randint(0, 10000, size=8)\n",
    "    exs_ims = X_test[i_x]\n",
    "    exs_lbs = y_test[i_x]\n",
    "    out_a = model_Final_MLP.predict(exs_ims)\n",
    "    classes = np.argmax(out_a, axis=1)\n",
    "    fig, axes = plt.subplots(2, 4, figsize=(10, 6), sharey=True, sharex=True);\n",
    "    fig.suptitle(r'predicted (actual)')\n",
    "    k = 0\n",
    "    for i in range(2):\n",
    "        for j in range(4):\n",
    "            ax = axes[i, j]\n",
    "            ax.imshow(exs_ims[k]);\n",
    "            actual_lab = LABELS[np.argmax(exs_lbs[k])]\n",
    "            pred_lab = LABELS[classes[k]]\n",
    "            title = \"{} ({})\".format(pred_lab, actual_lab)\n",
    "            title_color = 'black'\n",
    "            if actual_lab != pred_lab:\n",
    "                ax.plot(np.array([0, 32]), np.array([0, 32]), 'r-')\n",
    "                ax.plot(np.array([0, 32]), np.array([32, 0]), 'r-')\n",
    "                title_color = 'red'\n",
    "            ax.set_title(title, color=title_color);\n",
    "            ax.set_xlim(32, 0)\n",
    "            ax.set_ylim(32, 0)\n",
    "            k += 1\n",
    "visualise_samples(model_default)"
   ]
  },
  {
   "cell_type": "markdown",
   "metadata": {
    "id": "rABenmkE23yj"
   },
   "source": [
    "# CNN model"
   ]
  },
  {
   "cell_type": "code",
   "execution_count": 84,
   "metadata": {
    "id": "QV5xfGvG22mH"
   },
   "outputs": [],
   "source": [
    "# from keras.models import Sequential\n",
    "# from keras.layers import Dense, Flatten, Dropout\n",
    "# from keras.layers.convolutional import Conv2D,MaxPooling2D\n",
    "\n",
    "# def CNN_model(filters=32, strides=(1,1) , kernel_size=(3,3), activation='sigmoid',dropout_rate=0.2):\n",
    "#     model = Sequential()\n",
    "#     model.add(Conv2D(filters=filters, strides=strides, kernel_size=kernel_size, activation=activation, input_shape=(32, 32, 3)))\n",
    "#     model.add(MaxPooling2D())\n",
    "#     model.add(Dropout(dropout_rate))\n",
    "#     model.add(Conv2D(filters=filters, strides=strides, kernel_size=kernel_size, activation=activation))\n",
    "#     model.add(Dropout(dropout_rate))\n",
    "#     model.add(Flatten())\n",
    "#     model.add(Dense(10, activation='softmax'))\n",
    "#     model.compile(loss='categorical_crossentropy',\n",
    "#                   optimizer='nadam',\n",
    "#                   metrics=['accuracy'])\n",
    "#     return model"
   ]
  },
  {
   "cell_type": "code",
   "execution_count": 85,
   "metadata": {
    "colab": {
     "base_uri": "https://localhost:8080/"
    },
    "id": "RHy2HaK93QKK",
    "outputId": "ff29165e-70e6-4613-bd1f-3f2e24ce245e"
   },
   "outputs": [
    {
     "name": "stdout",
     "output_type": "stream",
     "text": [
      "Model: \"sequential_3\"\n",
      "_________________________________________________________________\n",
      " Layer (type)                Output Shape              Param #   \n",
      "=================================================================\n",
      " conv2d_6 (Conv2D)           (None, 30, 30, 32)        896       \n",
      "                                                                 \n",
      " max_pooling2d_3 (MaxPooling  (None, 15, 15, 32)       0         \n",
      " 2D)                                                             \n",
      "                                                                 \n",
      " dropout_6 (Dropout)         (None, 15, 15, 32)        0         \n",
      "                                                                 \n",
      " conv2d_7 (Conv2D)           (None, 13, 13, 32)        9248      \n",
      "                                                                 \n",
      " dropout_7 (Dropout)         (None, 13, 13, 32)        0         \n",
      "                                                                 \n",
      " flatten_3 (Flatten)         (None, 5408)              0         \n",
      "                                                                 \n",
      " dense_3 (Dense)             (None, 10)                54090     \n",
      "                                                                 \n",
      "=================================================================\n",
      "Total params: 64,234\n",
      "Trainable params: 64,234\n",
      "Non-trainable params: 0\n",
      "_________________________________________________________________\n"
     ]
    }
   ],
   "source": [
    "# model_defaultCNN = CNN_model()\n",
    "# model_defaultCNN.summary()"
   ]
  },
  {
   "cell_type": "code",
   "execution_count": 87,
   "metadata": {
    "colab": {
     "base_uri": "https://localhost:8080/"
    },
    "id": "GV6yqeUI3W8b",
    "outputId": "58f4b4a8-45fb-4c2b-9b19-7128040f45b2"
   },
   "outputs": [
    {
     "name": "stdout",
     "output_type": "stream",
     "text": [
      "Epoch 1/100\n",
      "142/142 [==============================] - 1s 10ms/step - loss: 1.6920 - accuracy: 0.4045 - val_loss: 1.7009 - val_accuracy: 0.4038\n",
      "Epoch 2/100\n",
      "142/142 [==============================] - 1s 10ms/step - loss: 1.6709 - accuracy: 0.4103 - val_loss: 1.6536 - val_accuracy: 0.4174\n",
      "Epoch 3/100\n",
      "142/142 [==============================] - 1s 10ms/step - loss: 1.6461 - accuracy: 0.4199 - val_loss: 1.6416 - val_accuracy: 0.4284\n",
      "Epoch 4/100\n",
      "142/142 [==============================] - 1s 10ms/step - loss: 1.6253 - accuracy: 0.4279 - val_loss: 1.6536 - val_accuracy: 0.4264\n",
      "Epoch 5/100\n",
      "142/142 [==============================] - 1s 10ms/step - loss: 1.6105 - accuracy: 0.4287 - val_loss: 1.6541 - val_accuracy: 0.4127\n",
      "Epoch 6/100\n",
      "142/142 [==============================] - 1s 10ms/step - loss: 1.5911 - accuracy: 0.4373 - val_loss: 1.5935 - val_accuracy: 0.4378\n",
      "Epoch 7/100\n",
      "142/142 [==============================] - 1s 10ms/step - loss: 1.5775 - accuracy: 0.4417 - val_loss: 1.5776 - val_accuracy: 0.4522\n",
      "Epoch 8/100\n",
      "142/142 [==============================] - 1s 10ms/step - loss: 1.5645 - accuracy: 0.4472 - val_loss: 1.6030 - val_accuracy: 0.4307\n",
      "Epoch 9/100\n",
      "142/142 [==============================] - 1s 10ms/step - loss: 1.5534 - accuracy: 0.4491 - val_loss: 1.6665 - val_accuracy: 0.3934\n",
      "Epoch 10/100\n",
      "142/142 [==============================] - 1s 10ms/step - loss: 1.5456 - accuracy: 0.4534 - val_loss: 1.8151 - val_accuracy: 0.3912\n",
      "Epoch 11/100\n",
      "142/142 [==============================] - 1s 10ms/step - loss: 1.5311 - accuracy: 0.4585 - val_loss: 1.5177 - val_accuracy: 0.4693\n",
      "Epoch 12/100\n",
      "142/142 [==============================] - 1s 10ms/step - loss: 1.5244 - accuracy: 0.4603 - val_loss: 1.5373 - val_accuracy: 0.4667\n",
      "Epoch 13/100\n",
      "142/142 [==============================] - 1s 10ms/step - loss: 1.5091 - accuracy: 0.4668 - val_loss: 1.6775 - val_accuracy: 0.4290\n",
      "Epoch 14/100\n",
      "142/142 [==============================] - 1s 10ms/step - loss: 1.4969 - accuracy: 0.4701 - val_loss: 1.5366 - val_accuracy: 0.4653\n",
      "Epoch 15/100\n",
      "142/142 [==============================] - 1s 10ms/step - loss: 1.4828 - accuracy: 0.4753 - val_loss: 1.4804 - val_accuracy: 0.4838\n",
      "Epoch 16/100\n",
      "142/142 [==============================] - 1s 10ms/step - loss: 1.4740 - accuracy: 0.4739 - val_loss: 1.4830 - val_accuracy: 0.4792\n",
      "Epoch 17/100\n",
      "142/142 [==============================] - 1s 10ms/step - loss: 1.4607 - accuracy: 0.4833 - val_loss: 1.4967 - val_accuracy: 0.4748\n",
      "Epoch 18/100\n",
      "142/142 [==============================] - 1s 10ms/step - loss: 1.4495 - accuracy: 0.4838 - val_loss: 1.4606 - val_accuracy: 0.4750\n",
      "Epoch 19/100\n",
      "142/142 [==============================] - 1s 10ms/step - loss: 1.4393 - accuracy: 0.4870 - val_loss: 1.4217 - val_accuracy: 0.5031\n",
      "Epoch 20/100\n",
      "142/142 [==============================] - 1s 10ms/step - loss: 1.4291 - accuracy: 0.4894 - val_loss: 1.4522 - val_accuracy: 0.4861\n",
      "Epoch 21/100\n",
      "142/142 [==============================] - 1s 10ms/step - loss: 1.4146 - accuracy: 0.4979 - val_loss: 1.4287 - val_accuracy: 0.4949\n",
      "Epoch 22/100\n",
      "142/142 [==============================] - 1s 10ms/step - loss: 1.4048 - accuracy: 0.4996 - val_loss: 1.4028 - val_accuracy: 0.5056\n",
      "Epoch 23/100\n",
      "142/142 [==============================] - 1s 10ms/step - loss: 1.3920 - accuracy: 0.5035 - val_loss: 1.4713 - val_accuracy: 0.4718\n",
      "Epoch 24/100\n",
      "142/142 [==============================] - 1s 10ms/step - loss: 1.3834 - accuracy: 0.5093 - val_loss: 1.4063 - val_accuracy: 0.5021\n",
      "Epoch 25/100\n",
      "142/142 [==============================] - 1s 10ms/step - loss: 1.3715 - accuracy: 0.5130 - val_loss: 1.3932 - val_accuracy: 0.5016\n",
      "Epoch 26/100\n",
      "142/142 [==============================] - 1s 10ms/step - loss: 1.3622 - accuracy: 0.5184 - val_loss: 1.3891 - val_accuracy: 0.5120\n",
      "Epoch 27/100\n",
      "142/142 [==============================] - 1s 10ms/step - loss: 1.3525 - accuracy: 0.5202 - val_loss: 1.4245 - val_accuracy: 0.4844\n",
      "Epoch 28/100\n",
      "142/142 [==============================] - 1s 10ms/step - loss: 1.3438 - accuracy: 0.5227 - val_loss: 1.4111 - val_accuracy: 0.4916\n",
      "Epoch 29/100\n",
      "142/142 [==============================] - 1s 10ms/step - loss: 1.3326 - accuracy: 0.5266 - val_loss: 1.4023 - val_accuracy: 0.4987\n",
      "Epoch 30/100\n",
      "142/142 [==============================] - 1s 10ms/step - loss: 1.3262 - accuracy: 0.5278 - val_loss: 1.3483 - val_accuracy: 0.5214\n",
      "Epoch 31/100\n",
      "142/142 [==============================] - 1s 10ms/step - loss: 1.3164 - accuracy: 0.5340 - val_loss: 1.4400 - val_accuracy: 0.5018\n",
      "Epoch 32/100\n",
      "142/142 [==============================] - 1s 10ms/step - loss: 1.3105 - accuracy: 0.5325 - val_loss: 1.3147 - val_accuracy: 0.5347\n",
      "Epoch 33/100\n",
      "142/142 [==============================] - 1s 10ms/step - loss: 1.3047 - accuracy: 0.5378 - val_loss: 1.3824 - val_accuracy: 0.5145\n",
      "Epoch 34/100\n",
      "142/142 [==============================] - 1s 10ms/step - loss: 1.2962 - accuracy: 0.5401 - val_loss: 1.4365 - val_accuracy: 0.4824\n",
      "Epoch 35/100\n",
      "142/142 [==============================] - 1s 10ms/step - loss: 1.2940 - accuracy: 0.5396 - val_loss: 1.4680 - val_accuracy: 0.4844\n",
      "Epoch 36/100\n",
      "142/142 [==============================] - 1s 10ms/step - loss: 1.2874 - accuracy: 0.5452 - val_loss: 1.3540 - val_accuracy: 0.5134\n",
      "Epoch 37/100\n",
      "142/142 [==============================] - 1s 10ms/step - loss: 1.2780 - accuracy: 0.5467 - val_loss: 1.3191 - val_accuracy: 0.5343\n",
      "Epoch 38/100\n",
      "142/142 [==============================] - 1s 10ms/step - loss: 1.2727 - accuracy: 0.5476 - val_loss: 1.2757 - val_accuracy: 0.5537\n",
      "Epoch 39/100\n",
      "142/142 [==============================] - 1s 10ms/step - loss: 1.2632 - accuracy: 0.5504 - val_loss: 1.3139 - val_accuracy: 0.5421\n",
      "Epoch 40/100\n",
      "142/142 [==============================] - 1s 10ms/step - loss: 1.2572 - accuracy: 0.5509 - val_loss: 1.2753 - val_accuracy: 0.5445\n",
      "Epoch 41/100\n",
      "142/142 [==============================] - 1s 10ms/step - loss: 1.2550 - accuracy: 0.5520 - val_loss: 1.2975 - val_accuracy: 0.5456\n",
      "Epoch 42/100\n",
      "142/142 [==============================] - 1s 10ms/step - loss: 1.2483 - accuracy: 0.5570 - val_loss: 1.2862 - val_accuracy: 0.5418\n",
      "Epoch 43/100\n",
      "142/142 [==============================] - 1s 10ms/step - loss: 1.2446 - accuracy: 0.5594 - val_loss: 1.2823 - val_accuracy: 0.5487\n",
      "Epoch 44/100\n",
      "142/142 [==============================] - 1s 10ms/step - loss: 1.2351 - accuracy: 0.5626 - val_loss: 1.2886 - val_accuracy: 0.5391\n",
      "Epoch 45/100\n",
      "142/142 [==============================] - 1s 10ms/step - loss: 1.2258 - accuracy: 0.5643 - val_loss: 1.3019 - val_accuracy: 0.5395\n",
      "Epoch 46/100\n",
      "142/142 [==============================] - 1s 10ms/step - loss: 1.2268 - accuracy: 0.5640 - val_loss: 1.2444 - val_accuracy: 0.5613\n",
      "Epoch 47/100\n",
      "142/142 [==============================] - 1s 10ms/step - loss: 1.2178 - accuracy: 0.5662 - val_loss: 1.2914 - val_accuracy: 0.5456\n",
      "Epoch 48/100\n",
      "142/142 [==============================] - 1s 10ms/step - loss: 1.2141 - accuracy: 0.5700 - val_loss: 1.2536 - val_accuracy: 0.5533\n",
      "Epoch 49/100\n",
      "142/142 [==============================] - 1s 10ms/step - loss: 1.2114 - accuracy: 0.5707 - val_loss: 1.3437 - val_accuracy: 0.5186\n",
      "Epoch 50/100\n",
      "142/142 [==============================] - 1s 10ms/step - loss: 1.2066 - accuracy: 0.5721 - val_loss: 1.2530 - val_accuracy: 0.5586\n",
      "Epoch 51/100\n",
      "142/142 [==============================] - 1s 10ms/step - loss: 1.1980 - accuracy: 0.5740 - val_loss: 1.3156 - val_accuracy: 0.5371\n",
      "Epoch 52/100\n",
      "142/142 [==============================] - 1s 10ms/step - loss: 1.1923 - accuracy: 0.5779 - val_loss: 1.2427 - val_accuracy: 0.5622\n",
      "Epoch 53/100\n",
      "142/142 [==============================] - 1s 10ms/step - loss: 1.1879 - accuracy: 0.5798 - val_loss: 1.2222 - val_accuracy: 0.5729\n",
      "Epoch 54/100\n",
      "142/142 [==============================] - 1s 10ms/step - loss: 1.1851 - accuracy: 0.5788 - val_loss: 1.2371 - val_accuracy: 0.5691\n",
      "Epoch 55/100\n",
      "142/142 [==============================] - 1s 10ms/step - loss: 1.1767 - accuracy: 0.5852 - val_loss: 1.2201 - val_accuracy: 0.5713\n",
      "Epoch 56/100\n",
      "142/142 [==============================] - 1s 10ms/step - loss: 1.1721 - accuracy: 0.5867 - val_loss: 1.2255 - val_accuracy: 0.5669\n",
      "Epoch 57/100\n",
      "142/142 [==============================] - 1s 10ms/step - loss: 1.1670 - accuracy: 0.5849 - val_loss: 1.2236 - val_accuracy: 0.5672\n",
      "Epoch 58/100\n",
      "142/142 [==============================] - 1s 10ms/step - loss: 1.1611 - accuracy: 0.5896 - val_loss: 1.2250 - val_accuracy: 0.5656\n",
      "Epoch 59/100\n",
      "142/142 [==============================] - 1s 10ms/step - loss: 1.1600 - accuracy: 0.5906 - val_loss: 1.2707 - val_accuracy: 0.5627\n",
      "Epoch 60/100\n",
      "142/142 [==============================] - 1s 10ms/step - loss: 1.1498 - accuracy: 0.5910 - val_loss: 1.2049 - val_accuracy: 0.5796\n",
      "Epoch 61/100\n",
      "142/142 [==============================] - 1s 10ms/step - loss: 1.1464 - accuracy: 0.5933 - val_loss: 1.2361 - val_accuracy: 0.5694\n",
      "Epoch 62/100\n",
      "142/142 [==============================] - 1s 10ms/step - loss: 1.1424 - accuracy: 0.5945 - val_loss: 1.2879 - val_accuracy: 0.5487\n",
      "Epoch 63/100\n",
      "142/142 [==============================] - 1s 10ms/step - loss: 1.1349 - accuracy: 0.6016 - val_loss: 1.2658 - val_accuracy: 0.5534\n",
      "Epoch 64/100\n",
      "142/142 [==============================] - 1s 10ms/step - loss: 1.1372 - accuracy: 0.5984 - val_loss: 1.2395 - val_accuracy: 0.5674\n",
      "Epoch 65/100\n",
      "142/142 [==============================] - 1s 10ms/step - loss: 1.1308 - accuracy: 0.6000 - val_loss: 1.2269 - val_accuracy: 0.5663\n",
      "Epoch 66/100\n",
      "142/142 [==============================] - 1s 10ms/step - loss: 1.1253 - accuracy: 0.6026 - val_loss: 1.2380 - val_accuracy: 0.5619\n",
      "Epoch 67/100\n",
      "142/142 [==============================] - 1s 10ms/step - loss: 1.1177 - accuracy: 0.6041 - val_loss: 1.2130 - val_accuracy: 0.5743\n",
      "Epoch 68/100\n",
      "142/142 [==============================] - 1s 10ms/step - loss: 1.1118 - accuracy: 0.6042 - val_loss: 1.2293 - val_accuracy: 0.5655\n",
      "Epoch 69/100\n",
      "142/142 [==============================] - 1s 10ms/step - loss: 1.1108 - accuracy: 0.6062 - val_loss: 1.1887 - val_accuracy: 0.5846\n",
      "Epoch 70/100\n",
      "142/142 [==============================] - 1s 10ms/step - loss: 1.1049 - accuracy: 0.6079 - val_loss: 1.1812 - val_accuracy: 0.5860\n",
      "Epoch 71/100\n",
      "142/142 [==============================] - 1s 10ms/step - loss: 1.0987 - accuracy: 0.6138 - val_loss: 1.1807 - val_accuracy: 0.5829\n",
      "Epoch 72/100\n",
      "142/142 [==============================] - 1s 10ms/step - loss: 1.0972 - accuracy: 0.6120 - val_loss: 1.1934 - val_accuracy: 0.5860\n",
      "Epoch 73/100\n",
      "142/142 [==============================] - 1s 10ms/step - loss: 1.0928 - accuracy: 0.6136 - val_loss: 1.1837 - val_accuracy: 0.5900\n",
      "Epoch 74/100\n",
      "142/142 [==============================] - 1s 10ms/step - loss: 1.0865 - accuracy: 0.6175 - val_loss: 1.2026 - val_accuracy: 0.5730\n",
      "Epoch 75/100\n",
      "142/142 [==============================] - 1s 10ms/step - loss: 1.0807 - accuracy: 0.6183 - val_loss: 1.1678 - val_accuracy: 0.5917\n",
      "Epoch 76/100\n",
      "142/142 [==============================] - 1s 10ms/step - loss: 1.0802 - accuracy: 0.6183 - val_loss: 1.1833 - val_accuracy: 0.5867\n",
      "Epoch 77/100\n",
      "142/142 [==============================] - 1s 10ms/step - loss: 1.0746 - accuracy: 0.6230 - val_loss: 1.1754 - val_accuracy: 0.5887\n",
      "Epoch 78/100\n",
      "142/142 [==============================] - 1s 10ms/step - loss: 1.0681 - accuracy: 0.6221 - val_loss: 1.1758 - val_accuracy: 0.5898\n",
      "Epoch 79/100\n",
      "142/142 [==============================] - 1s 10ms/step - loss: 1.0638 - accuracy: 0.6232 - val_loss: 1.1648 - val_accuracy: 0.5922\n",
      "Epoch 80/100\n",
      "142/142 [==============================] - 1s 10ms/step - loss: 1.0583 - accuracy: 0.6255 - val_loss: 1.2050 - val_accuracy: 0.5796\n",
      "Epoch 81/100\n",
      "142/142 [==============================] - 1s 10ms/step - loss: 1.0556 - accuracy: 0.6250 - val_loss: 1.1665 - val_accuracy: 0.5965\n",
      "Epoch 82/100\n",
      "142/142 [==============================] - 1s 10ms/step - loss: 1.0484 - accuracy: 0.6296 - val_loss: 1.1597 - val_accuracy: 0.5989\n",
      "Epoch 83/100\n",
      "142/142 [==============================] - 1s 10ms/step - loss: 1.0466 - accuracy: 0.6273 - val_loss: 1.1495 - val_accuracy: 0.6003\n",
      "Epoch 84/100\n",
      "142/142 [==============================] - 1s 10ms/step - loss: 1.0408 - accuracy: 0.6310 - val_loss: 1.1443 - val_accuracy: 0.5997\n",
      "Epoch 85/100\n",
      "142/142 [==============================] - 1s 10ms/step - loss: 1.0365 - accuracy: 0.6333 - val_loss: 1.1664 - val_accuracy: 0.5906\n",
      "Epoch 86/100\n",
      "142/142 [==============================] - 1s 10ms/step - loss: 1.0356 - accuracy: 0.6355 - val_loss: 1.1534 - val_accuracy: 0.6002\n",
      "Epoch 87/100\n",
      "142/142 [==============================] - 1s 10ms/step - loss: 1.0310 - accuracy: 0.6359 - val_loss: 1.1447 - val_accuracy: 0.5987\n",
      "Epoch 88/100\n",
      "142/142 [==============================] - 1s 10ms/step - loss: 1.0284 - accuracy: 0.6392 - val_loss: 1.1761 - val_accuracy: 0.5898\n",
      "Epoch 89/100\n",
      "142/142 [==============================] - 1s 10ms/step - loss: 1.0208 - accuracy: 0.6407 - val_loss: 1.1783 - val_accuracy: 0.5878\n",
      "Epoch 90/100\n",
      "142/142 [==============================] - 1s 10ms/step - loss: 1.0202 - accuracy: 0.6388 - val_loss: 1.1454 - val_accuracy: 0.5953\n",
      "Epoch 91/100\n",
      "142/142 [==============================] - 1s 10ms/step - loss: 1.0174 - accuracy: 0.6395 - val_loss: 1.1436 - val_accuracy: 0.5972\n",
      "Epoch 92/100\n",
      "142/142 [==============================] - 1s 10ms/step - loss: 1.0115 - accuracy: 0.6439 - val_loss: 1.1548 - val_accuracy: 0.5948\n",
      "Epoch 93/100\n",
      "142/142 [==============================] - 1s 10ms/step - loss: 1.0044 - accuracy: 0.6444 - val_loss: 1.1263 - val_accuracy: 0.6050\n",
      "Epoch 94/100\n",
      "142/142 [==============================] - 1s 10ms/step - loss: 0.9971 - accuracy: 0.6507 - val_loss: 1.1412 - val_accuracy: 0.6008\n",
      "Epoch 95/100\n",
      "142/142 [==============================] - 1s 10ms/step - loss: 0.9987 - accuracy: 0.6482 - val_loss: 1.1389 - val_accuracy: 0.6017\n",
      "Epoch 96/100\n",
      "142/142 [==============================] - 1s 10ms/step - loss: 0.9941 - accuracy: 0.6482 - val_loss: 1.1372 - val_accuracy: 0.6080\n",
      "Epoch 97/100\n",
      "142/142 [==============================] - 1s 10ms/step - loss: 0.9889 - accuracy: 0.6519 - val_loss: 1.1270 - val_accuracy: 0.6085\n",
      "Epoch 98/100\n",
      "142/142 [==============================] - 1s 10ms/step - loss: 0.9864 - accuracy: 0.6538 - val_loss: 1.1663 - val_accuracy: 0.5911\n",
      "Epoch 99/100\n",
      "142/142 [==============================] - 1s 10ms/step - loss: 0.9820 - accuracy: 0.6538 - val_loss: 1.1232 - val_accuracy: 0.6042\n",
      "Epoch 100/100\n",
      "142/142 [==============================] - 1s 10ms/step - loss: 0.9767 - accuracy: 0.6559 - val_loss: 1.1245 - val_accuracy: 0.6042\n"
     ]
    }
   ],
   "source": [
    "# Initial_CNN = model_defaultCNN.fit(X_train, y_train, batch_size=256, epochs=100, validation_split=0.15)"
   ]
  },
  {
   "cell_type": "code",
   "execution_count": 88,
   "metadata": {
    "colab": {
     "base_uri": "https://localhost:8080/"
    },
    "id": "lCjU9_Kt-8Fx",
    "outputId": "576ba8f0-98c8-4b98-83fb-ff358ca77daf"
   },
   "outputs": [
    {
     "name": "stdout",
     "output_type": "stream",
     "text": [
      "235/235 [==============================] - 1s 3ms/step - loss: 1.0945 - accuracy: 0.6223\n"
     ]
    },
    {
     "data": {
      "text/plain": [
       "[1.0944539308547974, 0.6222666501998901]"
      ]
     },
     "execution_count": 88,
     "metadata": {},
     "output_type": "execute_result"
    }
   ],
   "source": [
    "# scoreCNN = model_defaultCNN.evaluate(X_valid, y_valid)\n",
    "# scoreCNN"
   ]
  },
  {
   "cell_type": "code",
   "execution_count": 89,
   "metadata": {
    "id": "J9FoNHpc2j9F"
   },
   "outputs": [],
   "source": [
    "# from keras.models import Sequential\n",
    "# from keras.layers import Dense\n",
    "# from keras.wrappers.scikit_learn import KerasClassifier\n",
    "# from sklearn.model_selection import StratifiedKFold\n",
    "# from sklearn.model_selection import cross_val_score"
   ]
  },
  {
   "cell_type": "code",
   "execution_count": 90,
   "metadata": {
    "colab": {
     "base_uri": "https://localhost:8080/"
    },
    "id": "4nBDO-tB_LsE",
    "outputId": "0158e725-5630-46c4-8993-bf617dc57523"
   },
   "outputs": [
    {
     "name": "stdout",
     "output_type": "stream",
     "text": [
      "{'dropout_rate': [0.1, 0.2, 0.3], 'strides': [(1, 1), (2, 2)], 'filters': [32, 64], 'kernel_size': [(3, 3), (4, 4)], 'activation': ['relu', 'selu', 'sigmoid']}\n"
     ]
    },
    {
     "name": "stderr",
     "output_type": "stream",
     "text": [
      "/usr/local/lib/python3.7/dist-packages/ipykernel_launcher.py:1: DeprecationWarning: KerasClassifier is deprecated, use Sci-Keras (https://github.com/adriangb/scikeras) instead. See https://www.adriangb.com/scikeras/stable/migration.html for help migrating.\n",
      "  \"\"\"Entry point for launching an IPython kernel.\n"
     ]
    }
   ],
   "source": [
    "# model_for_Grid = KerasClassifier(build_fn=CNN_model, epochs=10, batch_size=256, verbose=0)\n",
    "# dropout_rate = [0.1, 0.2,.3]\n",
    "# filters = [32,64]\n",
    "# strides=[(1,1),(2,2)]\n",
    "# kernel_size = [(3,3),(4,4)]\n",
    "# activation_fn = ['relu', 'selu', 'sigmoid']\n",
    "# param_grid = dict(dropout_rate=dropout_rate,strides=strides, filters=filters, kernel_size=kernel_size, activation=activation_fn)\n",
    "# print(param_grid)"
   ]
  },
  {
   "cell_type": "code",
   "execution_count": 91,
   "metadata": {
    "id": "o_mhTH3S_kur"
   },
   "outputs": [],
   "source": [
    "# from sklearn.model_selection import GridSearchCV\n",
    "# grid = GridSearchCV(estimator=model_for_Grid, param_grid=param_grid, n_jobs=-1, cv=3)"
   ]
  },
  {
   "cell_type": "code",
   "execution_count": 92,
   "metadata": {
    "colab": {
     "base_uri": "https://localhost:8080/"
    },
    "id": "0PFygFS7_oWL",
    "outputId": "7d5a87c8-c151-4389-c184-d50b9087de25"
   },
   "outputs": [
    {
     "name": "stderr",
     "output_type": "stream",
     "text": [
      "/usr/local/lib/python3.7/dist-packages/joblib/externals/loky/process_executor.py:705: UserWarning: A worker stopped while some jobs were given to the executor. This can be caused by a too short worker timeout or by a memory leak.\n",
      "  \"timeout or by a memory leak.\", UserWarning\n"
     ]
    }
   ],
   "source": [
    "# grid_result = grid.fit(X_valid, y_valid)"
   ]
  },
  {
   "cell_type": "code",
   "execution_count": 93,
   "metadata": {
    "colab": {
     "base_uri": "https://localhost:8080/"
    },
    "id": "BmFPVb_7_s59",
    "outputId": "3dad300a-0860-4acc-f7c5-2ed80df0a734"
   },
   "outputs": [
    {
     "name": "stdout",
     "output_type": "stream",
     "text": [
      "Best: 0.482667 using {'activation': 'relu', 'dropout_rate': 0.2, 'filters': 64, 'kernel_size': (3, 3), 'strides': (1, 1)} \n",
      "\n",
      "0.411733 (0.018476) with: {'activation': 'relu', 'dropout_rate': 0.1, 'filters': 32, 'kernel_size': (3, 3), 'strides': (1, 1)}\n",
      "0.393733 (0.000499) with: {'activation': 'relu', 'dropout_rate': 0.1, 'filters': 32, 'kernel_size': (3, 3), 'strides': (2, 2)}\n",
      "0.429867 (0.026161) with: {'activation': 'relu', 'dropout_rate': 0.1, 'filters': 32, 'kernel_size': (4, 4), 'strides': (1, 1)}\n",
      "0.372267 (0.017000) with: {'activation': 'relu', 'dropout_rate': 0.1, 'filters': 32, 'kernel_size': (4, 4), 'strides': (2, 2)}\n",
      "0.464533 (0.029685) with: {'activation': 'relu', 'dropout_rate': 0.1, 'filters': 64, 'kernel_size': (3, 3), 'strides': (1, 1)}\n",
      "0.405200 (0.008086) with: {'activation': 'relu', 'dropout_rate': 0.1, 'filters': 64, 'kernel_size': (3, 3), 'strides': (2, 2)}\n",
      "0.443067 (0.040651) with: {'activation': 'relu', 'dropout_rate': 0.1, 'filters': 64, 'kernel_size': (4, 4), 'strides': (1, 1)}\n",
      "0.391333 (0.024689) with: {'activation': 'relu', 'dropout_rate': 0.1, 'filters': 64, 'kernel_size': (4, 4), 'strides': (2, 2)}\n",
      "0.431467 (0.030411) with: {'activation': 'relu', 'dropout_rate': 0.2, 'filters': 32, 'kernel_size': (3, 3), 'strides': (1, 1)}\n",
      "0.377200 (0.005256) with: {'activation': 'relu', 'dropout_rate': 0.2, 'filters': 32, 'kernel_size': (3, 3), 'strides': (2, 2)}\n",
      "0.432800 (0.018951) with: {'activation': 'relu', 'dropout_rate': 0.2, 'filters': 32, 'kernel_size': (4, 4), 'strides': (1, 1)}\n",
      "0.357067 (0.015476) with: {'activation': 'relu', 'dropout_rate': 0.2, 'filters': 32, 'kernel_size': (4, 4), 'strides': (2, 2)}\n",
      "0.482667 (0.011872) with: {'activation': 'relu', 'dropout_rate': 0.2, 'filters': 64, 'kernel_size': (3, 3), 'strides': (1, 1)}\n",
      "0.415067 (0.009712) with: {'activation': 'relu', 'dropout_rate': 0.2, 'filters': 64, 'kernel_size': (3, 3), 'strides': (2, 2)}\n",
      "0.459200 (0.029161) with: {'activation': 'relu', 'dropout_rate': 0.2, 'filters': 64, 'kernel_size': (4, 4), 'strides': (1, 1)}\n",
      "0.371333 (0.033499) with: {'activation': 'relu', 'dropout_rate': 0.2, 'filters': 64, 'kernel_size': (4, 4), 'strides': (2, 2)}\n",
      "0.458267 (0.005021) with: {'activation': 'relu', 'dropout_rate': 0.3, 'filters': 32, 'kernel_size': (3, 3), 'strides': (1, 1)}\n",
      "0.382667 (0.014702) with: {'activation': 'relu', 'dropout_rate': 0.3, 'filters': 32, 'kernel_size': (3, 3), 'strides': (2, 2)}\n",
      "0.448667 (0.013187) with: {'activation': 'relu', 'dropout_rate': 0.3, 'filters': 32, 'kernel_size': (4, 4), 'strides': (1, 1)}\n",
      "0.373733 (0.011759) with: {'activation': 'relu', 'dropout_rate': 0.3, 'filters': 32, 'kernel_size': (4, 4), 'strides': (2, 2)}\n",
      "0.462400 (0.025923) with: {'activation': 'relu', 'dropout_rate': 0.3, 'filters': 64, 'kernel_size': (3, 3), 'strides': (1, 1)}\n",
      "0.418933 (0.002451) with: {'activation': 'relu', 'dropout_rate': 0.3, 'filters': 64, 'kernel_size': (3, 3), 'strides': (2, 2)}\n",
      "0.450267 (0.020434) with: {'activation': 'relu', 'dropout_rate': 0.3, 'filters': 64, 'kernel_size': (4, 4), 'strides': (1, 1)}\n",
      "0.374667 (0.036719) with: {'activation': 'relu', 'dropout_rate': 0.3, 'filters': 64, 'kernel_size': (4, 4), 'strides': (2, 2)}\n",
      "0.434933 (0.010391) with: {'activation': 'selu', 'dropout_rate': 0.1, 'filters': 32, 'kernel_size': (3, 3), 'strides': (1, 1)}\n",
      "0.403200 (0.004942) with: {'activation': 'selu', 'dropout_rate': 0.1, 'filters': 32, 'kernel_size': (3, 3), 'strides': (2, 2)}\n",
      "0.374267 (0.040507) with: {'activation': 'selu', 'dropout_rate': 0.1, 'filters': 32, 'kernel_size': (4, 4), 'strides': (1, 1)}\n",
      "0.363333 (0.015081) with: {'activation': 'selu', 'dropout_rate': 0.1, 'filters': 32, 'kernel_size': (4, 4), 'strides': (2, 2)}\n",
      "0.444533 (0.005565) with: {'activation': 'selu', 'dropout_rate': 0.1, 'filters': 64, 'kernel_size': (3, 3), 'strides': (1, 1)}\n",
      "0.424933 (0.017258) with: {'activation': 'selu', 'dropout_rate': 0.1, 'filters': 64, 'kernel_size': (3, 3), 'strides': (2, 2)}\n",
      "0.426267 (0.021522) with: {'activation': 'selu', 'dropout_rate': 0.1, 'filters': 64, 'kernel_size': (4, 4), 'strides': (1, 1)}\n",
      "0.418267 (0.006744) with: {'activation': 'selu', 'dropout_rate': 0.1, 'filters': 64, 'kernel_size': (4, 4), 'strides': (2, 2)}\n",
      "0.430400 (0.011013) with: {'activation': 'selu', 'dropout_rate': 0.2, 'filters': 32, 'kernel_size': (3, 3), 'strides': (1, 1)}\n",
      "0.409867 (0.006369) with: {'activation': 'selu', 'dropout_rate': 0.2, 'filters': 32, 'kernel_size': (3, 3), 'strides': (2, 2)}\n",
      "0.397467 (0.014875) with: {'activation': 'selu', 'dropout_rate': 0.2, 'filters': 32, 'kernel_size': (4, 4), 'strides': (1, 1)}\n",
      "0.375200 (0.020664) with: {'activation': 'selu', 'dropout_rate': 0.2, 'filters': 32, 'kernel_size': (4, 4), 'strides': (2, 2)}\n",
      "0.445333 (0.006486) with: {'activation': 'selu', 'dropout_rate': 0.2, 'filters': 64, 'kernel_size': (3, 3), 'strides': (1, 1)}\n",
      "0.426533 (0.002175) with: {'activation': 'selu', 'dropout_rate': 0.2, 'filters': 64, 'kernel_size': (3, 3), 'strides': (2, 2)}\n",
      "0.430133 (0.008698) with: {'activation': 'selu', 'dropout_rate': 0.2, 'filters': 64, 'kernel_size': (4, 4), 'strides': (1, 1)}\n",
      "0.417333 (0.009657) with: {'activation': 'selu', 'dropout_rate': 0.2, 'filters': 64, 'kernel_size': (4, 4), 'strides': (2, 2)}\n",
      "0.426933 (0.013570) with: {'activation': 'selu', 'dropout_rate': 0.3, 'filters': 32, 'kernel_size': (3, 3), 'strides': (1, 1)}\n",
      "0.389733 (0.016788) with: {'activation': 'selu', 'dropout_rate': 0.3, 'filters': 32, 'kernel_size': (3, 3), 'strides': (2, 2)}\n",
      "0.422133 (0.013436) with: {'activation': 'selu', 'dropout_rate': 0.3, 'filters': 32, 'kernel_size': (4, 4), 'strides': (1, 1)}\n",
      "0.388667 (0.013155) with: {'activation': 'selu', 'dropout_rate': 0.3, 'filters': 32, 'kernel_size': (4, 4), 'strides': (2, 2)}\n",
      "0.429600 (0.007397) with: {'activation': 'selu', 'dropout_rate': 0.3, 'filters': 64, 'kernel_size': (3, 3), 'strides': (1, 1)}\n",
      "0.424267 (0.004349) with: {'activation': 'selu', 'dropout_rate': 0.3, 'filters': 64, 'kernel_size': (3, 3), 'strides': (2, 2)}\n",
      "0.421333 (0.021726) with: {'activation': 'selu', 'dropout_rate': 0.3, 'filters': 64, 'kernel_size': (4, 4), 'strides': (1, 1)}\n",
      "0.398933 (0.016896) with: {'activation': 'selu', 'dropout_rate': 0.3, 'filters': 64, 'kernel_size': (4, 4), 'strides': (2, 2)}\n",
      "0.230400 (0.021941) with: {'activation': 'sigmoid', 'dropout_rate': 0.1, 'filters': 32, 'kernel_size': (3, 3), 'strides': (1, 1)}\n",
      "0.240400 (0.008047) with: {'activation': 'sigmoid', 'dropout_rate': 0.1, 'filters': 32, 'kernel_size': (3, 3), 'strides': (2, 2)}\n",
      "0.259067 (0.005126) with: {'activation': 'sigmoid', 'dropout_rate': 0.1, 'filters': 32, 'kernel_size': (4, 4), 'strides': (1, 1)}\n",
      "0.236400 (0.007596) with: {'activation': 'sigmoid', 'dropout_rate': 0.1, 'filters': 32, 'kernel_size': (4, 4), 'strides': (2, 2)}\n",
      "0.199733 (0.027899) with: {'activation': 'sigmoid', 'dropout_rate': 0.1, 'filters': 64, 'kernel_size': (3, 3), 'strides': (1, 1)}\n",
      "0.246533 (0.007564) with: {'activation': 'sigmoid', 'dropout_rate': 0.1, 'filters': 64, 'kernel_size': (3, 3), 'strides': (2, 2)}\n",
      "0.255867 (0.016357) with: {'activation': 'sigmoid', 'dropout_rate': 0.1, 'filters': 64, 'kernel_size': (4, 4), 'strides': (1, 1)}\n",
      "0.242667 (0.012583) with: {'activation': 'sigmoid', 'dropout_rate': 0.1, 'filters': 64, 'kernel_size': (4, 4), 'strides': (2, 2)}\n",
      "0.189067 (0.025874) with: {'activation': 'sigmoid', 'dropout_rate': 0.2, 'filters': 32, 'kernel_size': (3, 3), 'strides': (1, 1)}\n",
      "0.199467 (0.013750) with: {'activation': 'sigmoid', 'dropout_rate': 0.2, 'filters': 32, 'kernel_size': (3, 3), 'strides': (2, 2)}\n",
      "0.239200 (0.033433) with: {'activation': 'sigmoid', 'dropout_rate': 0.2, 'filters': 32, 'kernel_size': (4, 4), 'strides': (1, 1)}\n",
      "0.225867 (0.010580) with: {'activation': 'sigmoid', 'dropout_rate': 0.2, 'filters': 32, 'kernel_size': (4, 4), 'strides': (2, 2)}\n",
      "0.206000 (0.037977) with: {'activation': 'sigmoid', 'dropout_rate': 0.2, 'filters': 64, 'kernel_size': (3, 3), 'strides': (1, 1)}\n",
      "0.253867 (0.014505) with: {'activation': 'sigmoid', 'dropout_rate': 0.2, 'filters': 64, 'kernel_size': (3, 3), 'strides': (2, 2)}\n",
      "0.251333 (0.023921) with: {'activation': 'sigmoid', 'dropout_rate': 0.2, 'filters': 64, 'kernel_size': (4, 4), 'strides': (1, 1)}\n",
      "0.231067 (0.006712) with: {'activation': 'sigmoid', 'dropout_rate': 0.2, 'filters': 64, 'kernel_size': (4, 4), 'strides': (2, 2)}\n",
      "0.226000 (0.031477) with: {'activation': 'sigmoid', 'dropout_rate': 0.3, 'filters': 32, 'kernel_size': (3, 3), 'strides': (1, 1)}\n",
      "0.149867 (0.034543) with: {'activation': 'sigmoid', 'dropout_rate': 0.3, 'filters': 32, 'kernel_size': (3, 3), 'strides': (2, 2)}\n",
      "0.267200 (0.008371) with: {'activation': 'sigmoid', 'dropout_rate': 0.3, 'filters': 32, 'kernel_size': (4, 4), 'strides': (1, 1)}\n",
      "0.202667 (0.005409) with: {'activation': 'sigmoid', 'dropout_rate': 0.3, 'filters': 32, 'kernel_size': (4, 4), 'strides': (2, 2)}\n",
      "0.192533 (0.028889) with: {'activation': 'sigmoid', 'dropout_rate': 0.3, 'filters': 64, 'kernel_size': (3, 3), 'strides': (1, 1)}\n",
      "0.225867 (0.024567) with: {'activation': 'sigmoid', 'dropout_rate': 0.3, 'filters': 64, 'kernel_size': (3, 3), 'strides': (2, 2)}\n",
      "0.224533 (0.024056) with: {'activation': 'sigmoid', 'dropout_rate': 0.3, 'filters': 64, 'kernel_size': (4, 4), 'strides': (1, 1)}\n",
      "0.233600 (0.008333) with: {'activation': 'sigmoid', 'dropout_rate': 0.3, 'filters': 64, 'kernel_size': (4, 4), 'strides': (2, 2)}\n"
     ]
    }
   ],
   "source": [
    "# print(\"Best: %f using %s \\n\" % (grid_result.best_score_, grid_result.best_params_))\n",
    "# means = grid_result.cv_results_['mean_test_score']\n",
    "# stds = grid_result.cv_results_['std_test_score']\n",
    "# params = grid_result.cv_results_['params']\n",
    "# for mean, stdev, param in zip(means, stds, params):\n",
    "#     print(\"%f (%f) with: %r\" % (mean, stdev, param))"
   ]
  },
  {
   "cell_type": "markdown",
   "metadata": {
    "id": "Nmmy8Ie85RTE"
   },
   "source": [
    "**Final CNN Model**"
   ]
  },
  {
   "cell_type": "code",
   "execution_count": 211,
   "metadata": {
    "colab": {
     "base_uri": "https://localhost:8080/"
    },
    "id": "qlcDhIJSEZNS",
    "outputId": "2973e25e-ce86-4c5a-c706-342a2ebbfbfe"
   },
   "outputs": [
    {
     "name": "stdout",
     "output_type": "stream",
     "text": [
      "Retrain CNN model (yes/no)?yes\n",
      "Model: \"sequential_35\"\n",
      "_________________________________________________________________\n",
      " Layer (type)                Output Shape              Param #   \n",
      "=================================================================\n",
      " conv2d_10 (Conv2D)          (None, 30, 30, 64)        1792      \n",
      "                                                                 \n",
      " max_pooling2d_5 (MaxPooling  (None, 15, 15, 64)       0         \n",
      " 2D)                                                             \n",
      "                                                                 \n",
      " dropout_115 (Dropout)       (None, 15, 15, 64)        0         \n",
      "                                                                 \n",
      " conv2d_11 (Conv2D)          (None, 13, 13, 64)        36928     \n",
      "                                                                 \n",
      " dropout_116 (Dropout)       (None, 13, 13, 64)        0         \n",
      "                                                                 \n",
      " flatten_35 (Flatten)        (None, 10816)             0         \n",
      "                                                                 \n",
      " dense_121 (Dense)           (None, 10)                108170    \n",
      "                                                                 \n",
      "=================================================================\n",
      "Total params: 146,890\n",
      "Trainable params: 146,890\n",
      "Non-trainable params: 0\n",
      "_________________________________________________________________\n",
      "Epoch 1/100\n",
      "167/167 [==============================] - 3s 12ms/step - loss: 1.7590 - accuracy: 0.3733 - val_loss: 3.3328 - val_accuracy: 0.2021\n",
      "Epoch 2/100\n",
      "167/167 [==============================] - 2s 10ms/step - loss: 1.4188 - accuracy: 0.5032 - val_loss: 2.2118 - val_accuracy: 0.3667\n",
      "Epoch 3/100\n",
      "167/167 [==============================] - 2s 10ms/step - loss: 1.2553 - accuracy: 0.5619 - val_loss: 7.3657 - val_accuracy: 0.1475\n",
      "Epoch 4/100\n",
      "167/167 [==============================] - 2s 10ms/step - loss: 1.2887 - accuracy: 0.5630 - val_loss: 2.7173 - val_accuracy: 0.3247\n",
      "Epoch 5/100\n",
      "167/167 [==============================] - 2s 10ms/step - loss: 1.1274 - accuracy: 0.6128 - val_loss: 3.8962 - val_accuracy: 0.2106\n",
      "Epoch 6/100\n",
      "167/167 [==============================] - 2s 11ms/step - loss: 1.0930 - accuracy: 0.6275 - val_loss: 1.7053 - val_accuracy: 0.4690\n",
      "Epoch 7/100\n",
      "167/167 [==============================] - 2s 10ms/step - loss: 1.0040 - accuracy: 0.6551 - val_loss: 2.0926 - val_accuracy: 0.3824\n",
      "Epoch 8/100\n",
      "167/167 [==============================] - 2s 10ms/step - loss: 0.9717 - accuracy: 0.6663 - val_loss: 4.2105 - val_accuracy: 0.1840\n",
      "Epoch 9/100\n",
      "167/167 [==============================] - 2s 10ms/step - loss: 1.0063 - accuracy: 0.6637 - val_loss: 2.2261 - val_accuracy: 0.3774\n",
      "Epoch 10/100\n",
      "167/167 [==============================] - 2s 10ms/step - loss: 0.8935 - accuracy: 0.6943 - val_loss: 1.2846 - val_accuracy: 0.5727\n",
      "Epoch 11/100\n",
      "167/167 [==============================] - 2s 11ms/step - loss: 0.8513 - accuracy: 0.7066 - val_loss: 1.4076 - val_accuracy: 0.5383\n",
      "Epoch 12/100\n",
      "167/167 [==============================] - 2s 10ms/step - loss: 0.8224 - accuracy: 0.7177 - val_loss: 2.9021 - val_accuracy: 0.3625\n",
      "Epoch 13/100\n",
      "167/167 [==============================] - 2s 10ms/step - loss: 0.8412 - accuracy: 0.7160 - val_loss: 2.0714 - val_accuracy: 0.4286\n",
      "Epoch 14/100\n",
      "167/167 [==============================] - 2s 11ms/step - loss: 0.7849 - accuracy: 0.7300 - val_loss: 1.4385 - val_accuracy: 0.5512\n",
      "Epoch 15/100\n",
      "167/167 [==============================] - 2s 10ms/step - loss: 0.7434 - accuracy: 0.7440 - val_loss: 2.3108 - val_accuracy: 0.3934\n",
      "Epoch 16/100\n",
      "167/167 [==============================] - 2s 11ms/step - loss: 0.7508 - accuracy: 0.7439 - val_loss: 1.1421 - val_accuracy: 0.6181\n",
      "Epoch 17/100\n",
      "167/167 [==============================] - 2s 10ms/step - loss: 0.6943 - accuracy: 0.7619 - val_loss: 2.1621 - val_accuracy: 0.4595\n",
      "Epoch 18/100\n",
      "167/167 [==============================] - 2s 10ms/step - loss: 0.7040 - accuracy: 0.7608 - val_loss: 1.5666 - val_accuracy: 0.5466\n",
      "Epoch 19/100\n",
      "167/167 [==============================] - 2s 10ms/step - loss: 0.6600 - accuracy: 0.7733 - val_loss: 1.6699 - val_accuracy: 0.5260\n",
      "Epoch 20/100\n",
      "167/167 [==============================] - 2s 10ms/step - loss: 0.6589 - accuracy: 0.7747 - val_loss: 1.3543 - val_accuracy: 0.5826\n",
      "Epoch 21/100\n",
      "167/167 [==============================] - 2s 11ms/step - loss: 0.6179 - accuracy: 0.7879 - val_loss: 2.4392 - val_accuracy: 0.4015\n",
      "Epoch 22/100\n",
      "167/167 [==============================] - 2s 10ms/step - loss: 0.6163 - accuracy: 0.7893 - val_loss: 2.4258 - val_accuracy: 0.4432\n",
      "Epoch 23/100\n",
      "167/167 [==============================] - 2s 10ms/step - loss: 0.6414 - accuracy: 0.7825 - val_loss: 1.1199 - val_accuracy: 0.6333\n",
      "Epoch 24/100\n",
      "167/167 [==============================] - 2s 11ms/step - loss: 0.5630 - accuracy: 0.8048 - val_loss: 1.9056 - val_accuracy: 0.5088\n",
      "Epoch 25/100\n",
      "167/167 [==============================] - 2s 10ms/step - loss: 0.5597 - accuracy: 0.8079 - val_loss: 0.9354 - val_accuracy: 0.7002\n",
      "Epoch 26/100\n",
      "167/167 [==============================] - 2s 11ms/step - loss: 0.5282 - accuracy: 0.8159 - val_loss: 0.9118 - val_accuracy: 0.7053\n",
      "Epoch 27/100\n",
      "167/167 [==============================] - 2s 10ms/step - loss: 0.5111 - accuracy: 0.8223 - val_loss: 2.8641 - val_accuracy: 0.3608\n",
      "Epoch 28/100\n",
      "167/167 [==============================] - 2s 10ms/step - loss: 0.5479 - accuracy: 0.8159 - val_loss: 1.9270 - val_accuracy: 0.5137\n",
      "Epoch 29/100\n",
      "167/167 [==============================] - 2s 10ms/step - loss: 0.5353 - accuracy: 0.8159 - val_loss: 1.9107 - val_accuracy: 0.5512\n",
      "Epoch 30/100\n",
      "167/167 [==============================] - 2s 10ms/step - loss: 0.5126 - accuracy: 0.8215 - val_loss: 1.4539 - val_accuracy: 0.5786\n",
      "Epoch 31/100\n",
      "167/167 [==============================] - 2s 11ms/step - loss: 0.4780 - accuracy: 0.8328 - val_loss: 1.0405 - val_accuracy: 0.6773\n",
      "Epoch 32/100\n",
      "167/167 [==============================] - 2s 10ms/step - loss: 0.4542 - accuracy: 0.8438 - val_loss: 1.0306 - val_accuracy: 0.6910\n",
      "Epoch 33/100\n",
      "167/167 [==============================] - 2s 10ms/step - loss: 0.4404 - accuracy: 0.8467 - val_loss: 1.5795 - val_accuracy: 0.5565\n",
      "Epoch 34/100\n",
      "167/167 [==============================] - 2s 11ms/step - loss: 0.4412 - accuracy: 0.8462 - val_loss: 1.0219 - val_accuracy: 0.6906\n",
      "Epoch 35/100\n",
      "167/167 [==============================] - 2s 10ms/step - loss: 0.4147 - accuracy: 0.8547 - val_loss: 2.2557 - val_accuracy: 0.5017\n",
      "Epoch 36/100\n",
      "167/167 [==============================] - 2s 10ms/step - loss: 0.4435 - accuracy: 0.8456 - val_loss: 1.3172 - val_accuracy: 0.6346\n",
      "Epoch 37/100\n",
      "167/167 [==============================] - 2s 11ms/step - loss: 0.4061 - accuracy: 0.8579 - val_loss: 1.2468 - val_accuracy: 0.6386\n",
      "Epoch 38/100\n",
      "167/167 [==============================] - 2s 11ms/step - loss: 0.3954 - accuracy: 0.8612 - val_loss: 1.0809 - val_accuracy: 0.6903\n",
      "Epoch 39/100\n",
      "167/167 [==============================] - 2s 10ms/step - loss: 0.3790 - accuracy: 0.8661 - val_loss: 1.5943 - val_accuracy: 0.5822\n",
      "Epoch 40/100\n",
      "167/167 [==============================] - 2s 10ms/step - loss: 0.3877 - accuracy: 0.8631 - val_loss: 1.7119 - val_accuracy: 0.6026\n",
      "Epoch 41/100\n",
      "167/167 [==============================] - 2s 10ms/step - loss: 0.3768 - accuracy: 0.8663 - val_loss: 1.7068 - val_accuracy: 0.5651\n",
      "Epoch 42/100\n",
      "167/167 [==============================] - 2s 10ms/step - loss: 0.3719 - accuracy: 0.8692 - val_loss: 2.4795 - val_accuracy: 0.5133\n",
      "Epoch 43/100\n",
      "167/167 [==============================] - 2s 10ms/step - loss: 0.3812 - accuracy: 0.8682 - val_loss: 1.0681 - val_accuracy: 0.6946\n",
      "Epoch 44/100\n",
      "167/167 [==============================] - 2s 10ms/step - loss: 0.3372 - accuracy: 0.8807 - val_loss: 1.3906 - val_accuracy: 0.6289\n",
      "Epoch 45/100\n",
      "167/167 [==============================] - 2s 10ms/step - loss: 0.3393 - accuracy: 0.8807 - val_loss: 1.1403 - val_accuracy: 0.6859\n",
      "Epoch 46/100\n",
      "167/167 [==============================] - 2s 10ms/step - loss: 0.3247 - accuracy: 0.8849 - val_loss: 1.1285 - val_accuracy: 0.6890\n",
      "Epoch 47/100\n",
      "167/167 [==============================] - 2s 10ms/step - loss: 0.3197 - accuracy: 0.8865 - val_loss: 1.3045 - val_accuracy: 0.6685\n",
      "Epoch 48/100\n",
      "167/167 [==============================] - 2s 10ms/step - loss: 0.3166 - accuracy: 0.8878 - val_loss: 1.1089 - val_accuracy: 0.6940\n",
      "Epoch 49/100\n",
      "167/167 [==============================] - 2s 10ms/step - loss: 0.3072 - accuracy: 0.8898 - val_loss: 2.2840 - val_accuracy: 0.5362\n",
      "Epoch 50/100\n",
      "167/167 [==============================] - 2s 10ms/step - loss: 0.3404 - accuracy: 0.8784 - val_loss: 1.1345 - val_accuracy: 0.6985\n",
      "Epoch 51/100\n",
      "167/167 [==============================] - 2s 10ms/step - loss: 0.2941 - accuracy: 0.8953 - val_loss: 1.2213 - val_accuracy: 0.6872\n",
      "Epoch 52/100\n",
      "167/167 [==============================] - 2s 10ms/step - loss: 0.2921 - accuracy: 0.8962 - val_loss: 1.3537 - val_accuracy: 0.6591\n",
      "Epoch 53/100\n",
      "167/167 [==============================] - 2s 10ms/step - loss: 0.2972 - accuracy: 0.8947 - val_loss: 1.3189 - val_accuracy: 0.6566\n",
      "Epoch 54/100\n",
      "167/167 [==============================] - 2s 10ms/step - loss: 0.2836 - accuracy: 0.8977 - val_loss: 1.3647 - val_accuracy: 0.6586\n",
      "Epoch 55/100\n",
      "167/167 [==============================] - 2s 10ms/step - loss: 0.2749 - accuracy: 0.9024 - val_loss: 1.3222 - val_accuracy: 0.6559\n",
      "Epoch 56/100\n",
      "167/167 [==============================] - 2s 10ms/step - loss: 0.2837 - accuracy: 0.8972 - val_loss: 1.3840 - val_accuracy: 0.6665\n",
      "Epoch 57/100\n",
      "167/167 [==============================] - 2s 10ms/step - loss: 0.2802 - accuracy: 0.8991 - val_loss: 1.6219 - val_accuracy: 0.6219\n",
      "Epoch 58/100\n",
      "167/167 [==============================] - 2s 10ms/step - loss: 0.2843 - accuracy: 0.8973 - val_loss: 1.7428 - val_accuracy: 0.6265\n",
      "Epoch 59/100\n",
      "167/167 [==============================] - 2s 10ms/step - loss: 0.2671 - accuracy: 0.9038 - val_loss: 1.9778 - val_accuracy: 0.5792\n",
      "Epoch 60/100\n",
      "167/167 [==============================] - 2s 10ms/step - loss: 0.2797 - accuracy: 0.8987 - val_loss: 1.4404 - val_accuracy: 0.6613\n",
      "Epoch 61/100\n",
      "167/167 [==============================] - 2s 10ms/step - loss: 0.2597 - accuracy: 0.9068 - val_loss: 1.2400 - val_accuracy: 0.6904\n",
      "Epoch 62/100\n",
      "167/167 [==============================] - 2s 11ms/step - loss: 0.2521 - accuracy: 0.9089 - val_loss: 2.0604 - val_accuracy: 0.5888\n",
      "Epoch 63/100\n",
      "167/167 [==============================] - 2s 12ms/step - loss: 0.2939 - accuracy: 0.8940 - val_loss: 2.0002 - val_accuracy: 0.5920\n",
      "Epoch 64/100\n",
      "167/167 [==============================] - 2s 11ms/step - loss: 0.2589 - accuracy: 0.9058 - val_loss: 1.3614 - val_accuracy: 0.6765\n",
      "Epoch 65/100\n",
      "167/167 [==============================] - 2s 10ms/step - loss: 0.2407 - accuracy: 0.9126 - val_loss: 1.3517 - val_accuracy: 0.6799\n",
      "Epoch 66/100\n",
      "167/167 [==============================] - 2s 10ms/step - loss: 0.2338 - accuracy: 0.9149 - val_loss: 1.3973 - val_accuracy: 0.6786\n",
      "Epoch 67/100\n",
      "167/167 [==============================] - 2s 10ms/step - loss: 0.2301 - accuracy: 0.9171 - val_loss: 1.4392 - val_accuracy: 0.6706\n",
      "Epoch 68/100\n",
      "167/167 [==============================] - 2s 10ms/step - loss: 0.2389 - accuracy: 0.9147 - val_loss: 2.5546 - val_accuracy: 0.5715\n",
      "Epoch 69/100\n",
      "167/167 [==============================] - 2s 10ms/step - loss: 0.2646 - accuracy: 0.9035 - val_loss: 1.5257 - val_accuracy: 0.6676\n",
      "Epoch 70/100\n",
      "167/167 [==============================] - 2s 10ms/step - loss: 0.2320 - accuracy: 0.9152 - val_loss: 1.3418 - val_accuracy: 0.6879\n",
      "Epoch 71/100\n",
      "167/167 [==============================] - 2s 10ms/step - loss: 0.2176 - accuracy: 0.9217 - val_loss: 1.5636 - val_accuracy: 0.6522\n",
      "Epoch 72/100\n",
      "167/167 [==============================] - 2s 10ms/step - loss: 0.2238 - accuracy: 0.9175 - val_loss: 1.3307 - val_accuracy: 0.6896\n",
      "Epoch 73/100\n",
      "167/167 [==============================] - 2s 10ms/step - loss: 0.2151 - accuracy: 0.9208 - val_loss: 1.5011 - val_accuracy: 0.6687\n",
      "Epoch 74/100\n",
      "167/167 [==============================] - 2s 10ms/step - loss: 0.2197 - accuracy: 0.9188 - val_loss: 2.9416 - val_accuracy: 0.5139\n",
      "Epoch 75/100\n",
      "167/167 [==============================] - 2s 10ms/step - loss: 0.2524 - accuracy: 0.9095 - val_loss: 1.3471 - val_accuracy: 0.6894\n",
      "Epoch 76/100\n",
      "167/167 [==============================] - 2s 10ms/step - loss: 0.2069 - accuracy: 0.9256 - val_loss: 1.4417 - val_accuracy: 0.6765\n",
      "Epoch 77/100\n",
      "167/167 [==============================] - 2s 10ms/step - loss: 0.2102 - accuracy: 0.9236 - val_loss: 1.4181 - val_accuracy: 0.6848\n",
      "Epoch 78/100\n",
      "167/167 [==============================] - 2s 10ms/step - loss: 0.2052 - accuracy: 0.9262 - val_loss: 1.5562 - val_accuracy: 0.6614\n",
      "Epoch 79/100\n",
      "167/167 [==============================] - 2s 10ms/step - loss: 0.2294 - accuracy: 0.9165 - val_loss: 1.4024 - val_accuracy: 0.6921\n",
      "Epoch 80/100\n",
      "167/167 [==============================] - 2s 10ms/step - loss: 0.2010 - accuracy: 0.9280 - val_loss: 1.6391 - val_accuracy: 0.6601\n",
      "Epoch 81/100\n",
      "167/167 [==============================] - 2s 10ms/step - loss: 0.2084 - accuracy: 0.9238 - val_loss: 1.6782 - val_accuracy: 0.6519\n",
      "Epoch 82/100\n",
      "167/167 [==============================] - 2s 10ms/step - loss: 0.2083 - accuracy: 0.9242 - val_loss: 1.6425 - val_accuracy: 0.6554\n",
      "Epoch 83/100\n",
      "167/167 [==============================] - 2s 10ms/step - loss: 0.2041 - accuracy: 0.9256 - val_loss: 1.8140 - val_accuracy: 0.6425\n",
      "Epoch 84/100\n",
      "167/167 [==============================] - 2s 10ms/step - loss: 0.2257 - accuracy: 0.9185 - val_loss: 2.3991 - val_accuracy: 0.5634\n",
      "Epoch 85/100\n",
      "167/167 [==============================] - 2s 10ms/step - loss: 0.2260 - accuracy: 0.9162 - val_loss: 1.4343 - val_accuracy: 0.6896\n",
      "Epoch 86/100\n",
      "167/167 [==============================] - 2s 10ms/step - loss: 0.1862 - accuracy: 0.9322 - val_loss: 2.4694 - val_accuracy: 0.5876\n",
      "Epoch 87/100\n",
      "167/167 [==============================] - 2s 10ms/step - loss: 0.2162 - accuracy: 0.9208 - val_loss: 1.8325 - val_accuracy: 0.6431\n",
      "Epoch 88/100\n",
      "167/167 [==============================] - 2s 10ms/step - loss: 0.2224 - accuracy: 0.9197 - val_loss: 1.4384 - val_accuracy: 0.6922\n",
      "Epoch 89/100\n",
      "167/167 [==============================] - 2s 10ms/step - loss: 0.1805 - accuracy: 0.9343 - val_loss: 1.8802 - val_accuracy: 0.6351\n",
      "Epoch 90/100\n",
      "167/167 [==============================] - 2s 10ms/step - loss: 0.2100 - accuracy: 0.9239 - val_loss: 1.5271 - val_accuracy: 0.6866\n",
      "Epoch 91/100\n",
      "167/167 [==============================] - 2s 10ms/step - loss: 0.1811 - accuracy: 0.9340 - val_loss: 2.3309 - val_accuracy: 0.5908\n",
      "Epoch 92/100\n",
      "167/167 [==============================] - 2s 10ms/step - loss: 0.2237 - accuracy: 0.9188 - val_loss: 1.5653 - val_accuracy: 0.6735\n",
      "Epoch 93/100\n",
      "167/167 [==============================] - 2s 10ms/step - loss: 0.1800 - accuracy: 0.9334 - val_loss: 2.2409 - val_accuracy: 0.6004\n",
      "Epoch 94/100\n",
      "167/167 [==============================] - 2s 10ms/step - loss: 0.2031 - accuracy: 0.9254 - val_loss: 1.5003 - val_accuracy: 0.6950\n",
      "Epoch 95/100\n",
      "167/167 [==============================] - 2s 10ms/step - loss: 0.1756 - accuracy: 0.9350 - val_loss: 2.3165 - val_accuracy: 0.6001\n",
      "Epoch 96/100\n",
      "167/167 [==============================] - 2s 10ms/step - loss: 0.2036 - accuracy: 0.9258 - val_loss: 1.4823 - val_accuracy: 0.6906\n",
      "Epoch 97/100\n",
      "167/167 [==============================] - 2s 10ms/step - loss: 0.1703 - accuracy: 0.9378 - val_loss: 1.5724 - val_accuracy: 0.6850\n",
      "Epoch 98/100\n",
      "167/167 [==============================] - 2s 10ms/step - loss: 0.1748 - accuracy: 0.9380 - val_loss: 1.5290 - val_accuracy: 0.6931\n",
      "Epoch 99/100\n",
      "167/167 [==============================] - 2s 10ms/step - loss: 0.1676 - accuracy: 0.9393 - val_loss: 1.6180 - val_accuracy: 0.6746\n",
      "Epoch 100/100\n",
      "167/167 [==============================] - 2s 10ms/step - loss: 0.1715 - accuracy: 0.9383 - val_loss: 1.6307 - val_accuracy: 0.6824\n",
      "Overwrite existing model file? (yes/no)?yes\n",
      "file has been saved\n"
     ]
    }
   ],
   "source": [
    "# asking user if retraining of the model should be performed \n",
    "answer = input('Retrain CNN model (yes/no)?')\n",
    "if answer == 'yes':\n",
    "    CNN_Final_Model= Sequential()\n",
    "    \n",
    "    CNN_Final_Model.add(Conv2D(filters=64, kernel_size=(3,3), activation='relu', input_shape=(32, 32, 3)))\n",
    "    CNN_Final_Model.add(MaxPooling2D())\n",
    "    CNN_Final_Model.add(Dropout(0.2))\n",
    "    CNN_Final_Model.add(Conv2D(filters=64, kernel_size=(3,3), activation='relu'))\n",
    "    CNN_Final_Model.add(Dropout(0.1))\n",
    "    CNN_Final_Model.add(Flatten())\n",
    "    CNN_Final_Model.add(Dense(10, activation='softmax'))\n",
    "    CNN_Final_Model.compile(loss='categorical_crossentropy', metrics=['accuracy'], optimizer='nadam')\n",
    "    CNN_Final_Model.summary()\n",
    "    hist_finalCNN = CNN_Final_Model.fit(X_train, y_train, epochs=100, batch_size=256, validation_data=(X_test,y_test))\n",
    "    if(os.path.isfile(\"/content/drive/My Drive/CITS5508/Ankit_Kamboj_CNN_Final.h5\")):\n",
    "        answer = input('Overwrite existing model file? (yes/no)?')\n",
    "        if answer == 'yes':\n",
    "            CNN_Final_Model.save(\"/content/drive/My Drive/CITS5508/Ankit_Kamboj_CNN_Final.h5\")\n",
    "            print(\"file has been saved\")\n",
    "        else:\n",
    "            CNN_Final_Model = load_model(\"/content/drive/My Drive/CITS5508/Ankit_Kamboj_CNN_Final.h5\")\n",
    "            print(\"Previous file loaded\")\n",
    "    else:\n",
    "      CNN_Final_Model.save(\"/content/drive/My Drive/CITS5508/Ankit_Kamboj_CNN_Final.h5\")\n",
    "else:\n",
    "    CNN_Final_Model = load_model(\"/content/drive/My Drive/CITS5508/Ankit_Kamboj_CNN_Final.h5\")\n",
    "    CNN_Final_Model.summary()\n",
    "    hist_finalCNN = CNN_Final_Model.fit(X_train, y_train,epochs=1,batch_size=256,validation_data=(X_test,y_test))\n",
    "    print(\"existing model loaded from file\")"
   ]
  },
  {
   "cell_type": "code",
   "execution_count": 212,
   "metadata": {
    "colab": {
     "base_uri": "https://localhost:8080/"
    },
    "id": "G9h1x4PyQq8h",
    "outputId": "6d861712-2c80-4775-91c5-b25d0d4b2d58"
   },
   "outputs": [
    {
     "name": "stdout",
     "output_type": "stream",
     "text": [
      "313/313 [==============================] - 1s 3ms/step - loss: 1.6307 - accuracy: 0.6823\n"
     ]
    },
    {
     "data": {
      "text/plain": [
       "[1.630706787109375, 0.6822999715805054]"
      ]
     },
     "execution_count": 212,
     "metadata": {},
     "output_type": "execute_result"
    }
   ],
   "source": [
    "score_finalCNN_test_set = CNN_Final_Model.evaluate(X_test, y_test, verbose=1)\n",
    "score_finalCNN_test_set"
   ]
  },
  {
   "cell_type": "code",
   "execution_count": 213,
   "metadata": {
    "colab": {
     "base_uri": "https://localhost:8080/"
    },
    "id": "gVe1w_1hPqdg",
    "outputId": "342b7d9d-5a2b-4ed9-f1a4-f1a6497a5cbe"
   },
   "outputs": [
    {
     "name": "stdout",
     "output_type": "stream",
     "text": [
      "1329/1329 [==============================] - 4s 3ms/step - loss: 0.0992 - accuracy: 0.9657\n"
     ]
    },
    {
     "data": {
      "text/plain": [
       "[0.09915722906589508, 0.9657176733016968]"
      ]
     },
     "execution_count": 213,
     "metadata": {},
     "output_type": "execute_result"
    }
   ],
   "source": [
    "score_finalCNN_train_set = CNN_Final_Model.evaluate(X_train, y_train, verbose=1)\n",
    "score_finalCNN_train_set"
   ]
  },
  {
   "cell_type": "markdown",
   "metadata": {
    "id": "aSVz0vkowOyA"
   },
   "source": [
    "**Confusion matrix on final CNN model**"
   ]
  },
  {
   "cell_type": "markdown",
   "metadata": {
    "id": "RvvM1DOxwbOp"
   },
   "source": [
    "***Test Set***"
   ]
  },
  {
   "cell_type": "code",
   "execution_count": 82,
   "metadata": {
    "colab": {
     "base_uri": "https://localhost:8080/"
    },
    "id": "LoQbo6YYWwxK",
    "outputId": "60415316-06e4-4ae5-9a0c-bb1f8fea7459"
   },
   "outputs": [
    {
     "name": "stdout",
     "output_type": "stream",
     "text": [
      "Classification report \n",
      "=======================\n",
      "              precision    recall  f1-score   support\n",
      "\n",
      "           0       0.73      0.69      0.71      1000\n",
      "           1       0.82      0.80      0.81      1000\n",
      "           2       0.61      0.55      0.58      1000\n",
      "           3       0.49      0.46      0.48      1000\n",
      "           4       0.63      0.68      0.66      1000\n",
      "           5       0.53      0.64      0.58      1000\n",
      "           6       0.75      0.76      0.75      1000\n",
      "           7       0.76      0.73      0.74      1000\n",
      "           8       0.83      0.78      0.81      1000\n",
      "           9       0.75      0.79      0.77      1000\n",
      "\n",
      "    accuracy                           0.69     10000\n",
      "   macro avg       0.69      0.69      0.69     10000\n",
      "weighted avg       0.69      0.69      0.69     10000\n",
      "\n",
      "Confusion matrix \n",
      "=======================\n",
      "[[694  23  77  26  28  13  11  17  60  51]\n",
      " [ 27 801   6  12   6  12  10   1  22 103]\n",
      " [ 66   7 546  67 104  84  58  44  12  12]\n",
      " [ 17  12  68 459  76 237  73  33   9  16]\n",
      " [ 12   8  61  54 680  54  55  60  13   3]\n",
      " [ 12   4  47 160  43 639  21  51   9  14]\n",
      " [  5  11  42  70  53  39 757   5  11   7]\n",
      " [ 18   2  26  37  68  94   9 726   1  19]\n",
      " [ 67  34  14  24   8  16   7   4 783  43]\n",
      " [ 35  78  11  20   8  17   5  14  20 792]]\n"
     ]
    }
   ],
   "source": [
    "import itertools\n",
    "def full_confusion_matrix(model,title):\n",
    "    #getting original inputs\n",
    "    y_test_original=np.argmax(y_test,axis=1)\n",
    "    #predicting classes \n",
    "    y_pred = np.argmax(model.predict(X_test), axis=-1)\n",
    "\n",
    "    #Printing matrix\n",
    "    print(\"Classification report \\n=======================\")\n",
    "    print(classification_report(y_true=y_test_original, y_pred=y_pred))\n",
    "    print(\"Confusion matrix \\n=======================\")\n",
    "    print(confusion_matrix(y_true=y_test_original, y_pred=y_pred))\n",
    "\n",
    "    confusin_matrix = confusion_matrix(y_true=y_test_original, y_pred=y_pred)\n",
    "    np.set_printoptions(precision=2)\n",
    "\n",
    "\n",
    "full_confusion_matrix(CNN_Final_Model, 'CNN confusion matrix')"
   ]
  },
  {
   "cell_type": "markdown",
   "metadata": {
    "id": "IpvVIs9VwhAw"
   },
   "source": [
    "***Training Set***"
   ]
  },
  {
   "cell_type": "code",
   "execution_count": 83,
   "metadata": {
    "colab": {
     "base_uri": "https://localhost:8080/"
    },
    "id": "bmJYqPdPwkt3",
    "outputId": "3fefdb98-7e55-4ce5-b524-2bda5caffbba"
   },
   "outputs": [
    {
     "name": "stdout",
     "output_type": "stream",
     "text": [
      "Classification report \n",
      "=======================\n",
      "              precision    recall  f1-score   support\n",
      "\n",
      "           0       1.00      0.99      1.00      4239\n",
      "           1       1.00      1.00      1.00      4251\n",
      "           2       1.00      0.97      0.99      4285\n",
      "           3       0.99      0.98      0.99      4228\n",
      "           4       0.97      1.00      0.99      4271\n",
      "           5       0.98      0.99      0.99      4201\n",
      "           6       1.00      0.99      1.00      4262\n",
      "           7       1.00      1.00      1.00      4269\n",
      "           8       1.00      1.00      1.00      4250\n",
      "           9       1.00      1.00      1.00      4244\n",
      "\n",
      "    accuracy                           0.99     42500\n",
      "   macro avg       0.99      0.99      0.99     42500\n",
      "weighted avg       0.99      0.99      0.99     42500\n",
      "\n",
      "Confusion matrix \n",
      "=======================\n",
      "[[4217    1    3    1   10    3    1    1    2    0]\n",
      " [   0 4248    0    0    0    0    0    0    1    2]\n",
      " [   7    0 4176    6   66   20    7    3    0    0]\n",
      " [   0    0    6 4142   16   59    2    2    1    0]\n",
      " [   0    0    2    2 4266    0    1    0    0    0]\n",
      " [   0    1    1    8   12 4179    0    0    0    0]\n",
      " [   0    0    3    3   15    1 4240    0    0    0]\n",
      " [   0    0    2    2    5    5    0 4255    0    0]\n",
      " [   3    3    1    0    0    0    1    0 4240    2]\n",
      " [   0    0    0    0    0    0    0    1    0 4243]]\n"
     ]
    }
   ],
   "source": [
    "def full_confusion_matrix(model,title):\n",
    "    #getting original inputs\n",
    "    y_train_original=np.argmax(y_train,axis=1)\n",
    "    #predicting classes \n",
    "    y_pred = np.argmax(model.predict(X_train), axis=-1)\n",
    "\n",
    "    #Printing matrix\n",
    "    print(\"Classification report \\n=======================\")\n",
    "    print(classification_report(y_true=y_train_original, y_pred=y_pred))\n",
    "    print(\"Confusion matrix \\n=======================\")\n",
    "    print(confusion_matrix(y_true=y_train_original, y_pred=y_pred))\n",
    "\n",
    "    confusin_matrix = confusion_matrix(y_true=y_train_original, y_pred=y_pred)\n",
    "    np.set_printoptions(precision=2)\n",
    "\n",
    "\n",
    "full_confusion_matrix(CNN_Final_Model, 'CNN confusion matrix')"
   ]
  },
  {
   "cell_type": "markdown",
   "metadata": {
    "id": "u5kHpzuyyE_x"
   },
   "source": [
    "**few correctly classified and failure cases of image prediction of CNN model**"
   ]
  },
  {
   "cell_type": "code",
   "execution_count": 29,
   "metadata": {
    "colab": {
     "base_uri": "https://localhost:8080/",
     "height": 404
    },
    "id": "PMtCMAlnQ3GC",
    "outputId": "5655d155-d80c-4157-ba7e-7adfdc47ec3b"
   },
   "outputs": [
    {
     "data": {
      "image/png": "[encoded data removed]",
      "text/plain": [
       "<Figure size 720x432 with 8 Axes>"
      ]
     },
     "metadata": {
      "needs_background": "light"
     },
     "output_type": "display_data"
    }
   ],
   "source": [
    "def visualise_samples(model):\n",
    "    isx = np.random.randint(0, 10000, size=8)\n",
    "    xs_ib = X_test[isx]\n",
    "    zs_lbs = y_test[isx]\n",
    "    out_a = model.predict(xs_ib)\n",
    "    classes = np.argmax(out_a, axis=1)\n",
    "    figure, axes = plt.subplots(2, 4, figsize=(10, 6), sharey=True, sharex=True);\n",
    "    figure.suptitle(r'predicted (actual)')\n",
    "    k = 0\n",
    "    for i in range(2):\n",
    "        for j in range(4):\n",
    "            axis = axes[i, j]\n",
    "            axis.imshow(xs_ib[k]);\n",
    "            actual_lab = LABELS[np.argmax(zs_lbs[k])]\n",
    "            predicted_lab = LABELS[classes[k]]\n",
    "            title = \"{} ({})\".format(predicted_lab, actual_lab)\n",
    "            title_color = 'black'\n",
    "            if actual_lab != predicted_lab:\n",
    "                axis.plot(np.array([0, 32]), np.array([0, 32]), 'r-')\n",
    "                axis.plot(np.array([0, 32]), np.array([32, 0]), 'r-')\n",
    "                title_color = 'red'\n",
    "            axis.set_title(title, color=title_color);\n",
    "            axis.set_xlim(32, 0)\n",
    "            axis.set_ylim(32, 0)\n",
    "            k += 1\n",
    "visualise_samples(CNN_Final_Model)"
   ]
  },
  {
   "cell_type": "markdown",
   "metadata": {
    "id": "U7T7A63ifZlZ"
   },
   "source": [
    "**Compare MLP and CNN models**"
   ]
  },
  {
   "cell_type": "code",
   "execution_count": 253,
   "metadata": {
    "colab": {
     "base_uri": "https://localhost:8080/",
     "height": 402
    },
    "id": "3UZMkZyifYV_",
    "outputId": "ed1d08f6-65c0-4061-a90d-a725a09d8c89"
   },
   "outputs": [
    {
     "data": {
      "image/png": "[encoded data removed]",
      "text/plain": [
       "<Figure size 500x400 with 2 Axes>"
      ]
     },
     "metadata": {
      "needs_background": "light"
     },
     "output_type": "display_data"
    }
   ],
   "source": [
    "fig, axes = plt.subplots(2, 1, figsize=(5,4), dpi=100, sharex=True)\n",
    "\n",
    "x = np.arange(1, 1 + 100)\n",
    "\n",
    "ax = axes[0]\n",
    "ax.set_ylabel('Cross-Entropy Loss')\n",
    "ax.set_ylim(0.0, 3.0)\n",
    "ax.set_yticks(np.arange(0.0, 3.20, 0.4))\n",
    "ax.grid()\n",
    "ax.plot(x, Model_MLP_FINAL.history['loss'], 'b-', label='MLP training')\n",
    "ax.plot(x, Model_MLP_FINAL.history['val_loss'], 'b--', label='MLP validation')\n",
    "ax.plot(x, hist_finalCNN.history['loss'], 'r-', label='CNN training')\n",
    "ax.plot(x, hist_finalCNN.history['val_loss'], 'r--', label='CNN validation')\n",
    "\n",
    "ax = axes[1]\n",
    "ax.set_xlabel('Epoch')\n",
    "ax.set_xticks(np.array([0, 10, 20,30,40,50,60,70,80,90,100]));\n",
    "ax.set_ylabel('Accuracy')\n",
    "ax.set_ylim(0.2, 1.0)\n",
    "ax.set_yticks(np.arange(0.3, 1.0, 0.2))\n",
    "ax.grid()\n",
    "ax.plot(x, Model_MLP_FINAL.history['accuracy'], 'b-', label='MLP training')\n",
    "ax.plot(x, Model_MLP_FINAL.history['val_accuracy'], 'b--', label='MLP validation')\n",
    "ax.plot(x, hist_finalCNN.history['accuracy'], 'r-', label='CNN training')\n",
    "ax.plot(x, hist_finalCNN.history['val_accuracy'], 'r--', label='CNN validation')\n",
    "\n",
    "ax.legend(bbox_to_anchor=(0.5, -0.6), ncol=2, loc='center')\n",
    "\n",
    "fig.tight_layout()"
   ]
  }
 ],
 "metadata": {
  "accelerator": "GPU",
  "colab": {
   "collapsed_sections": [],
   "machine_shape": "hm",
   "name": "ML_project5.ipynb",
   "provenance": []
  },
  "kernelspec": {
   "display_name": "Python 3 (ipykernel)",
   "language": "python",
   "name": "python3"
  },
  "language_info": {
   "codemirror_mode": {
    "name": "ipython",
    "version": 3
   },
   "file_extension": ".py",
   "mimetype": "text/x-python",
   "name": "python",
   "nbconvert_exporter": "python",
   "pygments_lexer": "ipython3",
   "version": "3.9.7"
  }
 },
 "nbformat": 4,
 "nbformat_minor": 1
}
